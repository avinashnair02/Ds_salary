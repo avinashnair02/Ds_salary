{
 "cells": [
  {
   "cell_type": "code",
   "execution_count": 1,
   "metadata": {},
   "outputs": [],
   "source": [
    "import pandas as pd\n",
    "import matplotlib.pyplot as plt\n",
    "import numpy as np"
   ]
  },
  {
   "cell_type": "code",
   "execution_count": 2,
   "metadata": {},
   "outputs": [],
   "source": [
    "df=pd.read_csv('glassdoor_jobs_cleaned.csv')"
   ]
  },
  {
   "cell_type": "code",
   "execution_count": 3,
   "metadata": {},
   "outputs": [
    {
     "data": {
      "text/html": [
       "<div>\n",
       "<style scoped>\n",
       "    .dataframe tbody tr th:only-of-type {\n",
       "        vertical-align: middle;\n",
       "    }\n",
       "\n",
       "    .dataframe tbody tr th {\n",
       "        vertical-align: top;\n",
       "    }\n",
       "\n",
       "    .dataframe thead th {\n",
       "        text-align: right;\n",
       "    }\n",
       "</style>\n",
       "<table border=\"1\" class=\"dataframe\">\n",
       "  <thead>\n",
       "    <tr style=\"text-align: right;\">\n",
       "      <th></th>\n",
       "      <th>Job Title</th>\n",
       "      <th>Salary Estimate</th>\n",
       "      <th>Job Description</th>\n",
       "      <th>Rating</th>\n",
       "      <th>Company Name</th>\n",
       "      <th>Location</th>\n",
       "      <th>Headquarters</th>\n",
       "      <th>Size</th>\n",
       "      <th>Founded</th>\n",
       "      <th>Type of ownership</th>\n",
       "      <th>...</th>\n",
       "      <th>pytorch_yn</th>\n",
       "      <th>algo_yn</th>\n",
       "      <th>stats_yn</th>\n",
       "      <th>tableau_yn</th>\n",
       "      <th>job_type</th>\n",
       "      <th>job_type_num</th>\n",
       "      <th>seniority</th>\n",
       "      <th>seniority_num</th>\n",
       "      <th>len_desc</th>\n",
       "      <th>num_comp</th>\n",
       "    </tr>\n",
       "  </thead>\n",
       "  <tbody>\n",
       "    <tr>\n",
       "      <th>0</th>\n",
       "      <td>Data Scientist</td>\n",
       "      <td>$64K-$106K (Glassdoor est.)</td>\n",
       "      <td>Secure our Nation, Ignite your Future\\r\\n\\r\\nJ...</td>\n",
       "      <td>4.2</td>\n",
       "      <td>ManTech</td>\n",
       "      <td>Chantilly, VA</td>\n",
       "      <td>Herndon, VA</td>\n",
       "      <td>5001 to 10000 employees</td>\n",
       "      <td>1968</td>\n",
       "      <td>Company - Public</td>\n",
       "      <td>...</td>\n",
       "      <td>0</td>\n",
       "      <td>1</td>\n",
       "      <td>1</td>\n",
       "      <td>0</td>\n",
       "      <td>data scientist</td>\n",
       "      <td>3</td>\n",
       "      <td>na</td>\n",
       "      <td>2</td>\n",
       "      <td>3994</td>\n",
       "      <td>0</td>\n",
       "    </tr>\n",
       "    <tr>\n",
       "      <th>1</th>\n",
       "      <td>Associate Business Intelligence Data Scientist</td>\n",
       "      <td>$64K-$106K (Glassdoor est.)</td>\n",
       "      <td>Blending customer advisory, customer support, ...</td>\n",
       "      <td>3.2</td>\n",
       "      <td>Carousel Industries</td>\n",
       "      <td>Exeter, RI</td>\n",
       "      <td>Exeter, RI</td>\n",
       "      <td>1001 to 5000 employees</td>\n",
       "      <td>1992</td>\n",
       "      <td>Company - Private</td>\n",
       "      <td>...</td>\n",
       "      <td>0</td>\n",
       "      <td>0</td>\n",
       "      <td>1</td>\n",
       "      <td>1</td>\n",
       "      <td>data scientist</td>\n",
       "      <td>3</td>\n",
       "      <td>na</td>\n",
       "      <td>2</td>\n",
       "      <td>5396</td>\n",
       "      <td>0</td>\n",
       "    </tr>\n",
       "    <tr>\n",
       "      <th>2</th>\n",
       "      <td>Scientist, Population Genomics</td>\n",
       "      <td>$64K-$106K (Glassdoor est.)</td>\n",
       "      <td>WuXi NextCODE is seeking a motivated Scientist...</td>\n",
       "      <td>2.9</td>\n",
       "      <td>Carousel Industries</td>\n",
       "      <td>Cambridge, MA</td>\n",
       "      <td>Cambridge, MA</td>\n",
       "      <td>501 to 1000 employees</td>\n",
       "      <td>2015</td>\n",
       "      <td>Company - Private</td>\n",
       "      <td>...</td>\n",
       "      <td>0</td>\n",
       "      <td>0</td>\n",
       "      <td>1</td>\n",
       "      <td>0</td>\n",
       "      <td>na</td>\n",
       "      <td>7</td>\n",
       "      <td>na</td>\n",
       "      <td>2</td>\n",
       "      <td>3203</td>\n",
       "      <td>0</td>\n",
       "    </tr>\n",
       "    <tr>\n",
       "      <th>3</th>\n",
       "      <td>Data Analyst II</td>\n",
       "      <td>$64K-$106K (Glassdoor est.)</td>\n",
       "      <td>The Data Analyst II is responsible for data en...</td>\n",
       "      <td>4.2</td>\n",
       "      <td>Insight Enterprises, Inc.</td>\n",
       "      <td>Plano, TX</td>\n",
       "      <td>Tempe, AZ</td>\n",
       "      <td>5001 to 10000 employees</td>\n",
       "      <td>1988</td>\n",
       "      <td>Company - Public</td>\n",
       "      <td>...</td>\n",
       "      <td>0</td>\n",
       "      <td>0</td>\n",
       "      <td>0</td>\n",
       "      <td>0</td>\n",
       "      <td>analyst</td>\n",
       "      <td>1</td>\n",
       "      <td>na</td>\n",
       "      <td>2</td>\n",
       "      <td>4282</td>\n",
       "      <td>3</td>\n",
       "    </tr>\n",
       "    <tr>\n",
       "      <th>4</th>\n",
       "      <td>Sensory Scientist</td>\n",
       "      <td>$64K-$106K (Glassdoor est.)</td>\n",
       "      <td>A leading food production company in St. Louis...</td>\n",
       "      <td>3.8</td>\n",
       "      <td>NIC Infotek</td>\n",
       "      <td>Saint Louis, MO</td>\n",
       "      <td>Tampa, FL</td>\n",
       "      <td>51 to 200 employees</td>\n",
       "      <td>2004</td>\n",
       "      <td>Company - Public</td>\n",
       "      <td>...</td>\n",
       "      <td>0</td>\n",
       "      <td>0</td>\n",
       "      <td>1</td>\n",
       "      <td>0</td>\n",
       "      <td>na</td>\n",
       "      <td>7</td>\n",
       "      <td>na</td>\n",
       "      <td>2</td>\n",
       "      <td>1852</td>\n",
       "      <td>0</td>\n",
       "    </tr>\n",
       "  </tbody>\n",
       "</table>\n",
       "<p>5 rows × 42 columns</p>\n",
       "</div>"
      ],
      "text/plain": [
       "                                        Job Title  \\\n",
       "0                                  Data Scientist   \n",
       "1  Associate Business Intelligence Data Scientist   \n",
       "2                  Scientist, Population Genomics   \n",
       "3                                 Data Analyst II   \n",
       "4                               Sensory Scientist   \n",
       "\n",
       "               Salary Estimate  \\\n",
       "0  $64K-$106K (Glassdoor est.)   \n",
       "1  $64K-$106K (Glassdoor est.)   \n",
       "2  $64K-$106K (Glassdoor est.)   \n",
       "3  $64K-$106K (Glassdoor est.)   \n",
       "4  $64K-$106K (Glassdoor est.)   \n",
       "\n",
       "                                     Job Description  Rating  \\\n",
       "0  Secure our Nation, Ignite your Future\\r\\n\\r\\nJ...     4.2   \n",
       "1  Blending customer advisory, customer support, ...     3.2   \n",
       "2  WuXi NextCODE is seeking a motivated Scientist...     2.9   \n",
       "3  The Data Analyst II is responsible for data en...     4.2   \n",
       "4  A leading food production company in St. Louis...     3.8   \n",
       "\n",
       "                Company Name         Location   Headquarters  \\\n",
       "0                    ManTech    Chantilly, VA    Herndon, VA   \n",
       "1        Carousel Industries       Exeter, RI     Exeter, RI   \n",
       "2        Carousel Industries    Cambridge, MA  Cambridge, MA   \n",
       "3  Insight Enterprises, Inc.        Plano, TX      Tempe, AZ   \n",
       "4                NIC Infotek  Saint Louis, MO      Tampa, FL   \n",
       "\n",
       "                      Size  Founded  Type of ownership  ... pytorch_yn  \\\n",
       "0  5001 to 10000 employees     1968   Company - Public  ...          0   \n",
       "1   1001 to 5000 employees     1992  Company - Private  ...          0   \n",
       "2    501 to 1000 employees     2015  Company - Private  ...          0   \n",
       "3  5001 to 10000 employees     1988   Company - Public  ...          0   \n",
       "4      51 to 200 employees     2004   Company - Public  ...          0   \n",
       "\n",
       "  algo_yn stats_yn tableau_yn        job_type  job_type_num  seniority  \\\n",
       "0       1        1          0  data scientist             3         na   \n",
       "1       0        1          1  data scientist             3         na   \n",
       "2       0        1          0              na             7         na   \n",
       "3       0        0          0         analyst             1         na   \n",
       "4       0        1          0              na             7         na   \n",
       "\n",
       "  seniority_num  len_desc  num_comp  \n",
       "0             2      3994         0  \n",
       "1             2      5396         0  \n",
       "2             2      3203         0  \n",
       "3             2      4282         3  \n",
       "4             2      1852         0  \n",
       "\n",
       "[5 rows x 42 columns]"
      ]
     },
     "execution_count": 3,
     "metadata": {},
     "output_type": "execute_result"
    }
   ],
   "source": [
    "df.head()"
   ]
  },
  {
   "cell_type": "code",
   "execution_count": 4,
   "metadata": {},
   "outputs": [
    {
     "data": {
      "text/plain": [
       "(940, 42)"
      ]
     },
     "execution_count": 4,
     "metadata": {},
     "output_type": "execute_result"
    }
   ],
   "source": [
    "df.shape"
   ]
  },
  {
   "cell_type": "code",
   "execution_count": 5,
   "metadata": {},
   "outputs": [
    {
     "data": {
      "text/plain": [
       "Index(['Job Title', 'Salary Estimate', 'Job Description', 'Rating',\n",
       "       'Company Name', 'Location', 'Headquarters', 'Size', 'Founded',\n",
       "       'Type of ownership', 'Industry', 'Sector', 'Revenue', 'Competitors',\n",
       "       'min_salary', 'max_salary', 'avg_salary', 'State', 'jobhq', 'age',\n",
       "       'python_yn', 'r_yn', 'aws_yn', 'spark_yn', 'hadoop_yn', 'docker_yn',\n",
       "       'sql_yn', 'linux_yn', 'flask_yn', 'django_yn', 'tensorflow_yn',\n",
       "       'keras_yn', 'pytorch_yn', 'algo_yn', 'stats_yn', 'tableau_yn',\n",
       "       'job_type', 'job_type_num', 'seniority', 'seniority_num', 'len_desc',\n",
       "       'num_comp'],\n",
       "      dtype='object')"
      ]
     },
     "execution_count": 5,
     "metadata": {},
     "output_type": "execute_result"
    }
   ],
   "source": [
    "df.columns\n"
   ]
  },
  {
   "cell_type": "markdown",
   "metadata": {},
   "source": [
    "For model building only numerical values are needed,It is possible to use one-hot encoding and passing on \n",
    "those encodings to the final application program to use categorical \n",
    "variables as well, but for now, the simplified model should suffice."
   ]
  },
  {
   "cell_type": "code",
   "execution_count": 6,
   "metadata": {},
   "outputs": [],
   "source": [
    "# declaring a model varibale \n",
    "df_model=df[['avg_salary','Rating','jobhq','age','num_comp',\n",
    "             'python_yn', 'r_yn', 'aws_yn', 'spark_yn', 'hadoop_yn', 'docker_yn','sql_yn', 'linux_yn',\n",
    "             'flask_yn', 'django_yn', 'tensorflow_yn','keras_yn', 'pytorch_yn', 'tableau_yn',\n",
    "             'algo_yn', 'stats_yn','len_desc','job_type_num','seniority_num']]"
   ]
  },
  {
   "cell_type": "code",
   "execution_count": 7,
   "metadata": {},
   "outputs": [
    {
     "data": {
      "text/html": [
       "<div>\n",
       "<style scoped>\n",
       "    .dataframe tbody tr th:only-of-type {\n",
       "        vertical-align: middle;\n",
       "    }\n",
       "\n",
       "    .dataframe tbody tr th {\n",
       "        vertical-align: top;\n",
       "    }\n",
       "\n",
       "    .dataframe thead th {\n",
       "        text-align: right;\n",
       "    }\n",
       "</style>\n",
       "<table border=\"1\" class=\"dataframe\">\n",
       "  <thead>\n",
       "    <tr style=\"text-align: right;\">\n",
       "      <th></th>\n",
       "      <th>avg_salary</th>\n",
       "      <th>Rating</th>\n",
       "      <th>jobhq</th>\n",
       "      <th>age</th>\n",
       "      <th>num_comp</th>\n",
       "      <th>python_yn</th>\n",
       "      <th>r_yn</th>\n",
       "      <th>aws_yn</th>\n",
       "      <th>spark_yn</th>\n",
       "      <th>hadoop_yn</th>\n",
       "      <th>...</th>\n",
       "      <th>django_yn</th>\n",
       "      <th>tensorflow_yn</th>\n",
       "      <th>keras_yn</th>\n",
       "      <th>pytorch_yn</th>\n",
       "      <th>tableau_yn</th>\n",
       "      <th>algo_yn</th>\n",
       "      <th>stats_yn</th>\n",
       "      <th>len_desc</th>\n",
       "      <th>job_type_num</th>\n",
       "      <th>seniority_num</th>\n",
       "    </tr>\n",
       "  </thead>\n",
       "  <tbody>\n",
       "    <tr>\n",
       "      <th>0</th>\n",
       "      <td>85.0</td>\n",
       "      <td>4.2</td>\n",
       "      <td>0</td>\n",
       "      <td>53</td>\n",
       "      <td>0</td>\n",
       "      <td>0</td>\n",
       "      <td>1</td>\n",
       "      <td>0</td>\n",
       "      <td>0</td>\n",
       "      <td>1</td>\n",
       "      <td>...</td>\n",
       "      <td>0</td>\n",
       "      <td>0</td>\n",
       "      <td>0</td>\n",
       "      <td>0</td>\n",
       "      <td>0</td>\n",
       "      <td>1</td>\n",
       "      <td>1</td>\n",
       "      <td>3994</td>\n",
       "      <td>3</td>\n",
       "      <td>2</td>\n",
       "    </tr>\n",
       "    <tr>\n",
       "      <th>1</th>\n",
       "      <td>85.0</td>\n",
       "      <td>3.2</td>\n",
       "      <td>1</td>\n",
       "      <td>29</td>\n",
       "      <td>0</td>\n",
       "      <td>1</td>\n",
       "      <td>1</td>\n",
       "      <td>0</td>\n",
       "      <td>0</td>\n",
       "      <td>0</td>\n",
       "      <td>...</td>\n",
       "      <td>0</td>\n",
       "      <td>0</td>\n",
       "      <td>0</td>\n",
       "      <td>0</td>\n",
       "      <td>1</td>\n",
       "      <td>0</td>\n",
       "      <td>1</td>\n",
       "      <td>5396</td>\n",
       "      <td>3</td>\n",
       "      <td>2</td>\n",
       "    </tr>\n",
       "    <tr>\n",
       "      <th>2</th>\n",
       "      <td>85.0</td>\n",
       "      <td>2.9</td>\n",
       "      <td>1</td>\n",
       "      <td>6</td>\n",
       "      <td>0</td>\n",
       "      <td>1</td>\n",
       "      <td>1</td>\n",
       "      <td>0</td>\n",
       "      <td>0</td>\n",
       "      <td>0</td>\n",
       "      <td>...</td>\n",
       "      <td>0</td>\n",
       "      <td>0</td>\n",
       "      <td>0</td>\n",
       "      <td>0</td>\n",
       "      <td>0</td>\n",
       "      <td>0</td>\n",
       "      <td>1</td>\n",
       "      <td>3203</td>\n",
       "      <td>7</td>\n",
       "      <td>2</td>\n",
       "    </tr>\n",
       "    <tr>\n",
       "      <th>3</th>\n",
       "      <td>85.0</td>\n",
       "      <td>4.2</td>\n",
       "      <td>0</td>\n",
       "      <td>33</td>\n",
       "      <td>3</td>\n",
       "      <td>0</td>\n",
       "      <td>1</td>\n",
       "      <td>0</td>\n",
       "      <td>0</td>\n",
       "      <td>0</td>\n",
       "      <td>...</td>\n",
       "      <td>0</td>\n",
       "      <td>0</td>\n",
       "      <td>0</td>\n",
       "      <td>0</td>\n",
       "      <td>0</td>\n",
       "      <td>0</td>\n",
       "      <td>0</td>\n",
       "      <td>4282</td>\n",
       "      <td>1</td>\n",
       "      <td>2</td>\n",
       "    </tr>\n",
       "    <tr>\n",
       "      <th>4</th>\n",
       "      <td>85.0</td>\n",
       "      <td>3.8</td>\n",
       "      <td>0</td>\n",
       "      <td>17</td>\n",
       "      <td>0</td>\n",
       "      <td>0</td>\n",
       "      <td>1</td>\n",
       "      <td>0</td>\n",
       "      <td>0</td>\n",
       "      <td>0</td>\n",
       "      <td>...</td>\n",
       "      <td>0</td>\n",
       "      <td>0</td>\n",
       "      <td>0</td>\n",
       "      <td>0</td>\n",
       "      <td>0</td>\n",
       "      <td>0</td>\n",
       "      <td>1</td>\n",
       "      <td>1852</td>\n",
       "      <td>7</td>\n",
       "      <td>2</td>\n",
       "    </tr>\n",
       "  </tbody>\n",
       "</table>\n",
       "<p>5 rows × 24 columns</p>\n",
       "</div>"
      ],
      "text/plain": [
       "   avg_salary  Rating  jobhq  age  num_comp  python_yn  r_yn  aws_yn  \\\n",
       "0        85.0     4.2      0   53         0          0     1       0   \n",
       "1        85.0     3.2      1   29         0          1     1       0   \n",
       "2        85.0     2.9      1    6         0          1     1       0   \n",
       "3        85.0     4.2      0   33         3          0     1       0   \n",
       "4        85.0     3.8      0   17         0          0     1       0   \n",
       "\n",
       "   spark_yn  hadoop_yn  ...  django_yn  tensorflow_yn  keras_yn  pytorch_yn  \\\n",
       "0         0          1  ...          0              0         0           0   \n",
       "1         0          0  ...          0              0         0           0   \n",
       "2         0          0  ...          0              0         0           0   \n",
       "3         0          0  ...          0              0         0           0   \n",
       "4         0          0  ...          0              0         0           0   \n",
       "\n",
       "   tableau_yn  algo_yn  stats_yn  len_desc  job_type_num  seniority_num  \n",
       "0           0        1         1      3994             3              2  \n",
       "1           1        0         1      5396             3              2  \n",
       "2           0        0         1      3203             7              2  \n",
       "3           0        0         0      4282             1              2  \n",
       "4           0        0         1      1852             7              2  \n",
       "\n",
       "[5 rows x 24 columns]"
      ]
     },
     "execution_count": 7,
     "metadata": {},
     "output_type": "execute_result"
    }
   ],
   "source": [
    "df_model.head()"
   ]
  },
  {
   "cell_type": "code",
   "execution_count": 8,
   "metadata": {},
   "outputs": [],
   "source": [
    "#Getiing out the dummies"
   ]
  },
  {
   "cell_type": "code",
   "execution_count": 9,
   "metadata": {},
   "outputs": [
    {
     "data": {
      "text/html": [
       "<div>\n",
       "<style scoped>\n",
       "    .dataframe tbody tr th:only-of-type {\n",
       "        vertical-align: middle;\n",
       "    }\n",
       "\n",
       "    .dataframe tbody tr th {\n",
       "        vertical-align: top;\n",
       "    }\n",
       "\n",
       "    .dataframe thead th {\n",
       "        text-align: right;\n",
       "    }\n",
       "</style>\n",
       "<table border=\"1\" class=\"dataframe\">\n",
       "  <thead>\n",
       "    <tr style=\"text-align: right;\">\n",
       "      <th></th>\n",
       "      <th>avg_salary</th>\n",
       "      <th>Rating</th>\n",
       "      <th>jobhq</th>\n",
       "      <th>age</th>\n",
       "      <th>num_comp</th>\n",
       "      <th>python_yn</th>\n",
       "      <th>r_yn</th>\n",
       "      <th>aws_yn</th>\n",
       "      <th>spark_yn</th>\n",
       "      <th>hadoop_yn</th>\n",
       "      <th>...</th>\n",
       "      <th>django_yn</th>\n",
       "      <th>tensorflow_yn</th>\n",
       "      <th>keras_yn</th>\n",
       "      <th>pytorch_yn</th>\n",
       "      <th>tableau_yn</th>\n",
       "      <th>algo_yn</th>\n",
       "      <th>stats_yn</th>\n",
       "      <th>len_desc</th>\n",
       "      <th>job_type_num</th>\n",
       "      <th>seniority_num</th>\n",
       "    </tr>\n",
       "  </thead>\n",
       "  <tbody>\n",
       "    <tr>\n",
       "      <th>0</th>\n",
       "      <td>85.0</td>\n",
       "      <td>4.2</td>\n",
       "      <td>0</td>\n",
       "      <td>53</td>\n",
       "      <td>0</td>\n",
       "      <td>0</td>\n",
       "      <td>1</td>\n",
       "      <td>0</td>\n",
       "      <td>0</td>\n",
       "      <td>1</td>\n",
       "      <td>...</td>\n",
       "      <td>0</td>\n",
       "      <td>0</td>\n",
       "      <td>0</td>\n",
       "      <td>0</td>\n",
       "      <td>0</td>\n",
       "      <td>1</td>\n",
       "      <td>1</td>\n",
       "      <td>3994</td>\n",
       "      <td>3</td>\n",
       "      <td>2</td>\n",
       "    </tr>\n",
       "    <tr>\n",
       "      <th>1</th>\n",
       "      <td>85.0</td>\n",
       "      <td>3.2</td>\n",
       "      <td>1</td>\n",
       "      <td>29</td>\n",
       "      <td>0</td>\n",
       "      <td>1</td>\n",
       "      <td>1</td>\n",
       "      <td>0</td>\n",
       "      <td>0</td>\n",
       "      <td>0</td>\n",
       "      <td>...</td>\n",
       "      <td>0</td>\n",
       "      <td>0</td>\n",
       "      <td>0</td>\n",
       "      <td>0</td>\n",
       "      <td>1</td>\n",
       "      <td>0</td>\n",
       "      <td>1</td>\n",
       "      <td>5396</td>\n",
       "      <td>3</td>\n",
       "      <td>2</td>\n",
       "    </tr>\n",
       "    <tr>\n",
       "      <th>2</th>\n",
       "      <td>85.0</td>\n",
       "      <td>2.9</td>\n",
       "      <td>1</td>\n",
       "      <td>6</td>\n",
       "      <td>0</td>\n",
       "      <td>1</td>\n",
       "      <td>1</td>\n",
       "      <td>0</td>\n",
       "      <td>0</td>\n",
       "      <td>0</td>\n",
       "      <td>...</td>\n",
       "      <td>0</td>\n",
       "      <td>0</td>\n",
       "      <td>0</td>\n",
       "      <td>0</td>\n",
       "      <td>0</td>\n",
       "      <td>0</td>\n",
       "      <td>1</td>\n",
       "      <td>3203</td>\n",
       "      <td>7</td>\n",
       "      <td>2</td>\n",
       "    </tr>\n",
       "    <tr>\n",
       "      <th>3</th>\n",
       "      <td>85.0</td>\n",
       "      <td>4.2</td>\n",
       "      <td>0</td>\n",
       "      <td>33</td>\n",
       "      <td>3</td>\n",
       "      <td>0</td>\n",
       "      <td>1</td>\n",
       "      <td>0</td>\n",
       "      <td>0</td>\n",
       "      <td>0</td>\n",
       "      <td>...</td>\n",
       "      <td>0</td>\n",
       "      <td>0</td>\n",
       "      <td>0</td>\n",
       "      <td>0</td>\n",
       "      <td>0</td>\n",
       "      <td>0</td>\n",
       "      <td>0</td>\n",
       "      <td>4282</td>\n",
       "      <td>1</td>\n",
       "      <td>2</td>\n",
       "    </tr>\n",
       "    <tr>\n",
       "      <th>4</th>\n",
       "      <td>85.0</td>\n",
       "      <td>3.8</td>\n",
       "      <td>0</td>\n",
       "      <td>17</td>\n",
       "      <td>0</td>\n",
       "      <td>0</td>\n",
       "      <td>1</td>\n",
       "      <td>0</td>\n",
       "      <td>0</td>\n",
       "      <td>0</td>\n",
       "      <td>...</td>\n",
       "      <td>0</td>\n",
       "      <td>0</td>\n",
       "      <td>0</td>\n",
       "      <td>0</td>\n",
       "      <td>0</td>\n",
       "      <td>0</td>\n",
       "      <td>1</td>\n",
       "      <td>1852</td>\n",
       "      <td>7</td>\n",
       "      <td>2</td>\n",
       "    </tr>\n",
       "    <tr>\n",
       "      <th>...</th>\n",
       "      <td>...</td>\n",
       "      <td>...</td>\n",
       "      <td>...</td>\n",
       "      <td>...</td>\n",
       "      <td>...</td>\n",
       "      <td>...</td>\n",
       "      <td>...</td>\n",
       "      <td>...</td>\n",
       "      <td>...</td>\n",
       "      <td>...</td>\n",
       "      <td>...</td>\n",
       "      <td>...</td>\n",
       "      <td>...</td>\n",
       "      <td>...</td>\n",
       "      <td>...</td>\n",
       "      <td>...</td>\n",
       "      <td>...</td>\n",
       "      <td>...</td>\n",
       "      <td>...</td>\n",
       "      <td>...</td>\n",
       "      <td>...</td>\n",
       "    </tr>\n",
       "    <tr>\n",
       "      <th>935</th>\n",
       "      <td>126.0</td>\n",
       "      <td>3.6</td>\n",
       "      <td>1</td>\n",
       "      <td>7</td>\n",
       "      <td>3</td>\n",
       "      <td>1</td>\n",
       "      <td>1</td>\n",
       "      <td>0</td>\n",
       "      <td>0</td>\n",
       "      <td>0</td>\n",
       "      <td>...</td>\n",
       "      <td>0</td>\n",
       "      <td>0</td>\n",
       "      <td>0</td>\n",
       "      <td>0</td>\n",
       "      <td>0</td>\n",
       "      <td>0</td>\n",
       "      <td>0</td>\n",
       "      <td>2126</td>\n",
       "      <td>3</td>\n",
       "      <td>2</td>\n",
       "    </tr>\n",
       "    <tr>\n",
       "      <th>936</th>\n",
       "      <td>126.0</td>\n",
       "      <td>2.9</td>\n",
       "      <td>0</td>\n",
       "      <td>7</td>\n",
       "      <td>0</td>\n",
       "      <td>1</td>\n",
       "      <td>1</td>\n",
       "      <td>0</td>\n",
       "      <td>0</td>\n",
       "      <td>0</td>\n",
       "      <td>...</td>\n",
       "      <td>0</td>\n",
       "      <td>1</td>\n",
       "      <td>0</td>\n",
       "      <td>0</td>\n",
       "      <td>0</td>\n",
       "      <td>0</td>\n",
       "      <td>1</td>\n",
       "      <td>2926</td>\n",
       "      <td>3</td>\n",
       "      <td>2</td>\n",
       "    </tr>\n",
       "    <tr>\n",
       "      <th>937</th>\n",
       "      <td>126.0</td>\n",
       "      <td>3.1</td>\n",
       "      <td>0</td>\n",
       "      <td>180</td>\n",
       "      <td>2</td>\n",
       "      <td>1</td>\n",
       "      <td>1</td>\n",
       "      <td>0</td>\n",
       "      <td>0</td>\n",
       "      <td>0</td>\n",
       "      <td>...</td>\n",
       "      <td>0</td>\n",
       "      <td>0</td>\n",
       "      <td>0</td>\n",
       "      <td>0</td>\n",
       "      <td>0</td>\n",
       "      <td>0</td>\n",
       "      <td>1</td>\n",
       "      <td>3556</td>\n",
       "      <td>3</td>\n",
       "      <td>2</td>\n",
       "    </tr>\n",
       "    <tr>\n",
       "      <th>938</th>\n",
       "      <td>126.0</td>\n",
       "      <td>4.9</td>\n",
       "      <td>1</td>\n",
       "      <td>5</td>\n",
       "      <td>0</td>\n",
       "      <td>1</td>\n",
       "      <td>1</td>\n",
       "      <td>0</td>\n",
       "      <td>1</td>\n",
       "      <td>1</td>\n",
       "      <td>...</td>\n",
       "      <td>0</td>\n",
       "      <td>0</td>\n",
       "      <td>0</td>\n",
       "      <td>0</td>\n",
       "      <td>0</td>\n",
       "      <td>1</td>\n",
       "      <td>1</td>\n",
       "      <td>3709</td>\n",
       "      <td>3</td>\n",
       "      <td>2</td>\n",
       "    </tr>\n",
       "    <tr>\n",
       "      <th>939</th>\n",
       "      <td>126.0</td>\n",
       "      <td>3.8</td>\n",
       "      <td>0</td>\n",
       "      <td>6</td>\n",
       "      <td>2</td>\n",
       "      <td>1</td>\n",
       "      <td>1</td>\n",
       "      <td>0</td>\n",
       "      <td>0</td>\n",
       "      <td>0</td>\n",
       "      <td>...</td>\n",
       "      <td>0</td>\n",
       "      <td>0</td>\n",
       "      <td>0</td>\n",
       "      <td>0</td>\n",
       "      <td>0</td>\n",
       "      <td>1</td>\n",
       "      <td>1</td>\n",
       "      <td>6249</td>\n",
       "      <td>3</td>\n",
       "      <td>2</td>\n",
       "    </tr>\n",
       "  </tbody>\n",
       "</table>\n",
       "<p>940 rows × 24 columns</p>\n",
       "</div>"
      ],
      "text/plain": [
       "     avg_salary  Rating  jobhq  age  num_comp  python_yn  r_yn  aws_yn  \\\n",
       "0          85.0     4.2      0   53         0          0     1       0   \n",
       "1          85.0     3.2      1   29         0          1     1       0   \n",
       "2          85.0     2.9      1    6         0          1     1       0   \n",
       "3          85.0     4.2      0   33         3          0     1       0   \n",
       "4          85.0     3.8      0   17         0          0     1       0   \n",
       "..          ...     ...    ...  ...       ...        ...   ...     ...   \n",
       "935       126.0     3.6      1    7         3          1     1       0   \n",
       "936       126.0     2.9      0    7         0          1     1       0   \n",
       "937       126.0     3.1      0  180         2          1     1       0   \n",
       "938       126.0     4.9      1    5         0          1     1       0   \n",
       "939       126.0     3.8      0    6         2          1     1       0   \n",
       "\n",
       "     spark_yn  hadoop_yn  ...  django_yn  tensorflow_yn  keras_yn  pytorch_yn  \\\n",
       "0           0          1  ...          0              0         0           0   \n",
       "1           0          0  ...          0              0         0           0   \n",
       "2           0          0  ...          0              0         0           0   \n",
       "3           0          0  ...          0              0         0           0   \n",
       "4           0          0  ...          0              0         0           0   \n",
       "..        ...        ...  ...        ...            ...       ...         ...   \n",
       "935         0          0  ...          0              0         0           0   \n",
       "936         0          0  ...          0              1         0           0   \n",
       "937         0          0  ...          0              0         0           0   \n",
       "938         1          1  ...          0              0         0           0   \n",
       "939         0          0  ...          0              0         0           0   \n",
       "\n",
       "     tableau_yn  algo_yn  stats_yn  len_desc  job_type_num  seniority_num  \n",
       "0             0        1         1      3994             3              2  \n",
       "1             1        0         1      5396             3              2  \n",
       "2             0        0         1      3203             7              2  \n",
       "3             0        0         0      4282             1              2  \n",
       "4             0        0         1      1852             7              2  \n",
       "..          ...      ...       ...       ...           ...            ...  \n",
       "935           0        0         0      2126             3              2  \n",
       "936           0        0         1      2926             3              2  \n",
       "937           0        0         1      3556             3              2  \n",
       "938           0        1         1      3709             3              2  \n",
       "939           0        1         1      6249             3              2  \n",
       "\n",
       "[940 rows x 24 columns]"
      ]
     },
     "execution_count": 9,
     "metadata": {},
     "output_type": "execute_result"
    }
   ],
   "source": [
    "df_dum=pd.get_dummies(df_model)\n",
    "df_dum"
   ]
  },
  {
   "cell_type": "code",
   "execution_count": 10,
   "metadata": {},
   "outputs": [],
   "source": [
    "# Splitting the datasets \n",
    "\n",
    "from sklearn.model_selection import train_test_split\n",
    "X=df_dum.drop('avg_salary',axis=1)\n",
    "y=df_dum.avg_salary.values"
   ]
  },
  {
   "cell_type": "code",
   "execution_count": 11,
   "metadata": {},
   "outputs": [],
   "source": [
    "X_train,X_test,y_train,y_test=train_test_split(X,y,test_size=0.2,random_state=24)"
   ]
  },
  {
   "cell_type": "code",
   "execution_count": 12,
   "metadata": {},
   "outputs": [
    {
     "data": {
      "text/html": [
       "<div>\n",
       "<style scoped>\n",
       "    .dataframe tbody tr th:only-of-type {\n",
       "        vertical-align: middle;\n",
       "    }\n",
       "\n",
       "    .dataframe tbody tr th {\n",
       "        vertical-align: top;\n",
       "    }\n",
       "\n",
       "    .dataframe thead th {\n",
       "        text-align: right;\n",
       "    }\n",
       "</style>\n",
       "<table border=\"1\" class=\"dataframe\">\n",
       "  <thead>\n",
       "    <tr style=\"text-align: right;\">\n",
       "      <th></th>\n",
       "      <th>Rating</th>\n",
       "      <th>jobhq</th>\n",
       "      <th>age</th>\n",
       "      <th>num_comp</th>\n",
       "      <th>python_yn</th>\n",
       "      <th>r_yn</th>\n",
       "      <th>aws_yn</th>\n",
       "      <th>spark_yn</th>\n",
       "      <th>hadoop_yn</th>\n",
       "      <th>docker_yn</th>\n",
       "      <th>...</th>\n",
       "      <th>django_yn</th>\n",
       "      <th>tensorflow_yn</th>\n",
       "      <th>keras_yn</th>\n",
       "      <th>pytorch_yn</th>\n",
       "      <th>tableau_yn</th>\n",
       "      <th>algo_yn</th>\n",
       "      <th>stats_yn</th>\n",
       "      <th>len_desc</th>\n",
       "      <th>job_type_num</th>\n",
       "      <th>seniority_num</th>\n",
       "    </tr>\n",
       "  </thead>\n",
       "  <tbody>\n",
       "    <tr>\n",
       "      <th>644</th>\n",
       "      <td>4.9</td>\n",
       "      <td>0</td>\n",
       "      <td>-1</td>\n",
       "      <td>0</td>\n",
       "      <td>1</td>\n",
       "      <td>1</td>\n",
       "      <td>0</td>\n",
       "      <td>0</td>\n",
       "      <td>0</td>\n",
       "      <td>0</td>\n",
       "      <td>...</td>\n",
       "      <td>0</td>\n",
       "      <td>0</td>\n",
       "      <td>0</td>\n",
       "      <td>0</td>\n",
       "      <td>0</td>\n",
       "      <td>1</td>\n",
       "      <td>1</td>\n",
       "      <td>5067</td>\n",
       "      <td>3</td>\n",
       "      <td>2</td>\n",
       "    </tr>\n",
       "    <tr>\n",
       "      <th>737</th>\n",
       "      <td>4.2</td>\n",
       "      <td>0</td>\n",
       "      <td>18</td>\n",
       "      <td>0</td>\n",
       "      <td>1</td>\n",
       "      <td>1</td>\n",
       "      <td>0</td>\n",
       "      <td>1</td>\n",
       "      <td>1</td>\n",
       "      <td>0</td>\n",
       "      <td>...</td>\n",
       "      <td>0</td>\n",
       "      <td>0</td>\n",
       "      <td>0</td>\n",
       "      <td>0</td>\n",
       "      <td>0</td>\n",
       "      <td>1</td>\n",
       "      <td>1</td>\n",
       "      <td>1462</td>\n",
       "      <td>3</td>\n",
       "      <td>2</td>\n",
       "    </tr>\n",
       "    <tr>\n",
       "      <th>3</th>\n",
       "      <td>4.2</td>\n",
       "      <td>0</td>\n",
       "      <td>33</td>\n",
       "      <td>3</td>\n",
       "      <td>0</td>\n",
       "      <td>1</td>\n",
       "      <td>0</td>\n",
       "      <td>0</td>\n",
       "      <td>0</td>\n",
       "      <td>0</td>\n",
       "      <td>...</td>\n",
       "      <td>0</td>\n",
       "      <td>0</td>\n",
       "      <td>0</td>\n",
       "      <td>0</td>\n",
       "      <td>0</td>\n",
       "      <td>0</td>\n",
       "      <td>0</td>\n",
       "      <td>4282</td>\n",
       "      <td>1</td>\n",
       "      <td>2</td>\n",
       "    </tr>\n",
       "    <tr>\n",
       "      <th>905</th>\n",
       "      <td>3.6</td>\n",
       "      <td>0</td>\n",
       "      <td>133</td>\n",
       "      <td>0</td>\n",
       "      <td>1</td>\n",
       "      <td>1</td>\n",
       "      <td>0</td>\n",
       "      <td>1</td>\n",
       "      <td>1</td>\n",
       "      <td>0</td>\n",
       "      <td>...</td>\n",
       "      <td>0</td>\n",
       "      <td>0</td>\n",
       "      <td>0</td>\n",
       "      <td>0</td>\n",
       "      <td>0</td>\n",
       "      <td>1</td>\n",
       "      <td>1</td>\n",
       "      <td>3633</td>\n",
       "      <td>3</td>\n",
       "      <td>2</td>\n",
       "    </tr>\n",
       "    <tr>\n",
       "      <th>104</th>\n",
       "      <td>4.0</td>\n",
       "      <td>1</td>\n",
       "      <td>61</td>\n",
       "      <td>3</td>\n",
       "      <td>1</td>\n",
       "      <td>1</td>\n",
       "      <td>1</td>\n",
       "      <td>0</td>\n",
       "      <td>0</td>\n",
       "      <td>1</td>\n",
       "      <td>...</td>\n",
       "      <td>0</td>\n",
       "      <td>0</td>\n",
       "      <td>0</td>\n",
       "      <td>0</td>\n",
       "      <td>0</td>\n",
       "      <td>1</td>\n",
       "      <td>1</td>\n",
       "      <td>5304</td>\n",
       "      <td>2</td>\n",
       "      <td>2</td>\n",
       "    </tr>\n",
       "  </tbody>\n",
       "</table>\n",
       "<p>5 rows × 23 columns</p>\n",
       "</div>"
      ],
      "text/plain": [
       "     Rating  jobhq  age  num_comp  python_yn  r_yn  aws_yn  spark_yn  \\\n",
       "644     4.9      0   -1         0          1     1       0         0   \n",
       "737     4.2      0   18         0          1     1       0         1   \n",
       "3       4.2      0   33         3          0     1       0         0   \n",
       "905     3.6      0  133         0          1     1       0         1   \n",
       "104     4.0      1   61         3          1     1       1         0   \n",
       "\n",
       "     hadoop_yn  docker_yn  ...  django_yn  tensorflow_yn  keras_yn  \\\n",
       "644          0          0  ...          0              0         0   \n",
       "737          1          0  ...          0              0         0   \n",
       "3            0          0  ...          0              0         0   \n",
       "905          1          0  ...          0              0         0   \n",
       "104          0          1  ...          0              0         0   \n",
       "\n",
       "     pytorch_yn  tableau_yn  algo_yn  stats_yn  len_desc  job_type_num  \\\n",
       "644           0           0        1         1      5067             3   \n",
       "737           0           0        1         1      1462             3   \n",
       "3             0           0        0         0      4282             1   \n",
       "905           0           0        1         1      3633             3   \n",
       "104           0           0        1         1      5304             2   \n",
       "\n",
       "     seniority_num  \n",
       "644              2  \n",
       "737              2  \n",
       "3                2  \n",
       "905              2  \n",
       "104              2  \n",
       "\n",
       "[5 rows x 23 columns]"
      ]
     },
     "execution_count": 12,
     "metadata": {},
     "output_type": "execute_result"
    }
   ],
   "source": [
    "X_test.head()"
   ]
  },
  {
   "cell_type": "code",
   "execution_count": 13,
   "metadata": {},
   "outputs": [
    {
     "data": {
      "text/plain": [
       "Index(['Rating', 'jobhq', 'age', 'num_comp', 'python_yn', 'r_yn', 'aws_yn',\n",
       "       'spark_yn', 'hadoop_yn', 'docker_yn', 'sql_yn', 'linux_yn', 'flask_yn',\n",
       "       'django_yn', 'tensorflow_yn', 'keras_yn', 'pytorch_yn', 'tableau_yn',\n",
       "       'algo_yn', 'stats_yn', 'len_desc', 'job_type_num', 'seniority_num'],\n",
       "      dtype='object')"
      ]
     },
     "execution_count": 13,
     "metadata": {},
     "output_type": "execute_result"
    }
   ],
   "source": [
    "X_test.columns"
   ]
  },
  {
   "cell_type": "markdown",
   "metadata": {},
   "source": [
    "Multiple-Linear Regression"
   ]
  },
  {
   "cell_type": "code",
   "execution_count": 14,
   "metadata": {},
   "outputs": [],
   "source": [
    "import statsmodels.api as sm\n",
    "X_sm=x=sm.add_constant(X)\n",
    "model=sm.OLS(y,X_sm)"
   ]
  },
  {
   "cell_type": "code",
   "execution_count": 15,
   "metadata": {},
   "outputs": [
    {
     "data": {
      "text/html": [
       "<table class=\"simpletable\">\n",
       "<caption>OLS Regression Results</caption>\n",
       "<tr>\n",
       "  <th>Dep. Variable:</th>            <td>y</td>        <th>  R-squared:         </th> <td>   0.060</td>\n",
       "</tr>\n",
       "<tr>\n",
       "  <th>Model:</th>                   <td>OLS</td>       <th>  Adj. R-squared:    </th> <td>   0.036</td>\n",
       "</tr>\n",
       "<tr>\n",
       "  <th>Method:</th>             <td>Least Squares</td>  <th>  F-statistic:       </th> <td>   2.536</td>\n",
       "</tr>\n",
       "<tr>\n",
       "  <th>Date:</th>             <td>Sun, 21 Mar 2021</td> <th>  Prob (F-statistic):</th> <td>9.62e-05</td>\n",
       "</tr>\n",
       "<tr>\n",
       "  <th>Time:</th>                 <td>14:24:46</td>     <th>  Log-Likelihood:    </th> <td> -4433.8</td>\n",
       "</tr>\n",
       "<tr>\n",
       "  <th>No. Observations:</th>      <td>   940</td>      <th>  AIC:               </th> <td>   8916.</td>\n",
       "</tr>\n",
       "<tr>\n",
       "  <th>Df Residuals:</th>          <td>   916</td>      <th>  BIC:               </th> <td>   9032.</td>\n",
       "</tr>\n",
       "<tr>\n",
       "  <th>Df Model:</th>              <td>    23</td>      <th>                     </th>     <td> </td>   \n",
       "</tr>\n",
       "<tr>\n",
       "  <th>Covariance Type:</th>      <td>nonrobust</td>    <th>                     </th>     <td> </td>   \n",
       "</tr>\n",
       "</table>\n",
       "<table class=\"simpletable\">\n",
       "<tr>\n",
       "        <td></td>           <th>coef</th>     <th>std err</th>      <th>t</th>      <th>P>|t|</th>  <th>[0.025</th>    <th>0.975]</th>  \n",
       "</tr>\n",
       "<tr>\n",
       "  <th>const</th>         <td>   93.2881</td> <td>    9.335</td> <td>    9.993</td> <td> 0.000</td> <td>   74.968</td> <td>  111.609</td>\n",
       "</tr>\n",
       "<tr>\n",
       "  <th>Rating</th>        <td>    2.4797</td> <td>    1.504</td> <td>    1.649</td> <td> 0.099</td> <td>   -0.471</td> <td>    5.431</td>\n",
       "</tr>\n",
       "<tr>\n",
       "  <th>jobhq</th>         <td>    0.5734</td> <td>    1.896</td> <td>    0.302</td> <td> 0.762</td> <td>   -3.148</td> <td>    4.295</td>\n",
       "</tr>\n",
       "<tr>\n",
       "  <th>age</th>           <td>    0.0313</td> <td>    0.022</td> <td>    1.429</td> <td> 0.153</td> <td>   -0.012</td> <td>    0.074</td>\n",
       "</tr>\n",
       "<tr>\n",
       "  <th>num_comp</th>      <td>    0.0309</td> <td>    0.732</td> <td>    0.042</td> <td> 0.966</td> <td>   -1.406</td> <td>    1.468</td>\n",
       "</tr>\n",
       "<tr>\n",
       "  <th>python_yn</th>     <td>    3.6933</td> <td>    2.440</td> <td>    1.514</td> <td> 0.130</td> <td>   -1.095</td> <td>    8.481</td>\n",
       "</tr>\n",
       "<tr>\n",
       "  <th>r_yn</th>          <td>    2.4827</td> <td>    4.584</td> <td>    0.542</td> <td> 0.588</td> <td>   -6.514</td> <td>   11.479</td>\n",
       "</tr>\n",
       "<tr>\n",
       "  <th>aws_yn</th>        <td>   -3.5031</td> <td>    2.292</td> <td>   -1.529</td> <td> 0.127</td> <td>   -8.001</td> <td>    0.994</td>\n",
       "</tr>\n",
       "<tr>\n",
       "  <th>spark_yn</th>      <td>    0.0588</td> <td>    2.801</td> <td>    0.021</td> <td> 0.983</td> <td>   -5.438</td> <td>    5.556</td>\n",
       "</tr>\n",
       "<tr>\n",
       "  <th>hadoop_yn</th>     <td>   -1.6499</td> <td>    2.769</td> <td>   -0.596</td> <td> 0.551</td> <td>   -7.084</td> <td>    3.784</td>\n",
       "</tr>\n",
       "<tr>\n",
       "  <th>docker_yn</th>     <td>    1.2405</td> <td>    5.569</td> <td>    0.223</td> <td> 0.824</td> <td>   -9.689</td> <td>   12.170</td>\n",
       "</tr>\n",
       "<tr>\n",
       "  <th>sql_yn</th>        <td>    2.0584</td> <td>    2.107</td> <td>    0.977</td> <td> 0.329</td> <td>   -2.076</td> <td>    6.193</td>\n",
       "</tr>\n",
       "<tr>\n",
       "  <th>linux_yn</th>      <td>    5.0136</td> <td>    3.259</td> <td>    1.538</td> <td> 0.124</td> <td>   -1.383</td> <td>   11.410</td>\n",
       "</tr>\n",
       "<tr>\n",
       "  <th>flask_yn</th>      <td>    8.8876</td> <td>    9.252</td> <td>    0.961</td> <td> 0.337</td> <td>   -9.269</td> <td>   27.045</td>\n",
       "</tr>\n",
       "<tr>\n",
       "  <th>django_yn</th>     <td>    5.7919</td> <td>   10.310</td> <td>    0.562</td> <td> 0.574</td> <td>  -14.443</td> <td>   26.026</td>\n",
       "</tr>\n",
       "<tr>\n",
       "  <th>tensorflow_yn</th> <td>   -5.0005</td> <td>    3.692</td> <td>   -1.354</td> <td> 0.176</td> <td>  -12.246</td> <td>    2.245</td>\n",
       "</tr>\n",
       "<tr>\n",
       "  <th>keras_yn</th>      <td>    1.5396</td> <td>    4.512</td> <td>    0.341</td> <td> 0.733</td> <td>   -7.315</td> <td>   10.394</td>\n",
       "</tr>\n",
       "<tr>\n",
       "  <th>pytorch_yn</th>    <td>    6.1676</td> <td>    4.196</td> <td>    1.470</td> <td> 0.142</td> <td>   -2.068</td> <td>   14.403</td>\n",
       "</tr>\n",
       "<tr>\n",
       "  <th>tableau_yn</th>    <td>   -2.8877</td> <td>    2.465</td> <td>   -1.172</td> <td> 0.242</td> <td>   -7.725</td> <td>    1.949</td>\n",
       "</tr>\n",
       "<tr>\n",
       "  <th>algo_yn</th>       <td>    2.2018</td> <td>    2.055</td> <td>    1.072</td> <td> 0.284</td> <td>   -1.831</td> <td>    6.234</td>\n",
       "</tr>\n",
       "<tr>\n",
       "  <th>stats_yn</th>      <td>    8.0053</td> <td>    2.250</td> <td>    3.558</td> <td> 0.000</td> <td>    3.590</td> <td>   12.421</td>\n",
       "</tr>\n",
       "<tr>\n",
       "  <th>len_desc</th>      <td>   -0.0016</td> <td>    0.001</td> <td>   -2.596</td> <td> 0.010</td> <td>   -0.003</td> <td>   -0.000</td>\n",
       "</tr>\n",
       "<tr>\n",
       "  <th>job_type_num</th>  <td>   -0.8374</td> <td>    0.646</td> <td>   -1.296</td> <td> 0.195</td> <td>   -2.106</td> <td>    0.431</td>\n",
       "</tr>\n",
       "<tr>\n",
       "  <th>seniority_num</th> <td>    2.3810</td> <td>    2.507</td> <td>    0.950</td> <td> 0.343</td> <td>   -2.540</td> <td>    7.302</td>\n",
       "</tr>\n",
       "</table>\n",
       "<table class=\"simpletable\">\n",
       "<tr>\n",
       "  <th>Omnibus:</th>       <td>20.641</td> <th>  Durbin-Watson:     </th> <td>   0.191</td>\n",
       "</tr>\n",
       "<tr>\n",
       "  <th>Prob(Omnibus):</th> <td> 0.000</td> <th>  Jarque-Bera (JB):  </th> <td>  16.555</td>\n",
       "</tr>\n",
       "<tr>\n",
       "  <th>Skew:</th>          <td> 0.242</td> <th>  Prob(JB):          </th> <td>0.000254</td>\n",
       "</tr>\n",
       "<tr>\n",
       "  <th>Kurtosis:</th>      <td> 2.566</td> <th>  Cond. No.          </th> <td>5.51e+04</td>\n",
       "</tr>\n",
       "</table><br/><br/>Notes:<br/>[1] Standard Errors assume that the covariance matrix of the errors is correctly specified.<br/>[2] The condition number is large, 5.51e+04. This might indicate that there are<br/>strong multicollinearity or other numerical problems."
      ],
      "text/plain": [
       "<class 'statsmodels.iolib.summary.Summary'>\n",
       "\"\"\"\n",
       "                            OLS Regression Results                            \n",
       "==============================================================================\n",
       "Dep. Variable:                      y   R-squared:                       0.060\n",
       "Model:                            OLS   Adj. R-squared:                  0.036\n",
       "Method:                 Least Squares   F-statistic:                     2.536\n",
       "Date:                Sun, 21 Mar 2021   Prob (F-statistic):           9.62e-05\n",
       "Time:                        14:24:46   Log-Likelihood:                -4433.8\n",
       "No. Observations:                 940   AIC:                             8916.\n",
       "Df Residuals:                     916   BIC:                             9032.\n",
       "Df Model:                          23                                         \n",
       "Covariance Type:            nonrobust                                         \n",
       "=================================================================================\n",
       "                    coef    std err          t      P>|t|      [0.025      0.975]\n",
       "---------------------------------------------------------------------------------\n",
       "const            93.2881      9.335      9.993      0.000      74.968     111.609\n",
       "Rating            2.4797      1.504      1.649      0.099      -0.471       5.431\n",
       "jobhq             0.5734      1.896      0.302      0.762      -3.148       4.295\n",
       "age               0.0313      0.022      1.429      0.153      -0.012       0.074\n",
       "num_comp          0.0309      0.732      0.042      0.966      -1.406       1.468\n",
       "python_yn         3.6933      2.440      1.514      0.130      -1.095       8.481\n",
       "r_yn              2.4827      4.584      0.542      0.588      -6.514      11.479\n",
       "aws_yn           -3.5031      2.292     -1.529      0.127      -8.001       0.994\n",
       "spark_yn          0.0588      2.801      0.021      0.983      -5.438       5.556\n",
       "hadoop_yn        -1.6499      2.769     -0.596      0.551      -7.084       3.784\n",
       "docker_yn         1.2405      5.569      0.223      0.824      -9.689      12.170\n",
       "sql_yn            2.0584      2.107      0.977      0.329      -2.076       6.193\n",
       "linux_yn          5.0136      3.259      1.538      0.124      -1.383      11.410\n",
       "flask_yn          8.8876      9.252      0.961      0.337      -9.269      27.045\n",
       "django_yn         5.7919     10.310      0.562      0.574     -14.443      26.026\n",
       "tensorflow_yn    -5.0005      3.692     -1.354      0.176     -12.246       2.245\n",
       "keras_yn          1.5396      4.512      0.341      0.733      -7.315      10.394\n",
       "pytorch_yn        6.1676      4.196      1.470      0.142      -2.068      14.403\n",
       "tableau_yn       -2.8877      2.465     -1.172      0.242      -7.725       1.949\n",
       "algo_yn           2.2018      2.055      1.072      0.284      -1.831       6.234\n",
       "stats_yn          8.0053      2.250      3.558      0.000       3.590      12.421\n",
       "len_desc         -0.0016      0.001     -2.596      0.010      -0.003      -0.000\n",
       "job_type_num     -0.8374      0.646     -1.296      0.195      -2.106       0.431\n",
       "seniority_num     2.3810      2.507      0.950      0.343      -2.540       7.302\n",
       "==============================================================================\n",
       "Omnibus:                       20.641   Durbin-Watson:                   0.191\n",
       "Prob(Omnibus):                  0.000   Jarque-Bera (JB):               16.555\n",
       "Skew:                           0.242   Prob(JB):                     0.000254\n",
       "Kurtosis:                       2.566   Cond. No.                     5.51e+04\n",
       "==============================================================================\n",
       "\n",
       "Notes:\n",
       "[1] Standard Errors assume that the covariance matrix of the errors is correctly specified.\n",
       "[2] The condition number is large, 5.51e+04. This might indicate that there are\n",
       "strong multicollinearity or other numerical problems.\n",
       "\"\"\""
      ]
     },
     "execution_count": 15,
     "metadata": {},
     "output_type": "execute_result"
    }
   ],
   "source": [
    "model.fit().summary()"
   ]
  },
  {
   "cell_type": "code",
   "execution_count": 16,
   "metadata": {},
   "outputs": [],
   "source": [
    "from sklearn.linear_model import LinearRegression, Lasso\n",
    "from sklearn.model_selection import cross_val_score"
   ]
  },
  {
   "cell_type": "code",
   "execution_count": 17,
   "metadata": {},
   "outputs": [
    {
     "data": {
      "text/plain": [
       "LinearRegression()"
      ]
     },
     "execution_count": 17,
     "metadata": {},
     "output_type": "execute_result"
    }
   ],
   "source": [
    "lm=LinearRegression()\n",
    "lm.fit(X_train,y_train)"
   ]
  },
  {
   "cell_type": "code",
   "execution_count": 18,
   "metadata": {},
   "outputs": [
    {
     "data": {
      "text/plain": [
       "-24.098688570177497"
      ]
     },
     "execution_count": 18,
     "metadata": {},
     "output_type": "execute_result"
    }
   ],
   "source": [
    "np.mean(cross_val_score(lm,X_train,y_train,scoring='neg_mean_absolute_error', cv=3))"
   ]
  },
  {
   "cell_type": "markdown",
   "metadata": {},
   "source": [
    "Lasso Regresssion"
   ]
  },
  {
   "cell_type": "code",
   "execution_count": 19,
   "metadata": {},
   "outputs": [],
   "source": [
    "lm_l=Lasso(alpha=.19)"
   ]
  },
  {
   "cell_type": "code",
   "execution_count": 20,
   "metadata": {},
   "outputs": [
    {
     "data": {
      "text/plain": [
       "Lasso(alpha=0.19)"
      ]
     },
     "execution_count": 20,
     "metadata": {},
     "output_type": "execute_result"
    }
   ],
   "source": [
    "lm_l.fit(X_train,y_train)"
   ]
  },
  {
   "cell_type": "code",
   "execution_count": 21,
   "metadata": {},
   "outputs": [
    {
     "data": {
      "text/plain": [
       "-23.999539551294202"
      ]
     },
     "execution_count": 21,
     "metadata": {},
     "output_type": "execute_result"
    }
   ],
   "source": [
    "np.mean(cross_val_score(lm_l,X_train,y_train,scoring='neg_mean_absolute_error', cv=3))"
   ]
  },
  {
   "cell_type": "code",
   "execution_count": 22,
   "metadata": {},
   "outputs": [],
   "source": [
    "alpha=[]\n",
    "error=[]"
   ]
  },
  {
   "cell_type": "code",
   "execution_count": 23,
   "metadata": {},
   "outputs": [],
   "source": [
    "for i in range(1,100):\n",
    "    alpha.append(i/100)\n",
    "    lml=Lasso(alpha=(i/100))\n",
    "    error.append(np.mean(cross_val_score(lml,X_train,y_train,scoring='neg_mean_absolute_error', cv=3)))"
   ]
  },
  {
   "cell_type": "code",
   "execution_count": 24,
   "metadata": {},
   "outputs": [
    {
     "data": {
      "text/plain": [
       "[<matplotlib.lines.Line2D at 0x27a7a9ce670>]"
      ]
     },
     "execution_count": 24,
     "metadata": {},
     "output_type": "execute_result"
    },
    {
     "data": {
      "image/png": "[encoded data removed]",
      "text/plain": [
       "<Figure size 432x288 with 1 Axes>"
      ]
     },
     "metadata": {
      "needs_background": "light"
     },
     "output_type": "display_data"
    }
   ],
   "source": [
    "plt.plot(alpha,error)"
   ]
  },
  {
   "cell_type": "code",
   "execution_count": 25,
   "metadata": {},
   "outputs": [
    {
     "data": {
      "text/html": [
       "<div>\n",
       "<style scoped>\n",
       "    .dataframe tbody tr th:only-of-type {\n",
       "        vertical-align: middle;\n",
       "    }\n",
       "\n",
       "    .dataframe tbody tr th {\n",
       "        vertical-align: top;\n",
       "    }\n",
       "\n",
       "    .dataframe thead th {\n",
       "        text-align: right;\n",
       "    }\n",
       "</style>\n",
       "<table border=\"1\" class=\"dataframe\">\n",
       "  <thead>\n",
       "    <tr style=\"text-align: right;\">\n",
       "      <th></th>\n",
       "      <th>alpha</th>\n",
       "      <th>error</th>\n",
       "    </tr>\n",
       "  </thead>\n",
       "  <tbody>\n",
       "    <tr>\n",
       "      <th>37</th>\n",
       "      <td>0.38</td>\n",
       "      <td>-23.982505</td>\n",
       "    </tr>\n",
       "  </tbody>\n",
       "</table>\n",
       "</div>"
      ],
      "text/plain": [
       "    alpha      error\n",
       "37   0.38 -23.982505"
      ]
     },
     "execution_count": 25,
     "metadata": {},
     "output_type": "execute_result"
    }
   ],
   "source": [
    "err = tuple(zip(alpha,error))\n",
    "df_err = pd.DataFrame(err, columns = ['alpha','error'])\n",
    "df_err[df_err.error == max(df_err.error)]"
   ]
  },
  {
   "cell_type": "markdown",
   "metadata": {},
   "source": [
    "Random Forest"
   ]
  },
  {
   "cell_type": "code",
   "execution_count": 26,
   "metadata": {},
   "outputs": [
    {
     "data": {
      "text/plain": [
       "-23.204662758513507"
      ]
     },
     "execution_count": 26,
     "metadata": {},
     "output_type": "execute_result"
    }
   ],
   "source": [
    "from sklearn.ensemble import RandomForestRegressor\n",
    "rf=RandomForestRegressor()\n",
    "rf1=rf.fit(X_train,y_train)\n",
    "np.mean(cross_val_score(rf1,X_train,y_train,scoring='neg_mean_absolute_error', cv=3))"
   ]
  },
  {
   "cell_type": "markdown",
   "metadata": {},
   "source": [
    "Tune Models GridSearchCV"
   ]
  },
  {
   "cell_type": "code",
   "execution_count": 27,
   "metadata": {},
   "outputs": [],
   "source": [
    "from sklearn.model_selection import GridSearchCV\n",
    "from sklearn import preprocessing\n",
    "X_train=preprocessing.scale(X_train)"
   ]
  },
  {
   "cell_type": "code",
   "execution_count": 28,
   "metadata": {},
   "outputs": [],
   "source": [
    "parameters={'n_estimators':range(10,200,10), 'criterion':('mse','mae'), 'max_features':('auto','sqrt','log2')}"
   ]
  },
  {
   "cell_type": "code",
   "execution_count": 29,
   "metadata": {},
   "outputs": [],
   "source": [
    "gs=GridSearchCV(rf,parameters,scoring='neg_mean_absolute_error',cv=3,n_jobs=-1)\n"
   ]
  },
  {
   "cell_type": "code",
   "execution_count": 30,
   "metadata": {},
   "outputs": [
    {
     "data": {
      "text/plain": [
       "GridSearchCV(cv=3, estimator=RandomForestRegressor(), n_jobs=-1,\n",
       "             param_grid={'criterion': ('mse', 'mae'),\n",
       "                         'max_features': ('auto', 'sqrt', 'log2'),\n",
       "                         'n_estimators': range(10, 200, 10)},\n",
       "             scoring='neg_mean_absolute_error')"
      ]
     },
     "execution_count": 30,
     "metadata": {},
     "output_type": "execute_result"
    }
   ],
   "source": [
    "gs.fit(X_train,y_train)\n"
   ]
  },
  {
   "cell_type": "code",
   "execution_count": 31,
   "metadata": {},
   "outputs": [
    {
     "data": {
      "text/plain": [
       "-22.42582247675963"
      ]
     },
     "execution_count": 31,
     "metadata": {},
     "output_type": "execute_result"
    }
   ],
   "source": [
    "gs.best_score_"
   ]
  },
  {
   "cell_type": "code",
   "execution_count": 32,
   "metadata": {},
   "outputs": [
    {
     "data": {
      "text/plain": [
       "RandomForestRegressor(criterion='mae', max_features='log2', n_estimators=80)"
      ]
     },
     "execution_count": 32,
     "metadata": {},
     "output_type": "execute_result"
    }
   ],
   "source": [
    "gs.best_estimator_"
   ]
  },
  {
   "cell_type": "markdown",
   "metadata": {},
   "source": [
    "Test Ensemble"
   ]
  },
  {
   "cell_type": "code",
   "execution_count": 33,
   "metadata": {},
   "outputs": [],
   "source": [
    "tpred_lm=lm.predict(X_test)"
   ]
  },
  {
   "cell_type": "code",
   "execution_count": 34,
   "metadata": {},
   "outputs": [],
   "source": [
    "tpred_lml=lm_l.predict(X_test)"
   ]
  },
  {
   "cell_type": "code",
   "execution_count": 35,
   "metadata": {},
   "outputs": [],
   "source": [
    "tpred_rfgs=gs.best_estimator_.predict(X_test)"
   ]
  },
  {
   "cell_type": "code",
   "execution_count": 36,
   "metadata": {},
   "outputs": [],
   "source": [
    "tpred_rf=rf1.predict(X_test)"
   ]
  },
  {
   "cell_type": "code",
   "execution_count": 37,
   "metadata": {},
   "outputs": [
    {
     "data": {
      "text/plain": [
       "23.256526646677482"
      ]
     },
     "execution_count": 37,
     "metadata": {},
     "output_type": "execute_result"
    }
   ],
   "source": [
    "from sklearn.metrics import mean_absolute_error\n",
    "mean_absolute_error(y_test,tpred_lm)\n"
   ]
  },
  {
   "cell_type": "code",
   "execution_count": 38,
   "metadata": {},
   "outputs": [
    {
     "data": {
      "text/plain": [
       "23.577245581885734"
      ]
     },
     "execution_count": 38,
     "metadata": {},
     "output_type": "execute_result"
    }
   ],
   "source": [
    "mean_absolute_error(y_test,tpred_lml)"
   ]
  },
  {
   "cell_type": "code",
   "execution_count": 39,
   "metadata": {},
   "outputs": [
    {
     "data": {
      "text/plain": [
       "24.053390957446812"
      ]
     },
     "execution_count": 39,
     "metadata": {},
     "output_type": "execute_result"
    }
   ],
   "source": [
    "mean_absolute_error(y_test,tpred_rfgs)"
   ]
  },
  {
   "cell_type": "markdown",
   "metadata": {},
   "source": [
    "The Random Forest model seems to have the least error, so that's the model that will be chosen."
   ]
  },
  {
   "cell_type": "markdown",
   "metadata": {},
   "source": [
    "Pickling (but using JobLib instead of Pickle)"
   ]
  },
  {
   "cell_type": "code",
   "execution_count": 40,
   "metadata": {},
   "outputs": [],
   "source": [
    "import joblib\n"
   ]
  },
  {
   "cell_type": "code",
   "execution_count": 41,
   "metadata": {},
   "outputs": [
    {
     "data": {
      "text/plain": [
       "['model.pkl']"
      ]
     },
     "execution_count": 41,
     "metadata": {},
     "output_type": "execute_result"
    }
   ],
   "source": [
    "joblib.dump(rf1,'model.pkl')"
   ]
  },
  {
   "cell_type": "code",
   "execution_count": 42,
   "metadata": {},
   "outputs": [],
   "source": [
    "model=joblib.load('model.pkl')"
   ]
  },
  {
   "cell_type": "code",
   "execution_count": 43,
   "metadata": {},
   "outputs": [
    {
     "data": {
      "text/plain": [
       "113.13641666666666"
      ]
     },
     "execution_count": 43,
     "metadata": {},
     "output_type": "execute_result"
    }
   ],
   "source": [
    "model.predict(np.array(list(X_test.iloc[1,:])).reshape(1,-1))[0]"
   ]
  },
  {
   "cell_type": "code",
   "execution_count": 44,
   "metadata": {},
   "outputs": [
    {
     "data": {
      "text/plain": [
       "array([4.200e+00, 0.000e+00, 1.800e+01, 0.000e+00, 1.000e+00, 1.000e+00,\n",
       "       0.000e+00, 1.000e+00, 1.000e+00, 0.000e+00, 1.000e+00, 0.000e+00,\n",
       "       0.000e+00, 0.000e+00, 0.000e+00, 0.000e+00, 0.000e+00, 0.000e+00,\n",
       "       1.000e+00, 1.000e+00, 1.462e+03, 3.000e+00, 2.000e+00])"
      ]
     },
     "execution_count": 44,
     "metadata": {},
     "output_type": "execute_result"
    }
   ],
   "source": [
    "np.array(list(X_test.iloc[1,:]))"
   ]
  },
  {
   "cell_type": "code",
   "execution_count": 46,
   "metadata": {},
   "outputs": [],
   "source": [
    "# using pickle\n",
    "import pickle"
   ]
  },
  {
   "cell_type": "code",
   "execution_count": 54,
   "metadata": {},
   "outputs": [],
   "source": [
    "pickl = {'model': gs.best_estimator_}\n",
    "pickle.dump( pickl, open( 'model_file' + \".p\", \"wb\" ) )"
   ]
  },
  {
   "cell_type": "code",
   "execution_count": 55,
   "metadata": {},
   "outputs": [],
   "source": [
    "file_name = \"model_file.p\"\n",
    "with open(file_name, 'rb') as pickled:\n",
    "    data = pickle.load(pickled)\n",
    "    model = data['model']"
   ]
  },
  {
   "cell_type": "code",
   "execution_count": 56,
   "metadata": {},
   "outputs": [
    {
     "data": {
      "text/plain": [
       "103.409375"
      ]
     },
     "execution_count": 56,
     "metadata": {},
     "output_type": "execute_result"
    }
   ],
   "source": [
    "model.predict(np.array(list(X_test.iloc[1,:])).reshape(1,-1))[0]"
   ]
  },
  {
   "cell_type": "code",
   "execution_count": null,
   "metadata": {},
   "outputs": [],
   "source": []
  }
 ],
 "metadata": {
  "kernelspec": {
   "display_name": "Python 3",
   "language": "python",
   "name": "python3"
  },
  "language_info": {
   "codemirror_mode": {
    "name": "ipython",
    "version": 3
   },
   "file_extension": ".py",
   "mimetype": "text/x-python",
   "name": "python",
   "nbconvert_exporter": "python",
   "pygments_lexer": "ipython3",
   "version": "3.8.5"
  }
 },
 "nbformat": 4,
 "nbformat_minor": 4
}
