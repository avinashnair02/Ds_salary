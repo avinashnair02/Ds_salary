{
 "cells": [
  {
   "cell_type": "markdown",
   "metadata": {},
   "source": [
    "Data Cleaning on the Glassdoor datset"
   ]
  },
  {
   "cell_type": "code",
   "execution_count": 194,
   "metadata": {},
   "outputs": [],
   "source": [
    "import pandas as pd\n",
    "pd.options.mode.chained_assignment = None  # default='warn'"
   ]
  },
  {
   "cell_type": "code",
   "execution_count": 195,
   "metadata": {},
   "outputs": [
    {
     "data": {
      "text/html": [
       "<div>\n",
       "<style scoped>\n",
       "    .dataframe tbody tr th:only-of-type {\n",
       "        vertical-align: middle;\n",
       "    }\n",
       "\n",
       "    .dataframe tbody tr th {\n",
       "        vertical-align: top;\n",
       "    }\n",
       "\n",
       "    .dataframe thead th {\n",
       "        text-align: right;\n",
       "    }\n",
       "</style>\n",
       "<table border=\"1\" class=\"dataframe\">\n",
       "  <thead>\n",
       "    <tr style=\"text-align: right;\">\n",
       "      <th></th>\n",
       "      <th>Job Title</th>\n",
       "      <th>Salary Estimate</th>\n",
       "      <th>Job Description</th>\n",
       "      <th>Rating</th>\n",
       "      <th>Company Name</th>\n",
       "      <th>Location</th>\n",
       "      <th>Headquarters</th>\n",
       "      <th>Size</th>\n",
       "      <th>Founded</th>\n",
       "      <th>Type of ownership</th>\n",
       "      <th>Industry</th>\n",
       "      <th>Sector</th>\n",
       "      <th>Revenue</th>\n",
       "      <th>Competitors</th>\n",
       "    </tr>\n",
       "  </thead>\n",
       "  <tbody>\n",
       "    <tr>\n",
       "      <th>0</th>\n",
       "      <td>Data Scientist</td>\n",
       "      <td>$64K-$106K (Glassdoor est.)</td>\n",
       "      <td>Secure our Nation, Ignite your Future\\r\\n\\r\\nJ...</td>\n",
       "      <td>4.2</td>\n",
       "      <td>ManTech\\r\\n4.2</td>\n",
       "      <td>Chantilly, VA</td>\n",
       "      <td>Herndon, VA</td>\n",
       "      <td>5001 to 10000 employees</td>\n",
       "      <td>1968</td>\n",
       "      <td>Company - Public</td>\n",
       "      <td>Research &amp; Development</td>\n",
       "      <td>Business Services</td>\n",
       "      <td>$1 to $2 billion (USD)</td>\n",
       "      <td>-1</td>\n",
       "    </tr>\n",
       "    <tr>\n",
       "      <th>1</th>\n",
       "      <td>Associate Business Intelligence Data Scientist</td>\n",
       "      <td>$64K-$106K (Glassdoor est.)</td>\n",
       "      <td>Blending customer advisory, customer support, ...</td>\n",
       "      <td>3.2</td>\n",
       "      <td>Carousel Industries\\r\\n3.2</td>\n",
       "      <td>Exeter, RI</td>\n",
       "      <td>Exeter, RI</td>\n",
       "      <td>1001 to 5000 employees</td>\n",
       "      <td>1992</td>\n",
       "      <td>Company - Private</td>\n",
       "      <td>IT Services</td>\n",
       "      <td>Information Technology</td>\n",
       "      <td>$500 million to $1 billion (USD)</td>\n",
       "      <td>-1</td>\n",
       "    </tr>\n",
       "    <tr>\n",
       "      <th>2</th>\n",
       "      <td>Scientist, Population Genomics</td>\n",
       "      <td>$64K-$106K (Glassdoor est.)</td>\n",
       "      <td>WuXi NextCODE is seeking a motivated Scientist...</td>\n",
       "      <td>2.9</td>\n",
       "      <td>Carousel Industries\\r\\n3.2</td>\n",
       "      <td>Cambridge, MA</td>\n",
       "      <td>Cambridge, MA</td>\n",
       "      <td>501 to 1000 employees</td>\n",
       "      <td>2015</td>\n",
       "      <td>Company - Private</td>\n",
       "      <td>Biotech &amp; Pharmaceuticals</td>\n",
       "      <td>Biotech &amp; Pharmaceuticals</td>\n",
       "      <td>Unknown / Non-Applicable</td>\n",
       "      <td>-1</td>\n",
       "    </tr>\n",
       "    <tr>\n",
       "      <th>3</th>\n",
       "      <td>Data Analyst II</td>\n",
       "      <td>$64K-$106K (Glassdoor est.)</td>\n",
       "      <td>The Data Analyst II is responsible for data en...</td>\n",
       "      <td>4.2</td>\n",
       "      <td>Insight Enterprises, Inc.\\r\\n4.2</td>\n",
       "      <td>Plano, TX</td>\n",
       "      <td>Tempe, AZ</td>\n",
       "      <td>5001 to 10000 employees</td>\n",
       "      <td>1988</td>\n",
       "      <td>Company - Public</td>\n",
       "      <td>Enterprise Software &amp; Network Solutions</td>\n",
       "      <td>Information Technology</td>\n",
       "      <td>$5 to $10 billion (USD)</td>\n",
       "      <td>CDW, PCM, SHI International</td>\n",
       "    </tr>\n",
       "    <tr>\n",
       "      <th>4</th>\n",
       "      <td>Sensory Scientist</td>\n",
       "      <td>$64K-$106K (Glassdoor est.)</td>\n",
       "      <td>A leading food production company in St. Louis...</td>\n",
       "      <td>3.8</td>\n",
       "      <td>NIC Infotek\\r\\n3.8</td>\n",
       "      <td>Saint Louis, MO</td>\n",
       "      <td>Tampa, FL</td>\n",
       "      <td>51 to 200 employees</td>\n",
       "      <td>2004</td>\n",
       "      <td>Company - Public</td>\n",
       "      <td>Staffing &amp; Outsourcing</td>\n",
       "      <td>Business Services</td>\n",
       "      <td>Unknown / Non-Applicable</td>\n",
       "      <td>-1</td>\n",
       "    </tr>\n",
       "    <tr>\n",
       "      <th>...</th>\n",
       "      <td>...</td>\n",
       "      <td>...</td>\n",
       "      <td>...</td>\n",
       "      <td>...</td>\n",
       "      <td>...</td>\n",
       "      <td>...</td>\n",
       "      <td>...</td>\n",
       "      <td>...</td>\n",
       "      <td>...</td>\n",
       "      <td>...</td>\n",
       "      <td>...</td>\n",
       "      <td>...</td>\n",
       "      <td>...</td>\n",
       "      <td>...</td>\n",
       "    </tr>\n",
       "    <tr>\n",
       "      <th>995</th>\n",
       "      <td>Data Scientist</td>\n",
       "      <td>$96K-$156K (Glassdoor est.)</td>\n",
       "      <td>As a Data Scientist at Eaze, you'll report to ...</td>\n",
       "      <td>3.6</td>\n",
       "      <td>Eaze\\r\\n3.6</td>\n",
       "      <td>San Francisco, CA</td>\n",
       "      <td>San Francisco, CA</td>\n",
       "      <td>51 to 200 employees</td>\n",
       "      <td>2014</td>\n",
       "      <td>Company - Private</td>\n",
       "      <td>Internet</td>\n",
       "      <td>Information Technology</td>\n",
       "      <td>$25 to $50 million (USD)</td>\n",
       "      <td>Harborside Health Center, Leafly, Privateer Ho...</td>\n",
       "    </tr>\n",
       "    <tr>\n",
       "      <th>996</th>\n",
       "      <td>Data Scientist</td>\n",
       "      <td>$96K-$156K (Glassdoor est.)</td>\n",
       "      <td>We are looking for data scientists who love ex...</td>\n",
       "      <td>2.9</td>\n",
       "      <td>Goodwater Capital\\r\\n2.9</td>\n",
       "      <td>Burlingame, CA</td>\n",
       "      <td>San Mateo, CA</td>\n",
       "      <td>1 to 50 employees</td>\n",
       "      <td>2014</td>\n",
       "      <td>Private Practice / Firm</td>\n",
       "      <td>Venture Capital &amp; Private Equity</td>\n",
       "      <td>Finance</td>\n",
       "      <td>Unknown / Non-Applicable</td>\n",
       "      <td>-1</td>\n",
       "    </tr>\n",
       "    <tr>\n",
       "      <th>997</th>\n",
       "      <td>Data Scientist</td>\n",
       "      <td>$96K-$156K (Glassdoor est.)</td>\n",
       "      <td>Why We Work at Dun &amp; Bradstreet\\r\\n\\r\\n\\r\\nWe ...</td>\n",
       "      <td>3.1</td>\n",
       "      <td>Dun &amp; Bradstreet\\r\\n3.1</td>\n",
       "      <td>Austin, TX</td>\n",
       "      <td>Short Hills, NJ</td>\n",
       "      <td>1001 to 5000 employees</td>\n",
       "      <td>1841</td>\n",
       "      <td>Company - Private</td>\n",
       "      <td>IT Services</td>\n",
       "      <td>Information Technology</td>\n",
       "      <td>$1 to $2 billion (USD)</td>\n",
       "      <td>Experian, Equifax</td>\n",
       "    </tr>\n",
       "    <tr>\n",
       "      <th>998</th>\n",
       "      <td>Data Scientist</td>\n",
       "      <td>$96K-$156K (Glassdoor est.)</td>\n",
       "      <td>About Freestar:\\r\\n\\r\\nFreestar engineers cutt...</td>\n",
       "      <td>4.9</td>\n",
       "      <td>Freestar\\r\\n4.9</td>\n",
       "      <td>Phoenix, AZ</td>\n",
       "      <td>Phoenix, AZ</td>\n",
       "      <td>1 to 50 employees</td>\n",
       "      <td>2016</td>\n",
       "      <td>Company - Private</td>\n",
       "      <td>Advertising &amp; Marketing</td>\n",
       "      <td>Business Services</td>\n",
       "      <td>$25 to $50 million (USD)</td>\n",
       "      <td>-1</td>\n",
       "    </tr>\n",
       "    <tr>\n",
       "      <th>999</th>\n",
       "      <td>Data Scientist</td>\n",
       "      <td>$96K-$156K (Glassdoor est.)</td>\n",
       "      <td>About Imperfect\\r\\n\\r\\nImperfect Foods was fou...</td>\n",
       "      <td>3.8</td>\n",
       "      <td>Imperfect Foods\\r\\n3.8</td>\n",
       "      <td>Remote</td>\n",
       "      <td>San Francisco, CA</td>\n",
       "      <td>1001 to 5000 employees</td>\n",
       "      <td>2015</td>\n",
       "      <td>Company - Private</td>\n",
       "      <td>Food &amp; Beverage Stores</td>\n",
       "      <td>Retail</td>\n",
       "      <td>Unknown / Non-Applicable</td>\n",
       "      <td>Hungry Harvest, Good Eggs</td>\n",
       "    </tr>\n",
       "  </tbody>\n",
       "</table>\n",
       "<p>1000 rows × 14 columns</p>\n",
       "</div>"
      ],
      "text/plain": [
       "                                          Job Title  \\\n",
       "0                                    Data Scientist   \n",
       "1    Associate Business Intelligence Data Scientist   \n",
       "2                    Scientist, Population Genomics   \n",
       "3                                   Data Analyst II   \n",
       "4                                 Sensory Scientist   \n",
       "..                                              ...   \n",
       "995                                  Data Scientist   \n",
       "996                                  Data Scientist   \n",
       "997                                  Data Scientist   \n",
       "998                                  Data Scientist   \n",
       "999                                  Data Scientist   \n",
       "\n",
       "                 Salary Estimate  \\\n",
       "0    $64K-$106K (Glassdoor est.)   \n",
       "1    $64K-$106K (Glassdoor est.)   \n",
       "2    $64K-$106K (Glassdoor est.)   \n",
       "3    $64K-$106K (Glassdoor est.)   \n",
       "4    $64K-$106K (Glassdoor est.)   \n",
       "..                           ...   \n",
       "995  $96K-$156K (Glassdoor est.)   \n",
       "996  $96K-$156K (Glassdoor est.)   \n",
       "997  $96K-$156K (Glassdoor est.)   \n",
       "998  $96K-$156K (Glassdoor est.)   \n",
       "999  $96K-$156K (Glassdoor est.)   \n",
       "\n",
       "                                       Job Description  Rating  \\\n",
       "0    Secure our Nation, Ignite your Future\\r\\n\\r\\nJ...     4.2   \n",
       "1    Blending customer advisory, customer support, ...     3.2   \n",
       "2    WuXi NextCODE is seeking a motivated Scientist...     2.9   \n",
       "3    The Data Analyst II is responsible for data en...     4.2   \n",
       "4    A leading food production company in St. Louis...     3.8   \n",
       "..                                                 ...     ...   \n",
       "995  As a Data Scientist at Eaze, you'll report to ...     3.6   \n",
       "996  We are looking for data scientists who love ex...     2.9   \n",
       "997  Why We Work at Dun & Bradstreet\\r\\n\\r\\n\\r\\nWe ...     3.1   \n",
       "998  About Freestar:\\r\\n\\r\\nFreestar engineers cutt...     4.9   \n",
       "999  About Imperfect\\r\\n\\r\\nImperfect Foods was fou...     3.8   \n",
       "\n",
       "                         Company Name           Location       Headquarters  \\\n",
       "0                      ManTech\\r\\n4.2      Chantilly, VA        Herndon, VA   \n",
       "1          Carousel Industries\\r\\n3.2         Exeter, RI         Exeter, RI   \n",
       "2          Carousel Industries\\r\\n3.2      Cambridge, MA      Cambridge, MA   \n",
       "3    Insight Enterprises, Inc.\\r\\n4.2          Plano, TX          Tempe, AZ   \n",
       "4                  NIC Infotek\\r\\n3.8    Saint Louis, MO          Tampa, FL   \n",
       "..                                ...                ...                ...   \n",
       "995                       Eaze\\r\\n3.6  San Francisco, CA  San Francisco, CA   \n",
       "996          Goodwater Capital\\r\\n2.9     Burlingame, CA      San Mateo, CA   \n",
       "997           Dun & Bradstreet\\r\\n3.1         Austin, TX    Short Hills, NJ   \n",
       "998                   Freestar\\r\\n4.9        Phoenix, AZ        Phoenix, AZ   \n",
       "999            Imperfect Foods\\r\\n3.8             Remote  San Francisco, CA   \n",
       "\n",
       "                        Size  Founded        Type of ownership  \\\n",
       "0    5001 to 10000 employees     1968         Company - Public   \n",
       "1     1001 to 5000 employees     1992        Company - Private   \n",
       "2      501 to 1000 employees     2015        Company - Private   \n",
       "3    5001 to 10000 employees     1988         Company - Public   \n",
       "4        51 to 200 employees     2004         Company - Public   \n",
       "..                       ...      ...                      ...   \n",
       "995      51 to 200 employees     2014        Company - Private   \n",
       "996        1 to 50 employees     2014  Private Practice / Firm   \n",
       "997   1001 to 5000 employees     1841        Company - Private   \n",
       "998        1 to 50 employees     2016        Company - Private   \n",
       "999   1001 to 5000 employees     2015        Company - Private   \n",
       "\n",
       "                                    Industry                     Sector  \\\n",
       "0                     Research & Development          Business Services   \n",
       "1                                IT Services     Information Technology   \n",
       "2                  Biotech & Pharmaceuticals  Biotech & Pharmaceuticals   \n",
       "3    Enterprise Software & Network Solutions     Information Technology   \n",
       "4                     Staffing & Outsourcing          Business Services   \n",
       "..                                       ...                        ...   \n",
       "995                                 Internet     Information Technology   \n",
       "996         Venture Capital & Private Equity                    Finance   \n",
       "997                              IT Services     Information Technology   \n",
       "998                  Advertising & Marketing          Business Services   \n",
       "999                   Food & Beverage Stores                     Retail   \n",
       "\n",
       "                              Revenue  \\\n",
       "0              $1 to $2 billion (USD)   \n",
       "1    $500 million to $1 billion (USD)   \n",
       "2            Unknown / Non-Applicable   \n",
       "3             $5 to $10 billion (USD)   \n",
       "4            Unknown / Non-Applicable   \n",
       "..                                ...   \n",
       "995          $25 to $50 million (USD)   \n",
       "996          Unknown / Non-Applicable   \n",
       "997            $1 to $2 billion (USD)   \n",
       "998          $25 to $50 million (USD)   \n",
       "999          Unknown / Non-Applicable   \n",
       "\n",
       "                                           Competitors  \n",
       "0                                                   -1  \n",
       "1                                                   -1  \n",
       "2                                                   -1  \n",
       "3                          CDW, PCM, SHI International  \n",
       "4                                                   -1  \n",
       "..                                                 ...  \n",
       "995  Harborside Health Center, Leafly, Privateer Ho...  \n",
       "996                                                 -1  \n",
       "997                                  Experian, Equifax  \n",
       "998                                                 -1  \n",
       "999                          Hungry Harvest, Good Eggs  \n",
       "\n",
       "[1000 rows x 14 columns]"
      ]
     },
     "execution_count": 195,
     "metadata": {},
     "output_type": "execute_result"
    }
   ],
   "source": [
    "df=pd.read_csv('glassdoor_jobs.csv')\n",
    "df"
   ]
  },
  {
   "cell_type": "code",
   "execution_count": 196,
   "metadata": {},
   "outputs": [
    {
     "data": {
      "text/plain": [
       "(1000, 14)"
      ]
     },
     "execution_count": 196,
     "metadata": {},
     "output_type": "execute_result"
    }
   ],
   "source": [
    "df.shape"
   ]
  },
  {
   "cell_type": "code",
   "execution_count": 197,
   "metadata": {},
   "outputs": [
    {
     "data": {
      "text/plain": [
       "Index(['Job Title', 'Salary Estimate', 'Job Description', 'Rating',\n",
       "       'Company Name', 'Location', 'Headquarters', 'Size', 'Founded',\n",
       "       'Type of ownership', 'Industry', 'Sector', 'Revenue', 'Competitors'],\n",
       "      dtype='object')"
      ]
     },
     "execution_count": 197,
     "metadata": {},
     "output_type": "execute_result"
    }
   ],
   "source": [
    "df.columns"
   ]
  },
  {
   "cell_type": "code",
   "execution_count": 198,
   "metadata": {},
   "outputs": [
    {
     "data": {
      "text/plain": [
       "$96K-$156K (Glassdoor est.)     170\n",
       "$56K-$97K (Glassdoor est.)       32\n",
       "$99K-$110K (Glassdoor est.)      32\n",
       "$105K-$166K (Glassdoor est.)     32\n",
       "$108K-$171K (Glassdoor est.)     32\n",
       "$96K-$101K (Glassdoor est.)      32\n",
       "$90K-$115K(Employer est.)        32\n",
       "$97K-$154K (Glassdoor est.)      32\n",
       "$111K-$181K (Glassdoor est.)     32\n",
       "$97K-$156K (Glassdoor est.)      32\n",
       "$119K-$186K (Glassdoor est.)     32\n",
       "$55K-$91K (Glassdoor est.)       32\n",
       "$60K-$101K (Glassdoor est.)      32\n",
       "$57K-$97K (Glassdoor est.)       32\n",
       "$74K-$123K (Glassdoor est.)      32\n",
       "$57K-$98K (Glassdoor est.)       32\n",
       "$69K-$118K (Glassdoor est.)      32\n",
       "$72K-$122K (Glassdoor est.)      32\n",
       "$94K-$154K (Glassdoor est.)      32\n",
       "$58K-$69K (Glassdoor est.)       32\n",
       "$141K-$225K (Glassdoor est.)     32\n",
       "$115K-$140K (Glassdoor est.)     32\n",
       "$73K-$125K (Glassdoor est.)      32\n",
       "$60K-$100K (Glassdoor est.)      32\n",
       "$109K-$178K (Glassdoor est.)     32\n",
       "$112K-$179K (Glassdoor est.)     32\n",
       "$64K-$106K (Glassdoor est.)      30\n",
       "Name: Salary Estimate, dtype: int64"
      ]
     },
     "execution_count": 198,
     "metadata": {},
     "output_type": "execute_result"
    }
   ],
   "source": [
    "df[\"Salary Estimate\"].value_counts()"
   ]
  },
  {
   "cell_type": "code",
   "execution_count": 199,
   "metadata": {},
   "outputs": [
    {
     "data": {
      "text/plain": [
       "San Francisco, CA    64\n",
       "New York, NY         57\n",
       "Boston, MA           30\n",
       "Reston, VA           25\n",
       "-1                   21\n",
       "                     ..\n",
       "Kansas City, MO       1\n",
       "Aventura, FL          1\n",
       "Weston, FL            1\n",
       "Chantilly, VA         1\n",
       "Duluth, GA            1\n",
       "Name: Headquarters, Length: 282, dtype: int64"
      ]
     },
     "execution_count": 199,
     "metadata": {},
     "output_type": "execute_result"
    }
   ],
   "source": [
    "df[\"Headquarters\"].value_counts()"
   ]
  },
  {
   "cell_type": "code",
   "execution_count": 200,
   "metadata": {},
   "outputs": [
    {
     "data": {
      "text/plain": [
       " 3.6    68\n",
       " 3.8    67\n",
       " 4.0    65\n",
       " 3.9    62\n",
       " 3.5    61\n",
       " 3.4    55\n",
       " 5.0    51\n",
       " 4.1    50\n",
       " 4.2    48\n",
       "-1.0    46\n",
       " 4.5    46\n",
       " 3.7    46\n",
       " 4.3    42\n",
       " 4.6    36\n",
       " 3.1    32\n",
       " 3.2    30\n",
       " 3.3    29\n",
       " 4.4    27\n",
       " 4.7    24\n",
       " 4.9    18\n",
       " 2.9    18\n",
       " 4.8    17\n",
       " 3.0    17\n",
       " 2.5     9\n",
       " 2.3     8\n",
       " 2.2     8\n",
       " 2.7     7\n",
       " 2.6     6\n",
       " 2.8     4\n",
       " 2.4     1\n",
       " 1.5     1\n",
       " 2.0     1\n",
       "Name: Rating, dtype: int64"
      ]
     },
     "execution_count": 200,
     "metadata": {},
     "output_type": "execute_result"
    }
   ],
   "source": [
    "df[\"Rating\"].value_counts()"
   ]
  },
  {
   "cell_type": "markdown",
   "metadata": {},
   "source": [
    "THings To Be Cleaned/Added:\n",
    "\n",
    "1. Headquarters with -1 values removed \n",
    "2. Removing \"Glassdoor est\" from Salary\n",
    "3. Converting Salary Estimate to Int (removing K)\n",
    "4. Converting Salary Estimate to Avg. Salary\n",
    "5. Removing ratings with -1 values\n",
    "6. Removing Rating from Company Name field\n",
    "7. Adding a State field\n",
    "8. Checking if job is in the same state as Headquarters\n",
    "9. Adding an Age field for the company\n",
    "10. Adding columns for different job skills listed (Python, R/RStudio, AWS, Spark, Hadoop, Docker,SQL, Linux, Flask, Django, Tensorflow, Keras, PyTorch, Statistics, Algorithms)\n",
    "11. Adding a column for what type of Data Science job\n",
    "12. Adding a column to indicate Seniority level\n",
    "13. Job Description Length\n",
    "14. Number of Competitors\n",
    "\n"
   ]
  },
  {
   "cell_type": "code",
   "execution_count": 201,
   "metadata": {},
   "outputs": [],
   "source": [
    "#>>>>>>>>>>>>>>>>>>>>>>>>>>>>>>>>>>>>>>>>>>>>>CLEANING<<<<<<<<<<<<<<<<<<<<<<<<<<<<<<<<<<<<<<<<<<<<<<<<<<<<<<<<<<<<<<<<<<<<<<<<<"
   ]
  },
  {
   "cell_type": "code",
   "execution_count": 202,
   "metadata": {},
   "outputs": [
    {
     "data": {
      "text/plain": [
       "San Francisco, CA    64\n",
       "New York, NY         57\n",
       "Boston, MA           30\n",
       "Reston, VA           25\n",
       "Cambridge, MA        17\n",
       "                     ..\n",
       "Kansas City, MO       1\n",
       "Aventura, FL          1\n",
       "Weston, FL            1\n",
       "Chantilly, VA         1\n",
       "Duluth, GA            1\n",
       "Name: Headquarters, Length: 281, dtype: int64"
      ]
     },
     "execution_count": 202,
     "metadata": {},
     "output_type": "execute_result"
    }
   ],
   "source": [
    "# Removing the NUll headquaters\n",
    "df=df[df['Headquarters']!='-1']\n",
    "df['Headquarters'].value_counts()"
   ]
  },
  {
   "cell_type": "code",
   "execution_count": 203,
   "metadata": {},
   "outputs": [
    {
     "data": {
      "text/plain": [
       "(979, 14)"
      ]
     },
     "execution_count": 203,
     "metadata": {},
     "output_type": "execute_result"
    }
   ],
   "source": [
    "df.shape# removed 21 rows"
   ]
  },
  {
   "cell_type": "code",
   "execution_count": 204,
   "metadata": {},
   "outputs": [
    {
     "data": {
      "text/html": [
       "<div>\n",
       "<style scoped>\n",
       "    .dataframe tbody tr th:only-of-type {\n",
       "        vertical-align: middle;\n",
       "    }\n",
       "\n",
       "    .dataframe tbody tr th {\n",
       "        vertical-align: top;\n",
       "    }\n",
       "\n",
       "    .dataframe thead th {\n",
       "        text-align: right;\n",
       "    }\n",
       "</style>\n",
       "<table border=\"1\" class=\"dataframe\">\n",
       "  <thead>\n",
       "    <tr style=\"text-align: right;\">\n",
       "      <th></th>\n",
       "      <th>Job Title</th>\n",
       "      <th>Salary Estimate</th>\n",
       "      <th>Job Description</th>\n",
       "      <th>Rating</th>\n",
       "      <th>Company Name</th>\n",
       "      <th>Location</th>\n",
       "      <th>Headquarters</th>\n",
       "      <th>Size</th>\n",
       "      <th>Founded</th>\n",
       "      <th>Type of ownership</th>\n",
       "      <th>Industry</th>\n",
       "      <th>Sector</th>\n",
       "      <th>Revenue</th>\n",
       "      <th>Competitors</th>\n",
       "    </tr>\n",
       "  </thead>\n",
       "  <tbody>\n",
       "    <tr>\n",
       "      <th>0</th>\n",
       "      <td>Data Scientist</td>\n",
       "      <td>$64K-$106K (Glassdoor est.)</td>\n",
       "      <td>Secure our Nation, Ignite your Future\\r\\n\\r\\nJ...</td>\n",
       "      <td>4.2</td>\n",
       "      <td>ManTech\\r\\n4.2</td>\n",
       "      <td>Chantilly, VA</td>\n",
       "      <td>Herndon, VA</td>\n",
       "      <td>5001 to 10000 employees</td>\n",
       "      <td>1968</td>\n",
       "      <td>Company - Public</td>\n",
       "      <td>Research &amp; Development</td>\n",
       "      <td>Business Services</td>\n",
       "      <td>$1 to $2 billion (USD)</td>\n",
       "      <td>-1</td>\n",
       "    </tr>\n",
       "    <tr>\n",
       "      <th>1</th>\n",
       "      <td>Associate Business Intelligence Data Scientist</td>\n",
       "      <td>$64K-$106K (Glassdoor est.)</td>\n",
       "      <td>Blending customer advisory, customer support, ...</td>\n",
       "      <td>3.2</td>\n",
       "      <td>Carousel Industries\\r\\n3.2</td>\n",
       "      <td>Exeter, RI</td>\n",
       "      <td>Exeter, RI</td>\n",
       "      <td>1001 to 5000 employees</td>\n",
       "      <td>1992</td>\n",
       "      <td>Company - Private</td>\n",
       "      <td>IT Services</td>\n",
       "      <td>Information Technology</td>\n",
       "      <td>$500 million to $1 billion (USD)</td>\n",
       "      <td>-1</td>\n",
       "    </tr>\n",
       "    <tr>\n",
       "      <th>2</th>\n",
       "      <td>Scientist, Population Genomics</td>\n",
       "      <td>$64K-$106K (Glassdoor est.)</td>\n",
       "      <td>WuXi NextCODE is seeking a motivated Scientist...</td>\n",
       "      <td>2.9</td>\n",
       "      <td>Carousel Industries\\r\\n3.2</td>\n",
       "      <td>Cambridge, MA</td>\n",
       "      <td>Cambridge, MA</td>\n",
       "      <td>501 to 1000 employees</td>\n",
       "      <td>2015</td>\n",
       "      <td>Company - Private</td>\n",
       "      <td>Biotech &amp; Pharmaceuticals</td>\n",
       "      <td>Biotech &amp; Pharmaceuticals</td>\n",
       "      <td>Unknown / Non-Applicable</td>\n",
       "      <td>-1</td>\n",
       "    </tr>\n",
       "    <tr>\n",
       "      <th>3</th>\n",
       "      <td>Data Analyst II</td>\n",
       "      <td>$64K-$106K (Glassdoor est.)</td>\n",
       "      <td>The Data Analyst II is responsible for data en...</td>\n",
       "      <td>4.2</td>\n",
       "      <td>Insight Enterprises, Inc.\\r\\n4.2</td>\n",
       "      <td>Plano, TX</td>\n",
       "      <td>Tempe, AZ</td>\n",
       "      <td>5001 to 10000 employees</td>\n",
       "      <td>1988</td>\n",
       "      <td>Company - Public</td>\n",
       "      <td>Enterprise Software &amp; Network Solutions</td>\n",
       "      <td>Information Technology</td>\n",
       "      <td>$5 to $10 billion (USD)</td>\n",
       "      <td>CDW, PCM, SHI International</td>\n",
       "    </tr>\n",
       "    <tr>\n",
       "      <th>4</th>\n",
       "      <td>Sensory Scientist</td>\n",
       "      <td>$64K-$106K (Glassdoor est.)</td>\n",
       "      <td>A leading food production company in St. Louis...</td>\n",
       "      <td>3.8</td>\n",
       "      <td>NIC Infotek\\r\\n3.8</td>\n",
       "      <td>Saint Louis, MO</td>\n",
       "      <td>Tampa, FL</td>\n",
       "      <td>51 to 200 employees</td>\n",
       "      <td>2004</td>\n",
       "      <td>Company - Public</td>\n",
       "      <td>Staffing &amp; Outsourcing</td>\n",
       "      <td>Business Services</td>\n",
       "      <td>Unknown / Non-Applicable</td>\n",
       "      <td>-1</td>\n",
       "    </tr>\n",
       "    <tr>\n",
       "      <th>...</th>\n",
       "      <td>...</td>\n",
       "      <td>...</td>\n",
       "      <td>...</td>\n",
       "      <td>...</td>\n",
       "      <td>...</td>\n",
       "      <td>...</td>\n",
       "      <td>...</td>\n",
       "      <td>...</td>\n",
       "      <td>...</td>\n",
       "      <td>...</td>\n",
       "      <td>...</td>\n",
       "      <td>...</td>\n",
       "      <td>...</td>\n",
       "      <td>...</td>\n",
       "    </tr>\n",
       "    <tr>\n",
       "      <th>995</th>\n",
       "      <td>Data Scientist</td>\n",
       "      <td>$96K-$156K (Glassdoor est.)</td>\n",
       "      <td>As a Data Scientist at Eaze, you'll report to ...</td>\n",
       "      <td>3.6</td>\n",
       "      <td>Eaze\\r\\n3.6</td>\n",
       "      <td>San Francisco, CA</td>\n",
       "      <td>San Francisco, CA</td>\n",
       "      <td>51 to 200 employees</td>\n",
       "      <td>2014</td>\n",
       "      <td>Company - Private</td>\n",
       "      <td>Internet</td>\n",
       "      <td>Information Technology</td>\n",
       "      <td>$25 to $50 million (USD)</td>\n",
       "      <td>Harborside Health Center, Leafly, Privateer Ho...</td>\n",
       "    </tr>\n",
       "    <tr>\n",
       "      <th>996</th>\n",
       "      <td>Data Scientist</td>\n",
       "      <td>$96K-$156K (Glassdoor est.)</td>\n",
       "      <td>We are looking for data scientists who love ex...</td>\n",
       "      <td>2.9</td>\n",
       "      <td>Goodwater Capital\\r\\n2.9</td>\n",
       "      <td>Burlingame, CA</td>\n",
       "      <td>San Mateo, CA</td>\n",
       "      <td>1 to 50 employees</td>\n",
       "      <td>2014</td>\n",
       "      <td>Private Practice / Firm</td>\n",
       "      <td>Venture Capital &amp; Private Equity</td>\n",
       "      <td>Finance</td>\n",
       "      <td>Unknown / Non-Applicable</td>\n",
       "      <td>-1</td>\n",
       "    </tr>\n",
       "    <tr>\n",
       "      <th>997</th>\n",
       "      <td>Data Scientist</td>\n",
       "      <td>$96K-$156K (Glassdoor est.)</td>\n",
       "      <td>Why We Work at Dun &amp; Bradstreet\\r\\n\\r\\n\\r\\nWe ...</td>\n",
       "      <td>3.1</td>\n",
       "      <td>Dun &amp; Bradstreet\\r\\n3.1</td>\n",
       "      <td>Austin, TX</td>\n",
       "      <td>Short Hills, NJ</td>\n",
       "      <td>1001 to 5000 employees</td>\n",
       "      <td>1841</td>\n",
       "      <td>Company - Private</td>\n",
       "      <td>IT Services</td>\n",
       "      <td>Information Technology</td>\n",
       "      <td>$1 to $2 billion (USD)</td>\n",
       "      <td>Experian, Equifax</td>\n",
       "    </tr>\n",
       "    <tr>\n",
       "      <th>998</th>\n",
       "      <td>Data Scientist</td>\n",
       "      <td>$96K-$156K (Glassdoor est.)</td>\n",
       "      <td>About Freestar:\\r\\n\\r\\nFreestar engineers cutt...</td>\n",
       "      <td>4.9</td>\n",
       "      <td>Freestar\\r\\n4.9</td>\n",
       "      <td>Phoenix, AZ</td>\n",
       "      <td>Phoenix, AZ</td>\n",
       "      <td>1 to 50 employees</td>\n",
       "      <td>2016</td>\n",
       "      <td>Company - Private</td>\n",
       "      <td>Advertising &amp; Marketing</td>\n",
       "      <td>Business Services</td>\n",
       "      <td>$25 to $50 million (USD)</td>\n",
       "      <td>-1</td>\n",
       "    </tr>\n",
       "    <tr>\n",
       "      <th>999</th>\n",
       "      <td>Data Scientist</td>\n",
       "      <td>$96K-$156K (Glassdoor est.)</td>\n",
       "      <td>About Imperfect\\r\\n\\r\\nImperfect Foods was fou...</td>\n",
       "      <td>3.8</td>\n",
       "      <td>Imperfect Foods\\r\\n3.8</td>\n",
       "      <td>Remote</td>\n",
       "      <td>San Francisco, CA</td>\n",
       "      <td>1001 to 5000 employees</td>\n",
       "      <td>2015</td>\n",
       "      <td>Company - Private</td>\n",
       "      <td>Food &amp; Beverage Stores</td>\n",
       "      <td>Retail</td>\n",
       "      <td>Unknown / Non-Applicable</td>\n",
       "      <td>Hungry Harvest, Good Eggs</td>\n",
       "    </tr>\n",
       "  </tbody>\n",
       "</table>\n",
       "<p>979 rows × 14 columns</p>\n",
       "</div>"
      ],
      "text/plain": [
       "                                          Job Title  \\\n",
       "0                                    Data Scientist   \n",
       "1    Associate Business Intelligence Data Scientist   \n",
       "2                    Scientist, Population Genomics   \n",
       "3                                   Data Analyst II   \n",
       "4                                 Sensory Scientist   \n",
       "..                                              ...   \n",
       "995                                  Data Scientist   \n",
       "996                                  Data Scientist   \n",
       "997                                  Data Scientist   \n",
       "998                                  Data Scientist   \n",
       "999                                  Data Scientist   \n",
       "\n",
       "                 Salary Estimate  \\\n",
       "0    $64K-$106K (Glassdoor est.)   \n",
       "1    $64K-$106K (Glassdoor est.)   \n",
       "2    $64K-$106K (Glassdoor est.)   \n",
       "3    $64K-$106K (Glassdoor est.)   \n",
       "4    $64K-$106K (Glassdoor est.)   \n",
       "..                           ...   \n",
       "995  $96K-$156K (Glassdoor est.)   \n",
       "996  $96K-$156K (Glassdoor est.)   \n",
       "997  $96K-$156K (Glassdoor est.)   \n",
       "998  $96K-$156K (Glassdoor est.)   \n",
       "999  $96K-$156K (Glassdoor est.)   \n",
       "\n",
       "                                       Job Description  Rating  \\\n",
       "0    Secure our Nation, Ignite your Future\\r\\n\\r\\nJ...     4.2   \n",
       "1    Blending customer advisory, customer support, ...     3.2   \n",
       "2    WuXi NextCODE is seeking a motivated Scientist...     2.9   \n",
       "3    The Data Analyst II is responsible for data en...     4.2   \n",
       "4    A leading food production company in St. Louis...     3.8   \n",
       "..                                                 ...     ...   \n",
       "995  As a Data Scientist at Eaze, you'll report to ...     3.6   \n",
       "996  We are looking for data scientists who love ex...     2.9   \n",
       "997  Why We Work at Dun & Bradstreet\\r\\n\\r\\n\\r\\nWe ...     3.1   \n",
       "998  About Freestar:\\r\\n\\r\\nFreestar engineers cutt...     4.9   \n",
       "999  About Imperfect\\r\\n\\r\\nImperfect Foods was fou...     3.8   \n",
       "\n",
       "                         Company Name           Location       Headquarters  \\\n",
       "0                      ManTech\\r\\n4.2      Chantilly, VA        Herndon, VA   \n",
       "1          Carousel Industries\\r\\n3.2         Exeter, RI         Exeter, RI   \n",
       "2          Carousel Industries\\r\\n3.2      Cambridge, MA      Cambridge, MA   \n",
       "3    Insight Enterprises, Inc.\\r\\n4.2          Plano, TX          Tempe, AZ   \n",
       "4                  NIC Infotek\\r\\n3.8    Saint Louis, MO          Tampa, FL   \n",
       "..                                ...                ...                ...   \n",
       "995                       Eaze\\r\\n3.6  San Francisco, CA  San Francisco, CA   \n",
       "996          Goodwater Capital\\r\\n2.9     Burlingame, CA      San Mateo, CA   \n",
       "997           Dun & Bradstreet\\r\\n3.1         Austin, TX    Short Hills, NJ   \n",
       "998                   Freestar\\r\\n4.9        Phoenix, AZ        Phoenix, AZ   \n",
       "999            Imperfect Foods\\r\\n3.8             Remote  San Francisco, CA   \n",
       "\n",
       "                        Size  Founded        Type of ownership  \\\n",
       "0    5001 to 10000 employees     1968         Company - Public   \n",
       "1     1001 to 5000 employees     1992        Company - Private   \n",
       "2      501 to 1000 employees     2015        Company - Private   \n",
       "3    5001 to 10000 employees     1988         Company - Public   \n",
       "4        51 to 200 employees     2004         Company - Public   \n",
       "..                       ...      ...                      ...   \n",
       "995      51 to 200 employees     2014        Company - Private   \n",
       "996        1 to 50 employees     2014  Private Practice / Firm   \n",
       "997   1001 to 5000 employees     1841        Company - Private   \n",
       "998        1 to 50 employees     2016        Company - Private   \n",
       "999   1001 to 5000 employees     2015        Company - Private   \n",
       "\n",
       "                                    Industry                     Sector  \\\n",
       "0                     Research & Development          Business Services   \n",
       "1                                IT Services     Information Technology   \n",
       "2                  Biotech & Pharmaceuticals  Biotech & Pharmaceuticals   \n",
       "3    Enterprise Software & Network Solutions     Information Technology   \n",
       "4                     Staffing & Outsourcing          Business Services   \n",
       "..                                       ...                        ...   \n",
       "995                                 Internet     Information Technology   \n",
       "996         Venture Capital & Private Equity                    Finance   \n",
       "997                              IT Services     Information Technology   \n",
       "998                  Advertising & Marketing          Business Services   \n",
       "999                   Food & Beverage Stores                     Retail   \n",
       "\n",
       "                              Revenue  \\\n",
       "0              $1 to $2 billion (USD)   \n",
       "1    $500 million to $1 billion (USD)   \n",
       "2            Unknown / Non-Applicable   \n",
       "3             $5 to $10 billion (USD)   \n",
       "4            Unknown / Non-Applicable   \n",
       "..                                ...   \n",
       "995          $25 to $50 million (USD)   \n",
       "996          Unknown / Non-Applicable   \n",
       "997            $1 to $2 billion (USD)   \n",
       "998          $25 to $50 million (USD)   \n",
       "999          Unknown / Non-Applicable   \n",
       "\n",
       "                                           Competitors  \n",
       "0                                                   -1  \n",
       "1                                                   -1  \n",
       "2                                                   -1  \n",
       "3                          CDW, PCM, SHI International  \n",
       "4                                                   -1  \n",
       "..                                                 ...  \n",
       "995  Harborside Health Center, Leafly, Privateer Ho...  \n",
       "996                                                 -1  \n",
       "997                                  Experian, Equifax  \n",
       "998                                                 -1  \n",
       "999                          Hungry Harvest, Good Eggs  \n",
       "\n",
       "[979 rows x 14 columns]"
      ]
     },
     "execution_count": 204,
     "metadata": {},
     "output_type": "execute_result"
    }
   ],
   "source": [
    "df"
   ]
  },
  {
   "cell_type": "markdown",
   "metadata": {},
   "source": [
    "Cleaning salary data"
   ]
  },
  {
   "cell_type": "code",
   "execution_count": 205,
   "metadata": {},
   "outputs": [
    {
     "data": {
      "text/plain": [
       "0      $64K-$106K \n",
       "1      $64K-$106K \n",
       "2      $64K-$106K \n",
       "3      $64K-$106K \n",
       "4      $64K-$106K \n",
       "          ...     \n",
       "995    $96K-$156K \n",
       "996    $96K-$156K \n",
       "997    $96K-$156K \n",
       "998    $96K-$156K \n",
       "999    $96K-$156K \n",
       "Name: Salary Estimate, Length: 979, dtype: object"
      ]
     },
     "execution_count": 205,
     "metadata": {},
     "output_type": "execute_result"
    }
   ],
   "source": [
    "salary=df['Salary Estimate'].apply(lambda x:x.split('(')[0])\n",
    "salary"
   ]
  },
  {
   "cell_type": "code",
   "execution_count": 206,
   "metadata": {},
   "outputs": [
    {
     "data": {
      "text/plain": [
       "0      64-106 \n",
       "1      64-106 \n",
       "2      64-106 \n",
       "3      64-106 \n",
       "4      64-106 \n",
       "        ...   \n",
       "995    96-156 \n",
       "996    96-156 \n",
       "997    96-156 \n",
       "998    96-156 \n",
       "999    96-156 \n",
       "Name: Salary Estimate, Length: 979, dtype: object"
      ]
     },
     "execution_count": 206,
     "metadata": {},
     "output_type": "execute_result"
    }
   ],
   "source": [
    "# removing the K value from the salary\n",
    "remove_k=salary.apply(lambda x:x.replace('K','').replace('$',''))\n",
    "remove_k\n",
    "                                           "
   ]
  },
  {
   "cell_type": "code",
   "execution_count": 207,
   "metadata": {},
   "outputs": [
    {
     "data": {
      "text/plain": [
       "0      106\n",
       "1      106\n",
       "2      106\n",
       "3      106\n",
       "4      106\n",
       "      ... \n",
       "995    156\n",
       "996    156\n",
       "997    156\n",
       "998    156\n",
       "999    156\n",
       "Name: max_salary, Length: 979, dtype: int64"
      ]
     },
     "execution_count": 207,
     "metadata": {},
     "output_type": "execute_result"
    }
   ],
   "source": [
    "df['min_salary']=remove_k.apply(lambda x:int(x.split('-')[0]))\n",
    "df['max_salary']=remove_k.apply(lambda x:int(x.split('-')[1]))\n",
    "df['max_salary']"
   ]
  },
  {
   "cell_type": "code",
   "execution_count": 208,
   "metadata": {},
   "outputs": [
    {
     "data": {
      "text/plain": [
       "0       85.0\n",
       "1       85.0\n",
       "2       85.0\n",
       "3       85.0\n",
       "4       85.0\n",
       "       ...  \n",
       "995    126.0\n",
       "996    126.0\n",
       "997    126.0\n",
       "998    126.0\n",
       "999    126.0\n",
       "Name: avg_salary, Length: 979, dtype: float64"
      ]
     },
     "execution_count": 208,
     "metadata": {},
     "output_type": "execute_result"
    }
   ],
   "source": [
    "# calculating the average salary\n",
    "df['avg_salary']=(df.min_salary+df.max_salary)/2\n",
    "df['avg_salary']"
   ]
  },
  {
   "cell_type": "markdown",
   "metadata": {},
   "source": [
    "Removing the rows with Null ratings "
   ]
  },
  {
   "cell_type": "code",
   "execution_count": 209,
   "metadata": {},
   "outputs": [],
   "source": [
    "df=df[df['Rating']!=-1.0]\n"
   ]
  },
  {
   "cell_type": "code",
   "execution_count": 210,
   "metadata": {},
   "outputs": [
    {
     "data": {
      "text/plain": [
       "Job Title                            Salary Estimate              Job Description                                                                                                                                                                                                                                                                                                                                                                                                                                                                                                                                                                                                                                                                                                                                                                                                                                                                                                                                                                                                                                                                                                                                                                                                                                                                                                                                                                                                                                                                                                                                                                                                                                                                                                                                                                                                                                                                                                                                                                                                                                                                                                                                                                                                                                                                                                                                                                                                                                                                                                                                                                                                                                                                                                                                                                                                                                                                                                                                                                                                                                                                                                                                                                                                                                                                                                                                                                                                                                                                                                                                                                                                                                                                                                                                                                                                                                                                                                                                                                                                                                                                                                                                                                                                                                                                                                                                                                                                                                                                                                                                                                                                                                                                                                                                                                                                                                                                                                                                                                                                                                                                                                                                                                                                                                                                                                                                                                                                                                                                                                                                                                                                                                                                                                                                                                                                                                                                                                                                                                                                                                                                                                                                                                                                                                                                                                                                                                                                                                                                                                                                                                                              Rating  Company Name                    Location           Headquarters       Size                    Founded  Type of ownership  Industry                          Sector                  Revenue                     Competitors                                           min_salary  max_salary  avg_salary\n",
       "Data Scientist                       $96K-$156K (Glassdoor est.)  As a Data Scientist, you will have the unique opportunity to work on a program developing target models and advancing state-of-the-art modeling and prediction capabilities. This program will develop and train machine learning models to detect and discern features in scenes and develop an adversarial patch framework to defeat the trained classifiers.\\r\\nOur delivery teams are driven to explore new ideas and technology, and care deeply about collaboration, feedback, and iteration. We follow SAFe agile practices, embrace the Ops ethos(DataOps/DevSecOps/MLOps) to “automate-first”, use modern tech stacks, and constantly challenge each other to grow and improve.\\r\\nIf cutting edge data science projects resonate with you and you care deeply about joining a mission-driven company with a strong growth direction and diverse culture, we'd love to learn more about you. Check out the details below, and let’s connect.\\r\\n\\r\\nTechnical members of our solutions teams require little guidance, but love to learn, collaborate, and problem solve. This position requires a mid to senior level of experience, a passion for mission support, and a strong desire to solve our customers’ hardest technical and data challenges.\\r\\nThe Data Scientist will be responsible for the following:\\r\\nDevelop, train and evaluate Machine Learning models\\r\\nDevelop strategies for data augmentation and synthetic data\\r\\nUtilize models to detect and classify targets within scenes\\r\\nDevelop adversarial attacks to defeat trained classifiers\\r\\n\\r\\nRequirements:\\r\\nTS/SCI clearance required\\r\\n5+ years of related experience\\r\\nExperience with deep learning frameworks such as PyTorch, Tensorflow or MXNet\\r\\nPrior experience with the Intelligence Community and methodological experience in some of the following areas\\r\\nRelationships and discovery (correlating, enriching, and prioritizing target data)\\r\\nSituational awareness (unifying data into a single context, allowing the current situation to be accurately and quickly understood)\\r\\nSystems modeling (building a computational analog of real-world-system to understand how it operates, what it is capable of, and how it can be fooled)\\r\\nWe're looking for a motivated Data Scientist eager to advance not only your professional career, but also the missions of our Intelligence and Defense communities. At NT Concepts, you'll be able to:\\r\\nMeaningfully impact the company's growth, and share in the rewards accordingly\\r\\nDevelop your own career path through our What’s Next program, which emphasizes personal growth through training and certification\\r\\nWork on programs of importance that directly impact National Security and the world\\r\\nWork in a fun, “challenging yet rewarding” fast-paced environment\\r\\n#CJ                                                                                                                                                                                                                                                                                                                                                                                                                                                                                                                                                                                                                                                                                                                                                                                                                                                                                                                                                                                                                                                                                                                                                                                                                                                                                                                                                                                                                                                                                                                                                                                                                                                                                                                                                                                                                                                                                                                                                                                                                                                                                                                                                                                                                                                                                                                                                                                                                                                                                                                                                                                                                                                                                                                                                                                                                                                                                                                                                                                                                                                                                                                                                                                                                                                                                                                                                                                                                                                                                                                                                                                                                                                                                                                                              3.1     NT Concepts\\r\\n3.1              Chantilly, VA      Vienna, VA         501 to 1000 employees   1998     Company - Private  IT Services                       Information Technology  $100 to $500 million (USD)  -1                                                    96          156         126.0         6\n",
       "                                                                  Why We Work at Dun & Bradstreet\\r\\n\\r\\n\\r\\nWe are at a transformational moment in our company journey - and we’re so excited about it. Each day, we are finding new ways to strengthen our award-winning culture, and to accelerate creativity, innovation and growth. Our purpose is to help customers improve business performance with Dun & Bradstreet’s Data Cloud and Live Business Identity, and we’re wildly passionate and committed to this purpose. So, if you’re looking to make an immediate impact at a company that welcomes bold and diverse thinking, come join us!\\r\\n\\r\\n\\r\\n\\r\\nAs a Data Scientist, you will develop novel solutions to market-driven problems using knowledge of the latest ML techniques, rigorous statistical analysis, and practical experience on previous data science projects. You will collaborate with internal and external stakeholders (external customers, other D&B data scientists, sales team members, business unit product leaders, development teams, and global partners) to understand business needs and technical requirements.\\r\\n\\r\\nYou will also:\\r\\nServe as a Subject Matter Expert on internal D&B data, and estimation of business size.\\r\\nParticipate and support other teams as needed for all aspects of model development, including design, model implementation, validation, calibration, documentation, product implementation, monitoring, and reporting\\r\\nResearch complex business issues and recommend solutions, including customer data input requirements, other required data sets, modeling approaches, and end products\\r\\nBasic Qualifications:\\r\\nMasters in a quantitative / applied field (Engineering, Computer Science, Operations Research, Mathematics, Data Science, Economics, Statistics).\\r\\n2+ years of experience in data science roles.\\r\\nStrong knowledge of programming and modeling using Python, R, or SAS.\\r\\nStrong SQL skills and experience working with large data sets.\\r\\nExperience working collaboratively, including building and maintaining relationships with internal and external stakeholders/clients.\\r\\nExperience advising a team on innovative methodologies, data science tools, and environments.\\r\\nExperience communicating complex ideas to both a technical and non-technical audience.\\r\\nExperience applying modern machine learning techniques.\\r\\nPreferred Qualities\\r\\nCreative and inquisitive in nature, flexibility to learn and apply new methodologies.\\r\\nStrong writing skills.\\r\\nDun & Bradstreet is an Equal Opportunity Employer and all qualified applicants will receive consideration for employment without regard to race, color, religion, creed, sex, age, national origin, citizenship status, disability status, sexual orientation, gender identity or expression, pregnancy, genetic information, protected military and veteran status, ancestry, marital status, medical condition (cancer and genetic characteristics) or any other characteristic protected by law.\\r\\n\\r\\nWe are committed to Equal Employment Opportunity and providing reasonable accommodations to applicants with physical and/or mental disabilities. If you are interested in applying for employment with Dun & Bradstreet and need special assistance or an accommodation to use our website or to apply for a position, please send an e-mail with your request to TalentAcquisitionTeam@dnb.com. Determination on requests for reasonable accommodation are made on a case-by-case basis.\\r\\n\\r\\nPlease note that all Dun & Bradstreet job postings can be found at https://dnb.wd1.myworkdayjobs.com/Careers and all communication from Dun & Bradstreet will come from an email address ending in @dnb.com.                                                                                                                                                                                                                                                                                                                                                                                                                                                                                                                                                                                                                                                                                                                                                                                                                                                                                                                                                                                                                                                                                                                                                                                                                                                                                                                                                                                                                                                                                                                                                                                                                                                                                                                                                                                                                                                                                                                                                                                                                                                                                                                                                                                                                                                                                                                                                                                                                                                                                                                                                                                                                                                                                                                                                                                                                                               3.1     Dun & Bradstreet\\r\\n3.1         Austin, TX         Short Hills, NJ    1001 to 5000 employees  1841     Company - Private  IT Services                       Information Technology  $1 to $2 billion (USD)      Experian, Equifax                                     96          156         126.0         6\n",
       "                                                                  Job Description\\r\\nTitle: Data Scientist\\r\\nLocation: Cambridge, MA\\r\\nSalary: $100,000 - 115,000\\r\\nContact: Paul Chatlos, pchatlos@smithhanley.com\\r\\n\\r\\nData Scientist Details:\\r\\n\\r\\nAI Data Scientist will innovate product solutions, including python-based machine learning and client/server data frameworks to interpret images and text data for the creation of web-enabled applications. Scientific and engineering works that you produce will generate further evidence that superior results are achieved by machine learning neural networks.\\r\\n\\r\\nData Scientist Qualifications:\\r\\n\\r\\n-An out-of-the-box thinker who likes to produce iterative solutions to solve problems in a rapid development startup environment, with a love of writing and coding and taking up new challenges.\\r\\n-A Data Scientist who enjoys working with multiple code languages and development platforms to generate live products.\\r\\n-Has experience in computer vision machine learning neural network architectures especially capability with Python, Tensorflow and Opencv.\\r\\n-Experience in computer vision and image recognition highly preferred\\r\\n-Ideally, someone who has taken deep learning/machine vision technology from R&D to commercialization and has shown the ability to scale a product in commercial setting.\\r\\n-PhD or Master's Degree Preferred                                                                                                                                                                                                                                                                                                                                                                                                                                                                                                                                                                                                                                                                                                                                                                                                                                                                                                                                                                                                                                                                                                                                                                                                                                                                                                                                                                                                                                                                                                                                                                                                                                                                                                                                                                                                                                                                                                                                                                                                                                                                                                                                                                                                                                                                                                                                                                                                                                                                                                                                                                                                                                                                                                                                                                                                                                                                                                                                                                                                                                                                                                                                                                                                                                                                                                                                                                                                                                                                                                                                                                                                                                                                                                                                                                                                                                                                                                                                                                                                                                                                                                                                                                                                                                                                                                                                                                                                                                                                                                                                                                                                                                                                                                                                                                                                                                                                                                                                                                                                                                                                                                                                                                                                                           4.5     Smith Hanley Associates\\r\\n4.5  Cambridge, MA      New York, 061      1 to 50 employees       1980     Company - Private  Staffing & Outsourcing            Business Services       Unknown / Non-Applicable    Kforce, PageGroup, Robert Half                        96          156         126.0         6\n",
       "                                                                  As a Data Scientist at Eaze, you'll report to the Director of Analytics and work on building models and helping run experiments to improve Eaze’s business and customer experience. This is an incredibly high impact role as Eaze’s technology and customer experience relies heavily on several models.\\r\\nResponsibilities:\\r\\nBuilding production data science models utilized by many departments at Eaze as well as our core product, including predictive, vehicle routing, monte-carlo, and machine learning models\\r\\nWork with others to evaluate experiments and interpret the results to draw detailed and actionable conclusions\\r\\nProactively investigate data to provide unseen insights to impact our business\\r\\nWork cross functionally to understand the heuristics of your models and help others utilize them effectively\\r\\nSkills we're looking for:\\r\\n2+ years previous experience working on analytics and/or data science teams\\r\\nA knack for business and how analytics can empower and drive the data-driven decision making process\\r\\nA passion for analyzing data and working on open ended problems\\r\\nDemonstrated excellence in Python or R\\r\\nDemonstrated excellence in SQL\\r\\nStrong communication and organizational skills\\r\\nSelf-motivated with the ability to work independently\\r\\n\\r\\n\\r\\nAbout Eaze:\\r\\n\\r\\nEaze, a cannabis marketplace, is on a mission to enhance safe access to legal cannabis, educate people about cannabis as a tool for wellness, and drive smart cannabis policies. We work to achieve this by connecting adult consumers with licensed dispensaries and products; programs to help consumers make informed choices, and sharing market insights with industry partners, regulators, and the public through its Eaze Insights program. Learn more at www.eaze.com.\\r\\n\\r\\nWe strive to be an equal opportunity employer and enthusiastically encourage people from a wide variety of backgrounds and experiences to apply. Eaze does not discriminate by race, color, religion, sex (including pregnancy), gender, national origin, citizenship, age, mental or physical disability, veteran status, marital status, sexual orientation or any other basis prohibited by law.                                                                                                                                                                                                                                                                                                                                                                                                                                                                                                                                                                                                                                                                                                                                                                                                                                                                                                                                                                                                                                                                                                                                                                                                                                                                                                                                                                                                                                                                                                                                                                                                                                                                                                                                                                                                                                                                                                                                                                                                                                                                                                                                                                                                                                                                                                                                                                                                                                                                                                                                                                                                                                                                                                                                                                                                                                                                                                                                                                                                                                                                                                                                                                                                                                                                                                                                                                                                                                                                                                                                                                                                                                                                                                                                                                                                                                                                                                                                                                                                                                                                                                                                                                                                                                                                                                                                                       3.6     Eaze\\r\\n3.6                     San Francisco, CA  San Francisco, CA  51 to 200 employees     2014     Company - Private  Internet                          Information Technology  $25 to $50 million (USD)    Harborside Health Center, Leafly, Privateer Holdings  96          156         126.0         6\n",
       "                                                                  About Imperfect\\r\\n\\r\\nImperfect Foods was founded in 2015 with a mission to reduce food waste and build a better food system for everyone. We offer imperfect (yet delicious) produce, affordable pantry items, and quality meat and dairy. We deliver them conveniently to our customers’ doorsteps and pride ourselves on offering up to a 30% discount compared to grocery store prices. Our customers can get the healthy, seasonal produce they want alongside the grocery staples they rely on, without having to compromise their budget or values. We’re proving that doing the right thing for the planet doesn’t have to cost more, and that shopping for quality ingredients can support the people and resources that it takes to grow our favorite foods.\\r\\n\\r\\nWe're headquartered in San Francisco with operations all over the country. Check our website to see if there is an Imperfect near you!\\r\\n\\r\\nWe're looking for folks who are positive, motivated, and ready to change the world. If that sounds like you, drop us a line!\\r\\n\\r\\nHow we are protecting employees from COVID-19\\r\\n\\r\\nAt Imperfect Foods, employee health and safety is our top priority. We have implemented processes and precautions to prevent the spread of COVID-19 in our facilities. We provide gloves, masks, and hand sanitizer to all essential employees who must report to work. Before entering our warehouse, employees have their temperatures checked. In addition, we take great care to ensure frequently touched surfaces are sanitized throughout the day and all warehouses are fully sanitized weekly.\\r\\n\\r\\nWe have also implemented an Emergency Sick Leave policy providing full-time and part-time employees 2 additional weeks of paid time off and up to 26 weeks paid leave if they have a confirmed case of COVID-19.\\r\\n\\r\\nAbout the Role:\\r\\n\\r\\nImperfect is looking for an experienced Data Scientist to join the Business Intelligence team. The role will develop and automate algorithms that integrate with various parts of the business to better our customer understanding, improve our customer experience, and drive operational efficiency. Our Data Scientist will collaborate with departments across the company, such as Marketing, Operations, and Engineering, for a wide and deep impact. Some example projects include demand forecasting to help with warehouse labor and inventory planning, optimizations to improve warehouse efficiency, personalization and recommendation algorithms to enable customers to discover relevant products, and product subscription cadence optimization. As an early member of the data science team, your role will influence the tech stack and frameworks we develop. This role requires a strong level of analytical horsepower and communication skills to effectively analyze and tell the story behind the data.\\r\\n\\r\\nIf you like the idea of swimming in data, fighting food waste, and working with a bunch of pleasant people, come join us!\\r\\nResponsibilities:\\r\\nBuild production grade models on large-scale datasets by utilizing advanced statistical modeling, machine learning, or data mining techniques\\r\\nProvide data-driven analyses and insights for strategic and business initiatives, while maintaining analytics roadmap to prioritize initiatives, communicate timelines, and ensure successful, timely completion of deliverables\\r\\nCollaborate with the teams across the company to identify impactful business problems and translate them into structured analyses, actionable insights, and reports and dashboards\\r\\nAssist with the development and deployment of analytical tools and develop custom models to track key metrics, uncover insights in the data, and automate analyses\\r\\nContribute to code reviews and software development best practices\\r\\nEffectively communicate with initiative stakeholders, including technical and non-technical audiences. Tell the story behind the data\\r\\nSkills and Qualifications:\\r\\n3+ years of professional experience as a data scientist, including deploying and maintaining code in a production environment\\r\\nExperience with machine learning techniques and advanced analytics (e.g. regression, classification, clustering, time series, econometrics, mathematical optimization)Advanced SQL and Python skills and running advanced analytics in a scripting language. Bonus: experience in R and other languages\\r\\nA solid grasp of basic statistical applications and methods (experimentation, probabilities)\\r\\nExperience working with large data sets and preparing them for analysis\\r\\n\\r\\nAbout You:\\r\\nYou're able to clearly and effectively communicate the results of complex analyses and transform data into a story for different audiences and various stakeholders\\r\\nYou demonstrate intellectual curiosity, and a passion for translating information into actionable insights, with data big, small, structured, and messy\\r\\nYou have the insight to take ambiguous problems and solve them in a structured, hypothesis-driven, data-supported way\\r\\nYou're a self-starter with the ability to juggle multiple projects at once\\r\\nYou’re passionate about our mission to eliminate food waste and create a better food system for all\\r\\nDetails of the Position:\\r\\nFull-time exempt position reporting to the Director of Business Intelligence\\r\\nCandidate can be remotely located within the US\\r\\nSalary and employee stock options commensurate with experienceCompetitive benefits package including health care, paid vacation, 401K, paid parental leave, and recurring credit towards your Imperfect account!\\r\\nPhysical Requirements:\\r\\nSedentary work; involves sitting most of the time\\r\\nOccasional movement around the office may be necessary\\r\\nRegular work with computers, including keyboards, mouses, and screens\\r\\nRegular use of mobile devices, including smartphones and tablets\\r\\nIndividuals seeking employment at Imperfect Foods are considered without regard to race, color, religion, national origin, age, gender, marital status, ancestry, physical or mental disability, veteran status, or sexual orientation.\\r\\n\\r\\nU.S. E-Verify Notice: Imperfect Foods participates in E-Verify in the United States. Imperfect will provide the U.S. Social Security Administration (SSA) and, if necessary, the U.S. Department of Homeland Security (DHS), with information from each new employee's Form I-9 to confirm work authorization.  3.8     Imperfect Foods\\r\\n3.8          Remote             San Francisco, CA  1001 to 5000 employees  2015     Company - Private  Food & Beverage Stores            Retail                  Unknown / Non-Applicable    Hungry Harvest, Good Eggs                             96          156         126.0         6\n",
       "                                                                                                                                                                                                                                                                                                                                                                                                                                                                                                                                                                                                                                                                                                                                                                                                                                                                                                                                                                                                                                                                                                                                                                                                                                                                                                                                                                                                                                                                                                                                                                                                                                                                                                                                                                                                                                                                                                                                                                                                                                                                                                                                                                                                                                                                                                                                                                                                                                                                                                                                                                                                                                                                                                                                                                                                                                                                                                                                                                                                                                                                                                                                                                                                                                                                                                                                                                                                                                                                                                                                                                                                                                                                                                                                                                                                                                                                                                                                                                                                                                                                                                                                                                                                                                                                                                                                                                                                                                                                                                                                                                                                                                                                                                                                                                                                                                                                                                                                                                                                                                                                                                                                                                                                                                                                                                                                                                                                                                                                                                                                                                                                                                                                                                                                                                                                                                                                                                                                                                                                                                                                                                                                                                                                                                                                                                                                                                                                                                                                                                                                                                                                                                                                                                                                                                                                                                                                                                                                                                                                  ..\n",
       "Data Scientist IV                    $73K-$125K (Glassdoor est.)  Overview\\r\\n\\r\\n\\r\\nPeraton is seeking a Information Data Scientist to support our customer at Fort Meade, MD\\r\\n\\r\\nResponsibilities\\r\\n\\r\\n\\r\\nWhat you’ll do…\\r\\nDevelops machine learning, data mining, statistical and graph-based algorithms to analyze and make sense of datasets; prototype or consider several algorithms and decide upon final model based on suitable performance metrics.\\r\\nBuild models or develop experiments to generate data when training or example datasets are unavailable\\r\\nGenerate reports and visualizations that summarize datasets and provide data-driven insights to customers\\r\\nPartner with subject matter experts to translate manual data analysis into automated analytics\\r\\nImplement prototype algorithms within production frameworks for integration into analyst workflows\\r\\nQualifications\\r\\n\\r\\n\\r\\nYou’d be a great fit if you have …\\r\\nBachelor's and Master's degree from an accredited college or university in a quantitative discipline (e.g., statistics, mathematics, operations research, engineering or computer science). .\\r\\nFive years of experience analyzing datasets and developing analytics, five years of experience programming with data analysis software such as R, Python, SAS, or MATLAB\\r\\nAn additional two years of experience in software development, cloud development, analyzing datasets, or developing descriptive, predictive, and prescriptive analytics can be substituted for a Master's degree\\r\\nA PhD from an accredited college or university in a quantitative discipline can be substituted for three years of experience.\\r\\nProduce data visualizations that provide insight into dataset structure and meaning\\r\\nWork with subject matters experts (SMEs) to identify important information in raw data and develop scripts that extract this information from a variety of data formats (e.g., SQL tables, structured metadata, network logs)\\r\\nIncorporate SME input into feature vectors suitable for analytic development and testing\\r\\nTranslate customer qualitative analysis process and goals into quantitative formulations that are coded into software prototypes\\r\\nDevelop and implement statistical, machine learning, and heuristic techniques to create descriptive, predictive, and prescriptive analytics\\r\\nDevelop statistical tests to make data-driven recommendations and decisions\\r\\nDevelop experiments to collect data or models to simulate data when required data are unavailable\\r\\nDevelop feature vectors for input into machine learning algorithms\\r\\nIdentify the most appropriate algorithm for a given dataset and tune input and model parameters\\r\\nEvaluate and validate the performance of analytics using standard techniques and metrics (e.g. cross validation, ROC curves, confusion matrices)\\r\\nOversee the development of individual analytic efforts and guide team in analytic development process\\r\\nGuide analytic development toward solutions that can scale to large datasets\\r\\nPartner with software engineers and cloud developers to develop production analytics\\r\\nDevelop and train machine learning systems based on statistical analysis of data characteristics to support mission automation\\r\\nSECURITY CLEARANCE:\\r\\n\\r\\nTo be considered for this job you must already have an active TS/SCI clearance with a current polygraph.\\r\\n\\r\\nWhat you’ll get…\\r\\nAn immediately-vested 401(K) with employer matching\\r\\nRapid PTO accrual schedule with floating holidays\\r\\nComprehensive medical, dental, and vision coverage\\r\\nTuition assistance, financing, and refinancing\\r\\nPaid maternity and paternity leave\\r\\nCompany-paid infertility treatments\\r\\nCross-training and professional development opportunities\\r\\nThe ability to influence major initiatives\\r\\nSECURITY CLEARANCE This position requires the candidate to be able to obtain and maintain a secret security clearance. In order to obtain a clearance you need to be a US Citizen and show proof of citizenship.\\r\\n\\r\\nAbout Peraton\\r\\n\\r\\n\\r\\nAt Peraton, we’re at the forefront of delivering the next breakthrough in national security, every day. We’re the partner of choice to help solve some of the world’s most daunting challenges. How? By thinking differently. We’re not mired in the past. We look at all problems with fresh eyes. We look past the obvious to bring the best talent, tech, and ideas together to completely transform how problems are solved. So bring your unique ideas, your entrepreneurial spirit, and your drive to succeed. Get ready to be part of something bigger. Get ready to do the can’t be done.\\r\\n\\r\\nEEO Statement\\r\\n\\r\\n\\r\\nWe are an Equal Opportunity/Affirmative Action Employer. We consider applicants without regard to race, color, religion, age, national origin, ancestry, ethnicity, gender, gender identity, gender expression, sexual orientation, marital status, veteran status, disability, genetic information, citizenship status, or membership in any other group protected by federal, state, or local law.                                                                                                                                                                                                                                                                                                                                                                                                                                                                                                                                                                                                                                                                                                                                                                                                                                                                                                                                                                                                                                                                                                                                                                                                                                                                                                                                                                                                                                                      3.4     Peraton\\r\\n3.4                  Fort Meade, MD     Herndon, VA        1001 to 5000 employees  2017     Company - Private  Aerospace & Defense               Aerospace & Defense     $1 to $2 billion (USD)      -1                                                    73          125         99.0          1\n",
       "Data Scientist II, Growth Analytics  $60K-$101K (Glassdoor est.)  The Opportunity\\r\\n\\r\\n\\r\\nCome work for a data-driven innovator that's transforming the healthcare industry. In your role as a Data Scientist for Growth Analytics, you'll work closely with marketing teams driving enrollment and retention to create scalable analytics that directly drive Livongo's business forward.\\r\\n\\r\\nThis role will leverage your technical skills and business acumen as you deliver insights that inform Livongo's most important business decisions. You'll collaborate closely with leaders to support growth, helping us increase our reach and impact a greater number of people living with chronic and behavioral conditions. Your efforts will improve the value of Livongo services to our Members, increased engagement and member retention.\\r\\n\\r\\nThis high-profile, high-impact opportunity on the Data Science team has huge advancement potential, as well as the opportunity to leverage data in ways that truly make a difference in people's lives.\\r\\n\\r\\nResponsibilities\\r\\nGenerate and maintain dashboards on our reporting platform to enable stakeholders to keep a pulse on the performance of our campaigns, experiments and growth\\r\\nPerform detailed analyses to distill key insights and drivers for Livongo's rapidly growing customer base\\r\\nSupport analysis, modeling, and experimentation for mission-critical functions within the marketing teams driving member enrollment and usage\\r\\nCollaborate closely with stakeholders, solve problems they face and help decision-makers on the team form educated, practical strategies and recommendations\\r\\nProactively discover important trends in key metrics impacting our business and drive meaningful actions.\\r\\nCandidate Profile\\r\\n\\r\\n\\r\\nOur successful candidate will have:\\r\\n2+ years' experience in Data Science, Marketing and Growth Analytics or a related field in SaaS or consumer companies\\r\\nStrong SQL skills, ability to code in and analyze data with Python (or R), practical experience with BI tools like Tableau\\r\\nFirm understanding of basic statistical and machine learning concepts, experience with experimentation\\r\\nStrong critical thinking and active listening skills to infer business needs, grasp underlying context, and translate loose direction on analytical projects\\r\\nCompelling storytelling through analytics and visualization, getting your point across and keeping your audience engaged\\r\\nA strong grasp of key marketing metrics and drivers\\r\\nThe flexibility to respond to changing priorities and business environments\\r\\nA Master's degree or higher in computer science, statistics, information systems, engineering or a related field\\r\\nWhy Join Livongo?\\r\\n\\r\\n\\r\\nThe Transformative Name in Healthcare: The transformative industry forces in Community, Content and Commerce are now household names. As Amazon is to Commerce, Livongo is to Healthcare. With our Applied Health Signals engine, AI+AI, we've transformed how care is delivered.\\r\\n\\r\\nOur Work Truly Matters: Livongo's proprietary, consumer-first technology is revolutionizing the experience of living with a chronic health condition. Our data-driven digital health engine enables our Members to seamlessly manage multiple health conditions on one empowering platform. We use smart, connected devices, personalized digital guidance, and 24x7x365 access to health professionals to make it easier for people to stay healthier.\\r\\n\\r\\nMake an Impact: Do you want to accomplish something meaningful? To create results that matter? Livongo's innovative solution produces industry-leading member satisfaction, measurable clinical outcomes and proven healthcare costs savings. Here you can truly improve lives.\\r\\n\\r\\nThe Largest Digital Health IPO in History: We are at a milestone period in our history. On July 25, 2019 we took our company public, in order to elevate and expand the way the industry views us, thus ushering us into a whole new set of mission-critical conversations that will help us accomplish the work still to be done. As we reach new levels of achievement, we accelerate our ability to deliver life-changing services.\\r\\n\\r\\nFocus on PEOPLE: Livongo has been voted one of the Best Places to Work in healthcare, by Fortune Magazine and Best Place to Work! Talented, passionate individuals make the difference, in this fast-moving, collaborative and inspiring environment.\\r\\n\\r\\nDiversity and Inclusion: At Livongo we believe that personal and professional diversity is the key to innovation. We hire based solely on your strengths and qualifications, and the way in which those strengths can directly contribute to your success in your new position.\\r\\n\\r\\nGrowth and Innovation: We've already made healthcare history, yet we remain on the threshold of very big things. Leading the industry with our Applied Health Signals category, we have cracked the code to transforming healthcare. Come grow with us and support our mission to make a tangible difference in the lives of our Members.\\r\\n\\r\\nSee photos, watch videos and learn more about Livongo: follow us on Glassdoor.\\r\\n\\r\\n#LivongoIPO #appliedhealthsignals\\r\\n\\r\\nAs an Equal Opportunity Employer, we never have and never will discriminate against any job candidate or employee due to age, race, religion, color, ethnicity, national origin, gender, gender identity/expression, sexual orientation, membership in an employee organization, medical condition, family history, genetic information, veteran status, marital status, parental status or pregnancy (including breastfeeding we have a mother's room in both our offices). In our innovative and inclusive workplace, we prohibit discrimination and harassment of any kind.                                                                                                                                                                                                                                                                                                                                                                                                                                                                                                                                                                                                                                                                                                                         4.5     Livongo\\r\\n4.5                  Mountain View, CA  Mountain View, CA  501 to 1000 employees   2014     Company - Public   Health Care Services & Hospitals  Health Care             Unknown / Non-Applicable    -1                                                    60          101         80.5          1\n",
       "Data Scientist Architect             $97K-$154K (Glassdoor est.)  This career opportunity is in our Minneapolis office. This individual contributor position will be a member of a high-performing technology team that leads the firm in Business Intelligence and data services by providing architectural guidance, technological vision and solution development. Specifically, this position will be utilizing advanced analytics, data science and machine learning to give our business and our products a competitive advantage. It includes understanding and managing the data, how it interconnects and architecting data for self-serve BI and BA opportunities. This position is for a person that is both business savvy and an expert in data analytics/data science that enjoys framing a problem, shaping & creating solutions and helping to champion implementation.\\r\\n\\r\\nPRIMARY DUTIES AND RESPONSIBILITIES\\r\\nIdentify and prioritize business use cases. Understand the business, strategy and work with business leaders to identify and prioritize problems that advanced analytics is suited to solve. Effectively communicate these ideas to senior management. In other words, translate business problems into advanced analytics/data science projects and lead in quantifying the various types of risk and rewards that allow these projects to be prioritized.\\r\\nStakeholder thought partner to stakeholders by understanding the business needs through a deep knowledge of business operations, the key strategic objectives of our stakeholders, and what stakeholders need to achieve those strategic objectives. Seen by the stakeholder as an extension of their team and brought in for strategic and operational conversations.\\r\\nOperationalize data and analytic products while also making sure they continue to deliver value. Be able to tell the story of how data and analytics is positively impacting stakeholders. Work closely with the business to achieve real value through informed decisions and improved actions.\\r\\nGive direction and insight on all data analytics large initiatives/epics/areas of focus.\\r\\nBuild end to end advanced analytics, DSML and AI solutions.\\r\\nCollect and prepare data. You will help identify the business data needed to produce the most useful insights and future analytics. This would include business line and possible outside sources of data. Ensuring alignment on short-term delivery goals and long-term data and analytic roadmaps with clear articulation of expected value and how the work is to be prioritized.\\r\\nValidate business implications. You will synthesize analytics-derived insights into easy-to-understand, actionable recommendations that business users can easily understand. Ensure that the insights generated through sophisticated analytics translate to help drive revenue and cost-effective scaling.\\r\\nStay abreast of the latest developments and advancements. And how they could impact SullivanCotter.\\r\\nEDUCATION AND EXPERIENCE REQUIREMENTS\\r\\nBachelor’s degree in business, IT, mathematics, statistics or relevant degree program.\\r\\n10+ years' experience in data analytics or a data scientist or data architect role.\\r\\nExpertise solution design, problem framing, design thinking, analytics techniques and building solutions.\\r\\nSkilled at communicating with a variety of methods to include written business cases, data visualizations and infographics.\\r\\nDemonstrated technical excellence in BI, reporting and analytics tools, analytic solutions (e.g. Power BI, Tableau, R), data visualization, data analytics processing, Python, SQL, AI, and ML.\\r\\nExperience with the techniques and technologies of data science, along with a comprehensive understanding of the challenges associated with each (e.g. overfitting, model refresh, challenge of acquiring training data, cost of compute, etc.).\\r\\nDemonstrated communication and influencing skills with business and technical leaders. A talent for boiling complex ideas down to clear, practical choices. Track record of delivering multiple projects with tangible impact.\\r\\nExtensive experience leading large complex projects, including strategic and tactical planning and implementation, analysis, design, technology selection and deployment.\\r\\nResults driven–sets aggressive goals and is accountable for continuously driving improved outcomes, leads change, and ensures high standards.\\r\\nStorytelling: ability to communicate complex ideas in a way that is digestible to broad audience and leads to decision and action.\\r\\nTrack record of developing and implementing innovative highly available, scalable and secure enterprise data and analytic deployments to meet current and future business needs.\\r\\nBEHAVIORAL ATTRIBUTES\\r\\nYou are passionate about helping organizations drive their success utilizing data.\\r\\nSkilled storyteller with a passion for data, you will analyze and evaluate data to create innovative advanced analytics to provide the business a competitive edge.\\r\\nInquisitive, desire to ask questions and get a deeper understanding of issues (business and data).\\r\\nInnovative, ability to imagine new analytical solutions to any problem.\\r\\nConfident, able to challenge perceptions and biases of individuals at every level of the organization in order to enact improvements.\\r\\nAbility to communicate to both technical and non-technical people. Passion to give others an advantage of understanding by using accessible language.\\r\\nBusiness oriented, solid understanding of business requirements and vernacular.\\r\\nHighly detailed where and when you need to be, able to be less detailed when you need to be.\\r\\nCurious, stays abreast of current and upcoming technologies and tools.\\r\\nApplicants for employment must have work authorization that does not now or in the future require sponsorship of a visa for employment authorization in the United States (i.e., H1-B visa, F-1 visa (OPT), TN visa or any other non-immigrant status).\\r\\n\\r\\nQualified applicants will be afforded equal employment opportunities without discrimination because of race, creed, color, national origin, sex, age, disability or marital status.\\r\\n\\r\\nApply Now                                                                                                                                                                                                                                                                                  4.2     SullivanCotter\\r\\n4.2           Minneapolis, MN    Chicago, IL        201 to 500 employees    1992     Company - Private  Consulting                        Business Services       Unknown / Non-Applicable    Mercer, Korn Ferry, Integrated Healthcare Strategies  97          154         125.5         1\n",
       "                                     $60K-$100K (Glassdoor est.)  This career opportunity is in our Minneapolis office. This individual contributor position will be a member of a high-performing technology team that leads the firm in Business Intelligence and data services by providing architectural guidance, technological vision and solution development. Specifically, this position will be utilizing advanced analytics, data science and machine learning to give our business and our products a competitive advantage. It includes understanding and managing the data, how it interconnects and architecting data for self-serve BI and BA opportunities. This position is for a person that is both business savvy and an expert in data analytics/data science that enjoys framing a problem, shaping & creating solutions and helping to champion implementation.\\r\\n\\r\\nPRIMARY DUTIES AND RESPONSIBILITIES\\r\\nIdentify and prioritize business use cases. Understand the business, strategy and work with business leaders to identify and prioritize problems that advanced analytics is suited to solve. Effectively communicate these ideas to senior management. In other words, translate business problems into advanced analytics/data science projects and lead in quantifying the various types of risk and rewards that allow these projects to be prioritized.\\r\\nStakeholder thought partner to stakeholders by understanding the business needs through a deep knowledge of business operations, the key strategic objectives of our stakeholders, and what stakeholders need to achieve those strategic objectives. Seen by the stakeholder as an extension of their team and brought in for strategic and operational conversations.\\r\\nOperationalize data and analytic products while also making sure they continue to deliver value. Be able to tell the story of how data and analytics is positively impacting stakeholders. Work closely with the business to achieve real value through informed decisions and improved actions.\\r\\nGive direction and insight on all data analytics large initiatives/epics/areas of focus.\\r\\nBuild end to end advanced analytics, DSML and AI solutions.\\r\\nCollect and prepare data. You will help identify the business data needed to produce the most useful insights and future analytics. This would include business line and possible outside sources of data. Ensuring alignment on short-term delivery goals and long-term data and analytic roadmaps with clear articulation of expected value and how the work is to be prioritized.\\r\\nValidate business implications. You will synthesize analytics-derived insights into easy-to-understand, actionable recommendations that business users can easily understand. Ensure that the insights generated through sophisticated analytics translate to help drive revenue and cost-effective scaling.\\r\\nStay abreast of the latest developments and advancements. And how they could impact SullivanCotter.\\r\\nEDUCATION AND EXPERIENCE REQUIREMENTS\\r\\nBachelor’s degree in business, IT, mathematics, statistics or relevant degree program.\\r\\n10+ years' experience in data analytics or a data scientist or data architect role.\\r\\nExpertise solution design, problem framing, design thinking, analytics techniques and building solutions.\\r\\nSkilled at communicating with a variety of methods to include written business cases, data visualizations and infographics.\\r\\nDemonstrated technical excellence in BI, reporting and analytics tools, analytic solutions (e.g. Power BI, Tableau, R), data visualization, data analytics processing, Python, SQL, AI, and ML.\\r\\nExperience with the techniques and technologies of data science, along with a comprehensive understanding of the challenges associated with each (e.g. overfitting, model refresh, challenge of acquiring training data, cost of compute, etc.).\\r\\nDemonstrated communication and influencing skills with business and technical leaders. A talent for boiling complex ideas down to clear, practical choices. Track record of delivering multiple projects with tangible impact.\\r\\nExtensive experience leading large complex projects, including strategic and tactical planning and implementation, analysis, design, technology selection and deployment.\\r\\nResults driven–sets aggressive goals and is accountable for continuously driving improved outcomes, leads change, and ensures high standards.\\r\\nStorytelling: ability to communicate complex ideas in a way that is digestible to broad audience and leads to decision and action.\\r\\nTrack record of developing and implementing innovative highly available, scalable and secure enterprise data and analytic deployments to meet current and future business needs.\\r\\nBEHAVIORAL ATTRIBUTES\\r\\nYou are passionate about helping organizations drive their success utilizing data.\\r\\nSkilled storyteller with a passion for data, you will analyze and evaluate data to create innovative advanced analytics to provide the business a competitive edge.\\r\\nInquisitive, desire to ask questions and get a deeper understanding of issues (business and data).\\r\\nInnovative, ability to imagine new analytical solutions to any problem.\\r\\nConfident, able to challenge perceptions and biases of individuals at every level of the organization in order to enact improvements.\\r\\nAbility to communicate to both technical and non-technical people. Passion to give others an advantage of understanding by using accessible language.\\r\\nBusiness oriented, solid understanding of business requirements and vernacular.\\r\\nHighly detailed where and when you need to be, able to be less detailed when you need to be.\\r\\nCurious, stays abreast of current and upcoming technologies and tools.\\r\\nApplicants for employment must have work authorization that does not now or in the future require sponsorship of a visa for employment authorization in the United States (i.e., H1-B visa, F-1 visa (OPT), TN visa or any other non-immigrant status).\\r\\n\\r\\nQualified applicants will be afforded equal employment opportunities without discrimination because of race, creed, color, national origin, sex, age, disability or marital status.\\r\\n\\r\\nApply Now                                                                                                                                                                                                                                                                                  4.2     SullivanCotter\\r\\n4.2           Minneapolis, MN    Chicago, IL        201 to 500 employees    1992     Company - Private  Consulting                        Business Services       Unknown / Non-Applicable    Mercer, Korn Ferry, Integrated Healthcare Strategies  60          100         80.0          1\n",
       "AWS Data Engineer                    $56K-$97K (Glassdoor est.)   AWS Data Engineer Northern, VA\\r\\n\\r\\nAWS Data Engineer\\r\\n\\r\\n\\r\\nMinimum Requirements\\r\\nActive SECRET clearance preferred; Clearable US Citizen with NAIC (National background check) may also apply\\r\\n5 years Data Engineering experience AND a BA Degree in Computer Science, Engineering, Math, Sciences, or equivalent; 4 years of additional relevant experience may be substituted for education.\\r\\nWorking knowledge of agile software development, DevSecOps, and AWS native solutions including API Gateway, S3, and Lambda is required.\\r\\nPreferred Experience\\r\\nKnowledge of several of the following areas is desirable: DevSecOps, Active Server Pages, JavaScript, Python, HTML, and AWS native applications including S3, WAF, API Gateway, Lambda, CloudFront, DynamoDB, Transcribe, Athena, Simple Queue Service, QuikSight, CloudWatch, CloudTrail, KMS, and Cognito.\\r\\nJob Duties\\r\\nProvide development support to the Scrum Master in an agile software development environment in AWS.\\r\\nWorks as a key member of an AWS native solution software development team and works to identify risks and bottlenecks associated with big data environments.\\r\\n\\r\\nWho We Are\\r\\nNuWave Solutions is a leader in providing advanced technologies for Analytics and Data Management, and a passion for working with public sector customers and partners to enable innovative solutions for action through insight. Our unmatched technical expertise and dedication to teamwork and customer service enables us to help customers meet even the most complex business challenges and succeed on every engagement – with no exceptions and no excuses.\\r\\n\\r\\nPosition Details\\r\\nLocation – Arlington, Virginia\\r\\nTravel Required – N/A\\r\\nIf travel is required, how much? 0%\\r\\nWork Schedule (Shift etc.): Day Shift\\r\\nAuthorization to work in US required\\r\\n8570 Requirements: N/A\\r\\nNuWave Solutions is an EOE AA M/F/Vet/Disability\\r\\nTagged as: AWS Data Engineer                                                                                                                                                                                                                                                                                                                                                                                                                                                                                                                                                                                                                                                                                                                                                                                                                                                                                                                                                                                                                                                                                                                                                                                                                                                                                                                                                                                                                                                                                                                                                                                                                                                                                                                                                                                                                                                                                                                                                                                                                                                                                                                                                                                                                                                                                                                                                                                                                                                                                                                                                                                                                                                                                                                                                                                                                                                                                                                                                                                                                                                                                                                                                                                                                                                                                                                                                                                                                                                                                                                                                                                                                                                                                                                                                                                                                                                                                                                                                                                                                                                                                                                                                                                                                                                                                                                                                                                                                                                                                                                                                                                                      4.5     NuWave Solutions\\r\\n4.5         Virginia           Mc Lean, VA        51 to 200 employees     1999     Company - Private  IT Services                       Information Technology  $5 to $10 million (USD)     -1                                                    56          97          76.5          1\n",
       "Length: 823, dtype: int64"
      ]
     },
     "execution_count": 210,
     "metadata": {},
     "output_type": "execute_result"
    }
   ],
   "source": [
    "df.value_counts()"
   ]
  },
  {
   "cell_type": "code",
   "execution_count": 211,
   "metadata": {},
   "outputs": [
    {
     "data": {
      "text/plain": [
       "(952, 17)"
      ]
     },
     "execution_count": 211,
     "metadata": {},
     "output_type": "execute_result"
    }
   ],
   "source": [
    "df.shape  # so again 27 rows removed and 3 coloumns added"
   ]
  },
  {
   "cell_type": "markdown",
   "metadata": {},
   "source": [
    "Removing  rating fromt  the company fields"
   ]
  },
  {
   "cell_type": "code",
   "execution_count": 213,
   "metadata": {},
   "outputs": [
    {
     "data": {
      "text/plain": [
       "0                        ManTech\n",
       "1            Carousel Industries\n",
       "2            Carousel Industries\n",
       "3      Insight Enterprises, Inc.\n",
       "4                    NIC Infotek\n",
       "                 ...            \n",
       "995                         Eaze\n",
       "996            Goodwater Capital\n",
       "997             Dun & Bradstreet\n",
       "998                     Freestar\n",
       "999              Imperfect Foods\n",
       "Name: Company Name, Length: 952, dtype: object"
      ]
     },
     "execution_count": 213,
     "metadata": {},
     "output_type": "execute_result"
    }
   ],
   "source": [
    "df[\"Company Name\"]=df['Company Name'].apply(lambda x:x.split('\\n')[0])\n",
    "df[\"Company Name\"]=df['Company Name'].apply(lambda x:x.split('\\r')[0])\n",
    "df[\"Company Name\"]"
   ]
  },
  {
   "cell_type": "markdown",
   "metadata": {},
   "source": [
    "Adding and Cleaning State field:"
   ]
  },
  {
   "cell_type": "code",
   "execution_count": 214,
   "metadata": {},
   "outputs": [],
   "source": [
    "df=df[df['Location']!=\"United States\"] #removing 12 rows with general US location"
   ]
  },
  {
   "cell_type": "code",
   "execution_count": 223,
   "metadata": {},
   "outputs": [],
   "source": [
    "df['Location']=df['Location'].apply(lambda x: x if x != 'Oregon' else 'Portland, OR')"
   ]
  },
  {
   "cell_type": "code",
   "execution_count": 224,
   "metadata": {},
   "outputs": [],
   "source": [
    "df['Location']=df['Location'].apply(lambda x: x if x != 'New Jersey' else 'Princeton, NJ')"
   ]
  },
  {
   "cell_type": "code",
   "execution_count": 225,
   "metadata": {},
   "outputs": [],
   "source": [
    "df['Location']=df['Location'].apply(lambda x: x if x != 'Remote' else 'Remote, Remote')"
   ]
  },
  {
   "cell_type": "code",
   "execution_count": 229,
   "metadata": {},
   "outputs": [],
   "source": [
    "df['State']=df[\"Location\"].apply(lambda x:x.split(',')[-1])  # extracting the state"
   ]
  },
  {
   "cell_type": "code",
   "execution_count": 233,
   "metadata": {},
   "outputs": [],
   "source": [
    "df=df[df['State']!=\"United States\"]"
   ]
  },
  {
   "cell_type": "code",
   "execution_count": 234,
   "metadata": {},
   "outputs": [
    {
     "data": {
      "text/plain": [
       "(940, 18)"
      ]
     },
     "execution_count": 234,
     "metadata": {},
     "output_type": "execute_result"
    }
   ],
   "source": [
    "df.shape"
   ]
  },
  {
   "cell_type": "code",
   "execution_count": 235,
   "metadata": {},
   "outputs": [
    {
     "data": {
      "text/html": [
       "<div>\n",
       "<style scoped>\n",
       "    .dataframe tbody tr th:only-of-type {\n",
       "        vertical-align: middle;\n",
       "    }\n",
       "\n",
       "    .dataframe tbody tr th {\n",
       "        vertical-align: top;\n",
       "    }\n",
       "\n",
       "    .dataframe thead th {\n",
       "        text-align: right;\n",
       "    }\n",
       "</style>\n",
       "<table border=\"1\" class=\"dataframe\">\n",
       "  <thead>\n",
       "    <tr style=\"text-align: right;\">\n",
       "      <th></th>\n",
       "      <th>Job Title</th>\n",
       "      <th>Salary Estimate</th>\n",
       "      <th>Job Description</th>\n",
       "      <th>Rating</th>\n",
       "      <th>Company Name</th>\n",
       "      <th>Location</th>\n",
       "      <th>Headquarters</th>\n",
       "      <th>Size</th>\n",
       "      <th>Founded</th>\n",
       "      <th>Type of ownership</th>\n",
       "      <th>Industry</th>\n",
       "      <th>Sector</th>\n",
       "      <th>Revenue</th>\n",
       "      <th>Competitors</th>\n",
       "      <th>min_salary</th>\n",
       "      <th>max_salary</th>\n",
       "      <th>avg_salary</th>\n",
       "      <th>State</th>\n",
       "    </tr>\n",
       "  </thead>\n",
       "  <tbody>\n",
       "    <tr>\n",
       "      <th>0</th>\n",
       "      <td>Data Scientist</td>\n",
       "      <td>$64K-$106K (Glassdoor est.)</td>\n",
       "      <td>Secure our Nation, Ignite your Future\\r\\n\\r\\nJ...</td>\n",
       "      <td>4.2</td>\n",
       "      <td>ManTech</td>\n",
       "      <td>Chantilly, VA</td>\n",
       "      <td>Herndon, VA</td>\n",
       "      <td>5001 to 10000 employees</td>\n",
       "      <td>1968</td>\n",
       "      <td>Company - Public</td>\n",
       "      <td>Research &amp; Development</td>\n",
       "      <td>Business Services</td>\n",
       "      <td>$1 to $2 billion (USD)</td>\n",
       "      <td>-1</td>\n",
       "      <td>64</td>\n",
       "      <td>106</td>\n",
       "      <td>85.0</td>\n",
       "      <td>VA</td>\n",
       "    </tr>\n",
       "    <tr>\n",
       "      <th>1</th>\n",
       "      <td>Associate Business Intelligence Data Scientist</td>\n",
       "      <td>$64K-$106K (Glassdoor est.)</td>\n",
       "      <td>Blending customer advisory, customer support, ...</td>\n",
       "      <td>3.2</td>\n",
       "      <td>Carousel Industries</td>\n",
       "      <td>Exeter, RI</td>\n",
       "      <td>Exeter, RI</td>\n",
       "      <td>1001 to 5000 employees</td>\n",
       "      <td>1992</td>\n",
       "      <td>Company - Private</td>\n",
       "      <td>IT Services</td>\n",
       "      <td>Information Technology</td>\n",
       "      <td>$500 million to $1 billion (USD)</td>\n",
       "      <td>-1</td>\n",
       "      <td>64</td>\n",
       "      <td>106</td>\n",
       "      <td>85.0</td>\n",
       "      <td>RI</td>\n",
       "    </tr>\n",
       "    <tr>\n",
       "      <th>2</th>\n",
       "      <td>Scientist, Population Genomics</td>\n",
       "      <td>$64K-$106K (Glassdoor est.)</td>\n",
       "      <td>WuXi NextCODE is seeking a motivated Scientist...</td>\n",
       "      <td>2.9</td>\n",
       "      <td>Carousel Industries</td>\n",
       "      <td>Cambridge, MA</td>\n",
       "      <td>Cambridge, MA</td>\n",
       "      <td>501 to 1000 employees</td>\n",
       "      <td>2015</td>\n",
       "      <td>Company - Private</td>\n",
       "      <td>Biotech &amp; Pharmaceuticals</td>\n",
       "      <td>Biotech &amp; Pharmaceuticals</td>\n",
       "      <td>Unknown / Non-Applicable</td>\n",
       "      <td>-1</td>\n",
       "      <td>64</td>\n",
       "      <td>106</td>\n",
       "      <td>85.0</td>\n",
       "      <td>MA</td>\n",
       "    </tr>\n",
       "    <tr>\n",
       "      <th>3</th>\n",
       "      <td>Data Analyst II</td>\n",
       "      <td>$64K-$106K (Glassdoor est.)</td>\n",
       "      <td>The Data Analyst II is responsible for data en...</td>\n",
       "      <td>4.2</td>\n",
       "      <td>Insight Enterprises, Inc.</td>\n",
       "      <td>Plano, TX</td>\n",
       "      <td>Tempe, AZ</td>\n",
       "      <td>5001 to 10000 employees</td>\n",
       "      <td>1988</td>\n",
       "      <td>Company - Public</td>\n",
       "      <td>Enterprise Software &amp; Network Solutions</td>\n",
       "      <td>Information Technology</td>\n",
       "      <td>$5 to $10 billion (USD)</td>\n",
       "      <td>CDW, PCM, SHI International</td>\n",
       "      <td>64</td>\n",
       "      <td>106</td>\n",
       "      <td>85.0</td>\n",
       "      <td>TX</td>\n",
       "    </tr>\n",
       "  </tbody>\n",
       "</table>\n",
       "</div>"
      ],
      "text/plain": [
       "                                        Job Title  \\\n",
       "0                                  Data Scientist   \n",
       "1  Associate Business Intelligence Data Scientist   \n",
       "2                  Scientist, Population Genomics   \n",
       "3                                 Data Analyst II   \n",
       "\n",
       "               Salary Estimate  \\\n",
       "0  $64K-$106K (Glassdoor est.)   \n",
       "1  $64K-$106K (Glassdoor est.)   \n",
       "2  $64K-$106K (Glassdoor est.)   \n",
       "3  $64K-$106K (Glassdoor est.)   \n",
       "\n",
       "                                     Job Description  Rating  \\\n",
       "0  Secure our Nation, Ignite your Future\\r\\n\\r\\nJ...     4.2   \n",
       "1  Blending customer advisory, customer support, ...     3.2   \n",
       "2  WuXi NextCODE is seeking a motivated Scientist...     2.9   \n",
       "3  The Data Analyst II is responsible for data en...     4.2   \n",
       "\n",
       "                Company Name       Location   Headquarters  \\\n",
       "0                    ManTech  Chantilly, VA    Herndon, VA   \n",
       "1        Carousel Industries     Exeter, RI     Exeter, RI   \n",
       "2        Carousel Industries  Cambridge, MA  Cambridge, MA   \n",
       "3  Insight Enterprises, Inc.      Plano, TX      Tempe, AZ   \n",
       "\n",
       "                      Size  Founded  Type of ownership  \\\n",
       "0  5001 to 10000 employees     1968   Company - Public   \n",
       "1   1001 to 5000 employees     1992  Company - Private   \n",
       "2    501 to 1000 employees     2015  Company - Private   \n",
       "3  5001 to 10000 employees     1988   Company - Public   \n",
       "\n",
       "                                  Industry                     Sector  \\\n",
       "0                   Research & Development          Business Services   \n",
       "1                              IT Services     Information Technology   \n",
       "2                Biotech & Pharmaceuticals  Biotech & Pharmaceuticals   \n",
       "3  Enterprise Software & Network Solutions     Information Technology   \n",
       "\n",
       "                            Revenue                  Competitors  min_salary  \\\n",
       "0            $1 to $2 billion (USD)                           -1          64   \n",
       "1  $500 million to $1 billion (USD)                           -1          64   \n",
       "2          Unknown / Non-Applicable                           -1          64   \n",
       "3           $5 to $10 billion (USD)  CDW, PCM, SHI International          64   \n",
       "\n",
       "   max_salary  avg_salary State  \n",
       "0         106        85.0    VA  \n",
       "1         106        85.0    RI  \n",
       "2         106        85.0    MA  \n",
       "3         106        85.0    TX  "
      ]
     },
     "execution_count": 235,
     "metadata": {},
     "output_type": "execute_result"
    }
   ],
   "source": [
    "df.head(4)"
   ]
  },
  {
   "cell_type": "code",
   "execution_count": 244,
   "metadata": {},
   "outputs": [
    {
     "data": {
      "text/plain": [
       " CA        220\n",
       " MA         91\n",
       " VA         90\n",
       " NY         75\n",
       " TX         64\n",
       " IL         42\n",
       " WA         28\n",
       " DC         27\n",
       " MD         23\n",
       " PA         22\n",
       " FL         19\n",
       " WI         18\n",
       " UT         17\n",
       " AZ         17\n",
       " NJ         17\n",
       " CO         16\n",
       " MO         16\n",
       " OH         14\n",
       " Remote     13\n",
       " NC         13\n",
       " TN         12\n",
       " OR         10\n",
       " MI         10\n",
       " HI          9\n",
       " CT          9\n",
       " GA          6\n",
       " IN          5\n",
       " MN          4\n",
       " RI          4\n",
       " NE          3\n",
       "VA           3\n",
       " AL          3\n",
       " OK          3\n",
       " SC          2\n",
       " MS          2\n",
       " KS          2\n",
       " NH          2\n",
       " NM          2\n",
       " WV          2\n",
       " ID          1\n",
       " IA          1\n",
       " LA          1\n",
       "CA           1\n",
       " KY          1\n",
       "Name: State, dtype: int64"
      ]
     },
     "execution_count": 244,
     "metadata": {},
     "output_type": "execute_result"
    }
   ],
   "source": [
    "# removing the space abberervations\n",
    "\n",
    "df['State']=df.State.apply(lambda x:x.replace('',''))\n",
    "df['State']=df['State'].apply(lambda x:x if x!='California' else 'CA')\n",
    "df['State']=df['State'].apply(lambda x:x  if x!='Virginia' else 'VA')\n",
    "df['State']=df['State'].apply(lambda x:x  if x!='LA' else 'CA')\n",
    "df['State'].value_counts()"
   ]
  },
  {
   "cell_type": "code",
   "execution_count": 256,
   "metadata": {},
   "outputs": [
    {
     "data": {
      "text/plain": [
       "array([' VA', ' RI', ' MA', ' TX', ' MO', ' CA', ' OH', ' IN', ' FL',\n",
       "       ' IL', ' WI', ' NY', ' MD', ' UT', ' MN', ' NC', ' WA', ' CO',\n",
       "       ' OK', ' MI', ' SC', ' PA', ' DC', ' NJ', ' KS', ' WV', ' NM',\n",
       "       ' Remote', ' AZ', ' LA', ' IA', ' MS', ' OR', 'VA', ' GA', ' TN',\n",
       "       ' CT', ' HI', ' NH', ' NE', ' ID', ' AL', ' KY', 'CA'],\n",
       "      dtype=object)"
      ]
     },
     "execution_count": 256,
     "metadata": {},
     "output_type": "execute_result"
    }
   ],
   "source": [
    "df['State'].unique()"
   ]
  },
  {
   "cell_type": "code",
   "execution_count": 257,
   "metadata": {},
   "outputs": [
    {
     "data": {
      "text/html": [
       "<div>\n",
       "<style scoped>\n",
       "    .dataframe tbody tr th:only-of-type {\n",
       "        vertical-align: middle;\n",
       "    }\n",
       "\n",
       "    .dataframe tbody tr th {\n",
       "        vertical-align: top;\n",
       "    }\n",
       "\n",
       "    .dataframe thead th {\n",
       "        text-align: right;\n",
       "    }\n",
       "</style>\n",
       "<table border=\"1\" class=\"dataframe\">\n",
       "  <thead>\n",
       "    <tr style=\"text-align: right;\">\n",
       "      <th></th>\n",
       "      <th>Job Title</th>\n",
       "      <th>Salary Estimate</th>\n",
       "      <th>Job Description</th>\n",
       "      <th>Rating</th>\n",
       "      <th>Company Name</th>\n",
       "      <th>Location</th>\n",
       "      <th>Headquarters</th>\n",
       "      <th>Size</th>\n",
       "      <th>Founded</th>\n",
       "      <th>Type of ownership</th>\n",
       "      <th>Industry</th>\n",
       "      <th>Sector</th>\n",
       "      <th>Revenue</th>\n",
       "      <th>Competitors</th>\n",
       "      <th>min_salary</th>\n",
       "      <th>max_salary</th>\n",
       "      <th>avg_salary</th>\n",
       "      <th>State</th>\n",
       "    </tr>\n",
       "  </thead>\n",
       "  <tbody>\n",
       "    <tr>\n",
       "      <th>0</th>\n",
       "      <td>Data Scientist</td>\n",
       "      <td>$64K-$106K (Glassdoor est.)</td>\n",
       "      <td>Secure our Nation, Ignite your Future\\r\\n\\r\\nJ...</td>\n",
       "      <td>4.2</td>\n",
       "      <td>ManTech</td>\n",
       "      <td>Chantilly, VA</td>\n",
       "      <td>Herndon, VA</td>\n",
       "      <td>5001 to 10000 employees</td>\n",
       "      <td>1968</td>\n",
       "      <td>Company - Public</td>\n",
       "      <td>Research &amp; Development</td>\n",
       "      <td>Business Services</td>\n",
       "      <td>$1 to $2 billion (USD)</td>\n",
       "      <td>-1</td>\n",
       "      <td>64</td>\n",
       "      <td>106</td>\n",
       "      <td>85.0</td>\n",
       "      <td>VA</td>\n",
       "    </tr>\n",
       "    <tr>\n",
       "      <th>1</th>\n",
       "      <td>Associate Business Intelligence Data Scientist</td>\n",
       "      <td>$64K-$106K (Glassdoor est.)</td>\n",
       "      <td>Blending customer advisory, customer support, ...</td>\n",
       "      <td>3.2</td>\n",
       "      <td>Carousel Industries</td>\n",
       "      <td>Exeter, RI</td>\n",
       "      <td>Exeter, RI</td>\n",
       "      <td>1001 to 5000 employees</td>\n",
       "      <td>1992</td>\n",
       "      <td>Company - Private</td>\n",
       "      <td>IT Services</td>\n",
       "      <td>Information Technology</td>\n",
       "      <td>$500 million to $1 billion (USD)</td>\n",
       "      <td>-1</td>\n",
       "      <td>64</td>\n",
       "      <td>106</td>\n",
       "      <td>85.0</td>\n",
       "      <td>RI</td>\n",
       "    </tr>\n",
       "    <tr>\n",
       "      <th>2</th>\n",
       "      <td>Scientist, Population Genomics</td>\n",
       "      <td>$64K-$106K (Glassdoor est.)</td>\n",
       "      <td>WuXi NextCODE is seeking a motivated Scientist...</td>\n",
       "      <td>2.9</td>\n",
       "      <td>Carousel Industries</td>\n",
       "      <td>Cambridge, MA</td>\n",
       "      <td>Cambridge, MA</td>\n",
       "      <td>501 to 1000 employees</td>\n",
       "      <td>2015</td>\n",
       "      <td>Company - Private</td>\n",
       "      <td>Biotech &amp; Pharmaceuticals</td>\n",
       "      <td>Biotech &amp; Pharmaceuticals</td>\n",
       "      <td>Unknown / Non-Applicable</td>\n",
       "      <td>-1</td>\n",
       "      <td>64</td>\n",
       "      <td>106</td>\n",
       "      <td>85.0</td>\n",
       "      <td>MA</td>\n",
       "    </tr>\n",
       "    <tr>\n",
       "      <th>3</th>\n",
       "      <td>Data Analyst II</td>\n",
       "      <td>$64K-$106K (Glassdoor est.)</td>\n",
       "      <td>The Data Analyst II is responsible for data en...</td>\n",
       "      <td>4.2</td>\n",
       "      <td>Insight Enterprises, Inc.</td>\n",
       "      <td>Plano, TX</td>\n",
       "      <td>Tempe, AZ</td>\n",
       "      <td>5001 to 10000 employees</td>\n",
       "      <td>1988</td>\n",
       "      <td>Company - Public</td>\n",
       "      <td>Enterprise Software &amp; Network Solutions</td>\n",
       "      <td>Information Technology</td>\n",
       "      <td>$5 to $10 billion (USD)</td>\n",
       "      <td>CDW, PCM, SHI International</td>\n",
       "      <td>64</td>\n",
       "      <td>106</td>\n",
       "      <td>85.0</td>\n",
       "      <td>TX</td>\n",
       "    </tr>\n",
       "    <tr>\n",
       "      <th>4</th>\n",
       "      <td>Sensory Scientist</td>\n",
       "      <td>$64K-$106K (Glassdoor est.)</td>\n",
       "      <td>A leading food production company in St. Louis...</td>\n",
       "      <td>3.8</td>\n",
       "      <td>NIC Infotek</td>\n",
       "      <td>Saint Louis, MO</td>\n",
       "      <td>Tampa, FL</td>\n",
       "      <td>51 to 200 employees</td>\n",
       "      <td>2004</td>\n",
       "      <td>Company - Public</td>\n",
       "      <td>Staffing &amp; Outsourcing</td>\n",
       "      <td>Business Services</td>\n",
       "      <td>Unknown / Non-Applicable</td>\n",
       "      <td>-1</td>\n",
       "      <td>64</td>\n",
       "      <td>106</td>\n",
       "      <td>85.0</td>\n",
       "      <td>MO</td>\n",
       "    </tr>\n",
       "    <tr>\n",
       "      <th>...</th>\n",
       "      <td>...</td>\n",
       "      <td>...</td>\n",
       "      <td>...</td>\n",
       "      <td>...</td>\n",
       "      <td>...</td>\n",
       "      <td>...</td>\n",
       "      <td>...</td>\n",
       "      <td>...</td>\n",
       "      <td>...</td>\n",
       "      <td>...</td>\n",
       "      <td>...</td>\n",
       "      <td>...</td>\n",
       "      <td>...</td>\n",
       "      <td>...</td>\n",
       "      <td>...</td>\n",
       "      <td>...</td>\n",
       "      <td>...</td>\n",
       "      <td>...</td>\n",
       "    </tr>\n",
       "    <tr>\n",
       "      <th>995</th>\n",
       "      <td>Data Scientist</td>\n",
       "      <td>$96K-$156K (Glassdoor est.)</td>\n",
       "      <td>As a Data Scientist at Eaze, you'll report to ...</td>\n",
       "      <td>3.6</td>\n",
       "      <td>Eaze</td>\n",
       "      <td>San Francisco, CA</td>\n",
       "      <td>San Francisco, CA</td>\n",
       "      <td>51 to 200 employees</td>\n",
       "      <td>2014</td>\n",
       "      <td>Company - Private</td>\n",
       "      <td>Internet</td>\n",
       "      <td>Information Technology</td>\n",
       "      <td>$25 to $50 million (USD)</td>\n",
       "      <td>Harborside Health Center, Leafly, Privateer Ho...</td>\n",
       "      <td>96</td>\n",
       "      <td>156</td>\n",
       "      <td>126.0</td>\n",
       "      <td>CA</td>\n",
       "    </tr>\n",
       "    <tr>\n",
       "      <th>996</th>\n",
       "      <td>Data Scientist</td>\n",
       "      <td>$96K-$156K (Glassdoor est.)</td>\n",
       "      <td>We are looking for data scientists who love ex...</td>\n",
       "      <td>2.9</td>\n",
       "      <td>Goodwater Capital</td>\n",
       "      <td>Burlingame, CA</td>\n",
       "      <td>San Mateo, CA</td>\n",
       "      <td>1 to 50 employees</td>\n",
       "      <td>2014</td>\n",
       "      <td>Private Practice / Firm</td>\n",
       "      <td>Venture Capital &amp; Private Equity</td>\n",
       "      <td>Finance</td>\n",
       "      <td>Unknown / Non-Applicable</td>\n",
       "      <td>-1</td>\n",
       "      <td>96</td>\n",
       "      <td>156</td>\n",
       "      <td>126.0</td>\n",
       "      <td>CA</td>\n",
       "    </tr>\n",
       "    <tr>\n",
       "      <th>997</th>\n",
       "      <td>Data Scientist</td>\n",
       "      <td>$96K-$156K (Glassdoor est.)</td>\n",
       "      <td>Why We Work at Dun &amp; Bradstreet\\r\\n\\r\\n\\r\\nWe ...</td>\n",
       "      <td>3.1</td>\n",
       "      <td>Dun &amp; Bradstreet</td>\n",
       "      <td>Austin, TX</td>\n",
       "      <td>Short Hills, NJ</td>\n",
       "      <td>1001 to 5000 employees</td>\n",
       "      <td>1841</td>\n",
       "      <td>Company - Private</td>\n",
       "      <td>IT Services</td>\n",
       "      <td>Information Technology</td>\n",
       "      <td>$1 to $2 billion (USD)</td>\n",
       "      <td>Experian, Equifax</td>\n",
       "      <td>96</td>\n",
       "      <td>156</td>\n",
       "      <td>126.0</td>\n",
       "      <td>TX</td>\n",
       "    </tr>\n",
       "    <tr>\n",
       "      <th>998</th>\n",
       "      <td>Data Scientist</td>\n",
       "      <td>$96K-$156K (Glassdoor est.)</td>\n",
       "      <td>About Freestar:\\r\\n\\r\\nFreestar engineers cutt...</td>\n",
       "      <td>4.9</td>\n",
       "      <td>Freestar</td>\n",
       "      <td>Phoenix, AZ</td>\n",
       "      <td>Phoenix, AZ</td>\n",
       "      <td>1 to 50 employees</td>\n",
       "      <td>2016</td>\n",
       "      <td>Company - Private</td>\n",
       "      <td>Advertising &amp; Marketing</td>\n",
       "      <td>Business Services</td>\n",
       "      <td>$25 to $50 million (USD)</td>\n",
       "      <td>-1</td>\n",
       "      <td>96</td>\n",
       "      <td>156</td>\n",
       "      <td>126.0</td>\n",
       "      <td>AZ</td>\n",
       "    </tr>\n",
       "    <tr>\n",
       "      <th>999</th>\n",
       "      <td>Data Scientist</td>\n",
       "      <td>$96K-$156K (Glassdoor est.)</td>\n",
       "      <td>About Imperfect\\r\\n\\r\\nImperfect Foods was fou...</td>\n",
       "      <td>3.8</td>\n",
       "      <td>Imperfect Foods</td>\n",
       "      <td>Remote, Remote</td>\n",
       "      <td>San Francisco, CA</td>\n",
       "      <td>1001 to 5000 employees</td>\n",
       "      <td>2015</td>\n",
       "      <td>Company - Private</td>\n",
       "      <td>Food &amp; Beverage Stores</td>\n",
       "      <td>Retail</td>\n",
       "      <td>Unknown / Non-Applicable</td>\n",
       "      <td>Hungry Harvest, Good Eggs</td>\n",
       "      <td>96</td>\n",
       "      <td>156</td>\n",
       "      <td>126.0</td>\n",
       "      <td>Remote</td>\n",
       "    </tr>\n",
       "  </tbody>\n",
       "</table>\n",
       "<p>940 rows × 18 columns</p>\n",
       "</div>"
      ],
      "text/plain": [
       "                                          Job Title  \\\n",
       "0                                    Data Scientist   \n",
       "1    Associate Business Intelligence Data Scientist   \n",
       "2                    Scientist, Population Genomics   \n",
       "3                                   Data Analyst II   \n",
       "4                                 Sensory Scientist   \n",
       "..                                              ...   \n",
       "995                                  Data Scientist   \n",
       "996                                  Data Scientist   \n",
       "997                                  Data Scientist   \n",
       "998                                  Data Scientist   \n",
       "999                                  Data Scientist   \n",
       "\n",
       "                 Salary Estimate  \\\n",
       "0    $64K-$106K (Glassdoor est.)   \n",
       "1    $64K-$106K (Glassdoor est.)   \n",
       "2    $64K-$106K (Glassdoor est.)   \n",
       "3    $64K-$106K (Glassdoor est.)   \n",
       "4    $64K-$106K (Glassdoor est.)   \n",
       "..                           ...   \n",
       "995  $96K-$156K (Glassdoor est.)   \n",
       "996  $96K-$156K (Glassdoor est.)   \n",
       "997  $96K-$156K (Glassdoor est.)   \n",
       "998  $96K-$156K (Glassdoor est.)   \n",
       "999  $96K-$156K (Glassdoor est.)   \n",
       "\n",
       "                                       Job Description  Rating  \\\n",
       "0    Secure our Nation, Ignite your Future\\r\\n\\r\\nJ...     4.2   \n",
       "1    Blending customer advisory, customer support, ...     3.2   \n",
       "2    WuXi NextCODE is seeking a motivated Scientist...     2.9   \n",
       "3    The Data Analyst II is responsible for data en...     4.2   \n",
       "4    A leading food production company in St. Louis...     3.8   \n",
       "..                                                 ...     ...   \n",
       "995  As a Data Scientist at Eaze, you'll report to ...     3.6   \n",
       "996  We are looking for data scientists who love ex...     2.9   \n",
       "997  Why We Work at Dun & Bradstreet\\r\\n\\r\\n\\r\\nWe ...     3.1   \n",
       "998  About Freestar:\\r\\n\\r\\nFreestar engineers cutt...     4.9   \n",
       "999  About Imperfect\\r\\n\\r\\nImperfect Foods was fou...     3.8   \n",
       "\n",
       "                  Company Name           Location       Headquarters  \\\n",
       "0                      ManTech      Chantilly, VA        Herndon, VA   \n",
       "1          Carousel Industries         Exeter, RI         Exeter, RI   \n",
       "2          Carousel Industries      Cambridge, MA      Cambridge, MA   \n",
       "3    Insight Enterprises, Inc.          Plano, TX          Tempe, AZ   \n",
       "4                  NIC Infotek    Saint Louis, MO          Tampa, FL   \n",
       "..                         ...                ...                ...   \n",
       "995                       Eaze  San Francisco, CA  San Francisco, CA   \n",
       "996          Goodwater Capital     Burlingame, CA      San Mateo, CA   \n",
       "997           Dun & Bradstreet         Austin, TX    Short Hills, NJ   \n",
       "998                   Freestar        Phoenix, AZ        Phoenix, AZ   \n",
       "999            Imperfect Foods     Remote, Remote  San Francisco, CA   \n",
       "\n",
       "                        Size  Founded        Type of ownership  \\\n",
       "0    5001 to 10000 employees     1968         Company - Public   \n",
       "1     1001 to 5000 employees     1992        Company - Private   \n",
       "2      501 to 1000 employees     2015        Company - Private   \n",
       "3    5001 to 10000 employees     1988         Company - Public   \n",
       "4        51 to 200 employees     2004         Company - Public   \n",
       "..                       ...      ...                      ...   \n",
       "995      51 to 200 employees     2014        Company - Private   \n",
       "996        1 to 50 employees     2014  Private Practice / Firm   \n",
       "997   1001 to 5000 employees     1841        Company - Private   \n",
       "998        1 to 50 employees     2016        Company - Private   \n",
       "999   1001 to 5000 employees     2015        Company - Private   \n",
       "\n",
       "                                    Industry                     Sector  \\\n",
       "0                     Research & Development          Business Services   \n",
       "1                                IT Services     Information Technology   \n",
       "2                  Biotech & Pharmaceuticals  Biotech & Pharmaceuticals   \n",
       "3    Enterprise Software & Network Solutions     Information Technology   \n",
       "4                     Staffing & Outsourcing          Business Services   \n",
       "..                                       ...                        ...   \n",
       "995                                 Internet     Information Technology   \n",
       "996         Venture Capital & Private Equity                    Finance   \n",
       "997                              IT Services     Information Technology   \n",
       "998                  Advertising & Marketing          Business Services   \n",
       "999                   Food & Beverage Stores                     Retail   \n",
       "\n",
       "                              Revenue  \\\n",
       "0              $1 to $2 billion (USD)   \n",
       "1    $500 million to $1 billion (USD)   \n",
       "2            Unknown / Non-Applicable   \n",
       "3             $5 to $10 billion (USD)   \n",
       "4            Unknown / Non-Applicable   \n",
       "..                                ...   \n",
       "995          $25 to $50 million (USD)   \n",
       "996          Unknown / Non-Applicable   \n",
       "997            $1 to $2 billion (USD)   \n",
       "998          $25 to $50 million (USD)   \n",
       "999          Unknown / Non-Applicable   \n",
       "\n",
       "                                           Competitors  min_salary  \\\n",
       "0                                                   -1          64   \n",
       "1                                                   -1          64   \n",
       "2                                                   -1          64   \n",
       "3                          CDW, PCM, SHI International          64   \n",
       "4                                                   -1          64   \n",
       "..                                                 ...         ...   \n",
       "995  Harborside Health Center, Leafly, Privateer Ho...          96   \n",
       "996                                                 -1          96   \n",
       "997                                  Experian, Equifax          96   \n",
       "998                                                 -1          96   \n",
       "999                          Hungry Harvest, Good Eggs          96   \n",
       "\n",
       "     max_salary  avg_salary    State  \n",
       "0           106        85.0       VA  \n",
       "1           106        85.0       RI  \n",
       "2           106        85.0       MA  \n",
       "3           106        85.0       TX  \n",
       "4           106        85.0       MO  \n",
       "..          ...         ...      ...  \n",
       "995         156       126.0       CA  \n",
       "996         156       126.0       CA  \n",
       "997         156       126.0       TX  \n",
       "998         156       126.0       AZ  \n",
       "999         156       126.0   Remote  \n",
       "\n",
       "[940 rows x 18 columns]"
      ]
     },
     "execution_count": 257,
     "metadata": {},
     "output_type": "execute_result"
    }
   ],
   "source": [
    "df"
   ]
  },
  {
   "cell_type": "markdown",
   "metadata": {},
   "source": [
    "Jobs in headquaters"
   ]
  },
  {
   "cell_type": "code",
   "execution_count": 260,
   "metadata": {},
   "outputs": [
    {
     "data": {
      "text/plain": [
       "0    513\n",
       "1    427\n",
       "Name: jobhq, dtype: int64"
      ]
     },
     "execution_count": 260,
     "metadata": {},
     "output_type": "execute_result"
    }
   ],
   "source": [
    "df['jobhq']=df.apply(lambda x:1 if x['Location']==x['Headquarters'] else 0,axis=1)\n",
    "df.jobhq.value_counts()\n",
    "# so here we can see that 427 jobs are there in headquaters and 513 are not in headquaters"
   ]
  },
  {
   "cell_type": "markdown",
   "metadata": {},
   "source": [
    "Now taking the Age of the company  "
   ]
  },
  {
   "cell_type": "code",
   "execution_count": 261,
   "metadata": {},
   "outputs": [
    {
     "data": {
      "text/html": [
       "<div>\n",
       "<style scoped>\n",
       "    .dataframe tbody tr th:only-of-type {\n",
       "        vertical-align: middle;\n",
       "    }\n",
       "\n",
       "    .dataframe tbody tr th {\n",
       "        vertical-align: top;\n",
       "    }\n",
       "\n",
       "    .dataframe thead th {\n",
       "        text-align: right;\n",
       "    }\n",
       "</style>\n",
       "<table border=\"1\" class=\"dataframe\">\n",
       "  <thead>\n",
       "    <tr style=\"text-align: right;\">\n",
       "      <th></th>\n",
       "      <th>Job Title</th>\n",
       "      <th>Salary Estimate</th>\n",
       "      <th>Job Description</th>\n",
       "      <th>Rating</th>\n",
       "      <th>Company Name</th>\n",
       "      <th>Location</th>\n",
       "      <th>Headquarters</th>\n",
       "      <th>Size</th>\n",
       "      <th>Founded</th>\n",
       "      <th>Type of ownership</th>\n",
       "      <th>Industry</th>\n",
       "      <th>Sector</th>\n",
       "      <th>Revenue</th>\n",
       "      <th>Competitors</th>\n",
       "      <th>min_salary</th>\n",
       "      <th>max_salary</th>\n",
       "      <th>avg_salary</th>\n",
       "      <th>State</th>\n",
       "      <th>jobhq</th>\n",
       "    </tr>\n",
       "  </thead>\n",
       "  <tbody>\n",
       "    <tr>\n",
       "      <th>0</th>\n",
       "      <td>Data Scientist</td>\n",
       "      <td>$64K-$106K (Glassdoor est.)</td>\n",
       "      <td>Secure our Nation, Ignite your Future\\r\\n\\r\\nJ...</td>\n",
       "      <td>4.2</td>\n",
       "      <td>ManTech</td>\n",
       "      <td>Chantilly, VA</td>\n",
       "      <td>Herndon, VA</td>\n",
       "      <td>5001 to 10000 employees</td>\n",
       "      <td>1968</td>\n",
       "      <td>Company - Public</td>\n",
       "      <td>Research &amp; Development</td>\n",
       "      <td>Business Services</td>\n",
       "      <td>$1 to $2 billion (USD)</td>\n",
       "      <td>-1</td>\n",
       "      <td>64</td>\n",
       "      <td>106</td>\n",
       "      <td>85.0</td>\n",
       "      <td>VA</td>\n",
       "      <td>0</td>\n",
       "    </tr>\n",
       "    <tr>\n",
       "      <th>1</th>\n",
       "      <td>Associate Business Intelligence Data Scientist</td>\n",
       "      <td>$64K-$106K (Glassdoor est.)</td>\n",
       "      <td>Blending customer advisory, customer support, ...</td>\n",
       "      <td>3.2</td>\n",
       "      <td>Carousel Industries</td>\n",
       "      <td>Exeter, RI</td>\n",
       "      <td>Exeter, RI</td>\n",
       "      <td>1001 to 5000 employees</td>\n",
       "      <td>1992</td>\n",
       "      <td>Company - Private</td>\n",
       "      <td>IT Services</td>\n",
       "      <td>Information Technology</td>\n",
       "      <td>$500 million to $1 billion (USD)</td>\n",
       "      <td>-1</td>\n",
       "      <td>64</td>\n",
       "      <td>106</td>\n",
       "      <td>85.0</td>\n",
       "      <td>RI</td>\n",
       "      <td>1</td>\n",
       "    </tr>\n",
       "  </tbody>\n",
       "</table>\n",
       "</div>"
      ],
      "text/plain": [
       "                                        Job Title  \\\n",
       "0                                  Data Scientist   \n",
       "1  Associate Business Intelligence Data Scientist   \n",
       "\n",
       "               Salary Estimate  \\\n",
       "0  $64K-$106K (Glassdoor est.)   \n",
       "1  $64K-$106K (Glassdoor est.)   \n",
       "\n",
       "                                     Job Description  Rating  \\\n",
       "0  Secure our Nation, Ignite your Future\\r\\n\\r\\nJ...     4.2   \n",
       "1  Blending customer advisory, customer support, ...     3.2   \n",
       "\n",
       "          Company Name       Location Headquarters                     Size  \\\n",
       "0              ManTech  Chantilly, VA  Herndon, VA  5001 to 10000 employees   \n",
       "1  Carousel Industries     Exeter, RI   Exeter, RI   1001 to 5000 employees   \n",
       "\n",
       "   Founded  Type of ownership                Industry                  Sector  \\\n",
       "0     1968   Company - Public  Research & Development       Business Services   \n",
       "1     1992  Company - Private             IT Services  Information Technology   \n",
       "\n",
       "                            Revenue Competitors  min_salary  max_salary  \\\n",
       "0            $1 to $2 billion (USD)          -1          64         106   \n",
       "1  $500 million to $1 billion (USD)          -1          64         106   \n",
       "\n",
       "   avg_salary State  jobhq  \n",
       "0        85.0    VA      0  \n",
       "1        85.0    RI      1  "
      ]
     },
     "execution_count": 261,
     "metadata": {},
     "output_type": "execute_result"
    }
   ],
   "source": [
    "df.head(2)"
   ]
  },
  {
   "cell_type": "code",
   "execution_count": 262,
   "metadata": {},
   "outputs": [
    {
     "data": {
      "text/plain": [
       "-1      92\n",
       " 25     36\n",
       " 9      35\n",
       " 5      33\n",
       " 6      33\n",
       "        ..\n",
       " 123     1\n",
       " 128     1\n",
       " 129     1\n",
       " 136     1\n",
       " 331     1\n",
       "Name: age, Length: 118, dtype: int64"
      ]
     },
     "execution_count": 262,
     "metadata": {},
     "output_type": "execute_result"
    }
   ],
   "source": [
    "df['age']=df.Founded.apply(lambda x:x if x<1 else 2021-x)\n",
    "df.age.value_counts()\n",
    "# so we have 92 companies with no Founding age but we cannot remove those"
   ]
  },
  {
   "cell_type": "markdown",
   "metadata": {},
   "source": [
    "Adding colums for skills required"
   ]
  },
  {
   "cell_type": "code",
   "execution_count": 265,
   "metadata": {},
   "outputs": [],
   "source": [
    "#pYthon\n",
    "df['python_yn']=df['Job Description'].apply(lambda x:1 if 'python' in x.lower() else 0) "
   ]
  },
  {
   "cell_type": "code",
   "execution_count": 267,
   "metadata": {},
   "outputs": [],
   "source": [
    "#R\n",
    "df['r_yn']=df['Job Description'].apply(lambda x:1 if 'r studion' in x.lower() or 'r-studio' in x.lower() or \",R\" in x or \"R,\" in x or \"R\" in x else 0)"
   ]
  },
  {
   "cell_type": "code",
   "execution_count": 271,
   "metadata": {},
   "outputs": [],
   "source": [
    "#aws\n",
    "df['aws_yn']=df[\"Job Description\"].apply(lambda x:1 if 'aws' in x.lower() else 0)"
   ]
  },
  {
   "cell_type": "code",
   "execution_count": 272,
   "metadata": {},
   "outputs": [],
   "source": [
    "#spark\n",
    "df['spark_yn']=df[\"Job Description\"].apply(lambda x:1 if 'spark' in x.lower() else 0)"
   ]
  },
  {
   "cell_type": "code",
   "execution_count": 273,
   "metadata": {},
   "outputs": [],
   "source": [
    "#hadoop\n",
    "df['hadoop_yn']=df[\"Job Description\"].apply(lambda x:1 if 'hadoop' in x.lower() else 0)"
   ]
  },
  {
   "cell_type": "code",
   "execution_count": 274,
   "metadata": {},
   "outputs": [],
   "source": [
    "#docker\n",
    "df['docker_yn']=df[\"Job Description\"].apply(lambda x:1 if 'docker' in x.lower() else 0)"
   ]
  },
  {
   "cell_type": "code",
   "execution_count": 275,
   "metadata": {},
   "outputs": [],
   "source": [
    "#sql\n",
    "df['sql_yn']=df[\"Job Description\"].apply(lambda x:1 if 'sql' in x.lower() else 0)"
   ]
  },
  {
   "cell_type": "code",
   "execution_count": 276,
   "metadata": {},
   "outputs": [],
   "source": [
    "#linux\n",
    "df['linux_yn']=df[\"Job Description\"].apply(lambda x:1 if 'linux' in x.lower() else 0)"
   ]
  },
  {
   "cell_type": "code",
   "execution_count": 277,
   "metadata": {},
   "outputs": [],
   "source": [
    "#flask\n",
    "df['flask_yn']=df[\"Job Description\"].apply(lambda x:1 if 'flask' in x.lower() else 0)"
   ]
  },
  {
   "cell_type": "code",
   "execution_count": 278,
   "metadata": {},
   "outputs": [],
   "source": [
    "#django\n",
    "df['django_yn']=df[\"Job Description\"].apply(lambda x:1 if 'django' in x.lower() else 0)"
   ]
  },
  {
   "cell_type": "code",
   "execution_count": 280,
   "metadata": {},
   "outputs": [],
   "source": [
    "#tensorflow\n",
    "df['tensorflow_yn']=df[\"Job Description\"].apply(lambda x:1 if 'tensorflow' in x.lower() else 0)"
   ]
  },
  {
   "cell_type": "code",
   "execution_count": 281,
   "metadata": {},
   "outputs": [],
   "source": [
    "#keras\n",
    "df['keras_yn']=df[\"Job Description\"].apply(lambda x:1 if 'keras' in x.lower() else 0)"
   ]
  },
  {
   "cell_type": "code",
   "execution_count": 282,
   "metadata": {},
   "outputs": [],
   "source": [
    "#pytorch\n",
    "df['pytorch_yn']=df[\"Job Description\"].apply(lambda x:1 if 'pytorch' in x.lower() else 0)"
   ]
  },
  {
   "cell_type": "code",
   "execution_count": 283,
   "metadata": {},
   "outputs": [],
   "source": [
    "#algorithms\n",
    "df['algo_yn']=df[\"Job Description\"].apply(lambda x:1 if 'algorithms' in x.lower() or 'algorithmic' in x.lower() else 0)"
   ]
  },
  {
   "cell_type": "code",
   "execution_count": 284,
   "metadata": {},
   "outputs": [],
   "source": [
    "#statistics\n",
    "df['stats_yn']=df[\"Job Description\"].apply(lambda x:1 if 'statistics' in x.lower() or 'statistical' in x.lower() else 0)"
   ]
  },
  {
   "cell_type": "code",
   "execution_count": 286,
   "metadata": {},
   "outputs": [],
   "source": [
    "#tableau\n",
    "df['tableau_yn']=df[\"Job Description\"].apply(lambda x:1 if 'tableau' in x.lower() else 0)\n"
   ]
  },
  {
   "cell_type": "code",
   "execution_count": 288,
   "metadata": {},
   "outputs": [
    {
     "data": {
      "text/plain": [
       "Index(['Job Title', 'Salary Estimate', 'Job Description', 'Rating',\n",
       "       'Company Name', 'Location', 'Headquarters', 'Size', 'Founded',\n",
       "       'Type of ownership', 'Industry', 'Sector', 'Revenue', 'Competitors',\n",
       "       'min_salary', 'max_salary', 'avg_salary', 'State', 'jobhq', 'age',\n",
       "       'python_yn', 'r_yn', 'aws_yn', 'spark_yn', 'hadoop_yn', 'docker_yn',\n",
       "       'sql_yn', 'linux_yn', 'flask_yn', 'django_yn', 'tensorflow_yn',\n",
       "       'keras_yn', 'pytorch_yn', 'algo_yn', 'stats_yn', 'tableau_yn'],\n",
       "      dtype='object')"
      ]
     },
     "execution_count": 288,
     "metadata": {},
     "output_type": "execute_result"
    }
   ],
   "source": [
    "df.columns"
   ]
  },
  {
   "cell_type": "markdown",
   "metadata": {},
   "source": [
    "Types of Data Science JObs"
   ]
  },
  {
   "cell_type": "code",
   "execution_count": 290,
   "metadata": {},
   "outputs": [],
   "source": [
    "def title_simplifier(title):\n",
    "    if 'data scientist' in title.lower():\n",
    "        return 'data scientist'\n",
    "    elif 'data engineer' in title.lower():\n",
    "        return 'data engineer'\n",
    "    elif 'analyst' in title.lower():\n",
    "        return 'analyst'\n",
    "    elif 'machine learning' in title.lower():\n",
    "        return 'mle'\n",
    "    elif 'research' in title.lower():\n",
    "        return 'research'\n",
    "    elif 'software' in title.lower():\n",
    "        return 'sw'\n",
    "    elif 'manager' in title.lower():\n",
    "        return 'manager'\n",
    "    elif 'director' in title.lower():\n",
    "        return 'director'\n",
    "    else:\n",
    "        return 'na'"
   ]
  },
  {
   "cell_type": "code",
   "execution_count": 291,
   "metadata": {},
   "outputs": [],
   "source": [
    "def title_number_simplifier(title):\n",
    "    if 'data scientist' in title.lower():\n",
    "        return 3\n",
    "    elif 'data engineer' in title.lower():\n",
    "        return 2\n",
    "    elif 'analyst' in title.lower():\n",
    "        return 1\n",
    "    elif 'machine learning' in title.lower():\n",
    "        return 6\n",
    "    elif 'research' in title.lower():\n",
    "        return 8\n",
    "    elif 'software' in title.lower():\n",
    "        return 9\n",
    "    elif 'manager' in title.lower():\n",
    "        return 5\n",
    "    elif 'director' in title.lower():\n",
    "        return 4\n",
    "    else:\n",
    "        return 7"
   ]
  },
  {
   "cell_type": "code",
   "execution_count": 296,
   "metadata": {},
   "outputs": [
    {
     "data": {
      "text/plain": [
       "data scientist    687\n",
       "na                 73\n",
       "data engineer      67\n",
       "analyst            59\n",
       "mle                23\n",
       "research           13\n",
       "director            8\n",
       "manager             8\n",
       "sw                  2\n",
       "Name: job_type, dtype: int64"
      ]
     },
     "execution_count": 296,
     "metadata": {},
     "output_type": "execute_result"
    }
   ],
   "source": [
    "df['job_type']=df['Job Title'].apply(title_simplifier)\n",
    "df['job_type_num']=df['Job Title'].apply(title_number_simplifier)\n",
    "df['job_type'].value_counts()\n",
    "# so here 73 employees are having no desigination"
   ]
  },
  {
   "cell_type": "markdown",
   "metadata": {},
   "source": [
    "Seniority Level of the Job:"
   ]
  },
  {
   "cell_type": "code",
   "execution_count": 297,
   "metadata": {},
   "outputs": [],
   "source": [
    "def seniority(title):\n",
    "    if 'sr' in title.lower() or 'senior' in title.lower() or 'sr' in title.lower() or 'lead' in title.lower() or 'principal' in title.lower():\n",
    "        return 'senior'\n",
    "    elif 'jr' in title.lower() or 'jr.' in title.lower():\n",
    "        return 'jr'\n",
    "    else:\n",
    "        return 'na'"
   ]
  },
  {
   "cell_type": "code",
   "execution_count": 298,
   "metadata": {},
   "outputs": [],
   "source": [
    "def seniority_number(title):\n",
    "    if 'sr' in title.lower() or 'senior' in title.lower() or 'sr' in title.lower() or 'lead' in title.lower() or 'principal' in title.lower():\n",
    "        return '1'\n",
    "    elif 'jr' in title.lower() or 'jr.' in title.lower():\n",
    "        return '0'\n",
    "    else:\n",
    "        return '2'"
   ]
  },
  {
   "cell_type": "code",
   "execution_count": 299,
   "metadata": {},
   "outputs": [],
   "source": [
    "df['seniority']=df['Job Title'].apply(seniority)"
   ]
  },
  {
   "cell_type": "code",
   "execution_count": 300,
   "metadata": {},
   "outputs": [
    {
     "data": {
      "text/plain": [
       "na        778\n",
       "senior    162\n",
       "Name: seniority, dtype: int64"
      ]
     },
     "execution_count": 300,
     "metadata": {},
     "output_type": "execute_result"
    }
   ],
   "source": [
    "df['seniority'].value_counts()"
   ]
  },
  {
   "cell_type": "code",
   "execution_count": 301,
   "metadata": {},
   "outputs": [],
   "source": [
    "df['seniority_num']=df['Job Title'].apply(seniority_number)"
   ]
  },
  {
   "cell_type": "code",
   "execution_count": 302,
   "metadata": {},
   "outputs": [
    {
     "data": {
      "text/plain": [
       "Index(['Job Title', 'Salary Estimate', 'Job Description', 'Rating',\n",
       "       'Company Name', 'Location', 'Headquarters', 'Size', 'Founded',\n",
       "       'Type of ownership', 'Industry', 'Sector', 'Revenue', 'Competitors',\n",
       "       'min_salary', 'max_salary', 'avg_salary', 'State', 'jobhq', 'age',\n",
       "       'python_yn', 'r_yn', 'aws_yn', 'spark_yn', 'hadoop_yn', 'docker_yn',\n",
       "       'sql_yn', 'linux_yn', 'flask_yn', 'django_yn', 'tensorflow_yn',\n",
       "       'keras_yn', 'pytorch_yn', 'algo_yn', 'stats_yn', 'tableau_yn',\n",
       "       'job_type', 'job_type_num', 'seniority', 'seniority_num'],\n",
       "      dtype='object')"
      ]
     },
     "execution_count": 302,
     "metadata": {},
     "output_type": "execute_result"
    }
   ],
   "source": [
    "df.columns"
   ]
  },
  {
   "cell_type": "code",
   "execution_count": 303,
   "metadata": {},
   "outputs": [],
   "source": [
    "df['len_desc']=df['Job Description'].apply(lambda x:len(x))"
   ]
  },
  {
   "cell_type": "code",
   "execution_count": 304,
   "metadata": {},
   "outputs": [
    {
     "data": {
      "text/plain": [
       "0      3994\n",
       "1      5396\n",
       "2      3203\n",
       "3      4282\n",
       "4      1852\n",
       "       ... \n",
       "995    2126\n",
       "996    2926\n",
       "997    3556\n",
       "998    3709\n",
       "999    6249\n",
       "Name: len_desc, Length: 940, dtype: int64"
      ]
     },
     "execution_count": 304,
     "metadata": {},
     "output_type": "execute_result"
    }
   ],
   "source": [
    "df['len_desc']"
   ]
  },
  {
   "cell_type": "markdown",
   "metadata": {},
   "source": [
    "\n",
    "\n",
    "Number of Competitors:"
   ]
  },
  {
   "cell_type": "code",
   "execution_count": 308,
   "metadata": {},
   "outputs": [
    {
     "data": {
      "text/plain": [
       "0    628\n",
       "3    211\n",
       "2     83\n",
       "1     18\n",
       "Name: num_comp, dtype: int64"
      ]
     },
     "execution_count": 308,
     "metadata": {},
     "output_type": "execute_result"
    }
   ],
   "source": [
    "df['num_comp']=df['Competitors'].apply(lambda x:len(x.split(',')) if x!='-1' else 0)\n",
    "df['num_comp'].value_counts()"
   ]
  },
  {
   "cell_type": "code",
   "execution_count": 309,
   "metadata": {},
   "outputs": [
    {
     "data": {
      "text/plain": [
       "Index(['Job Title', 'Salary Estimate', 'Job Description', 'Rating',\n",
       "       'Company Name', 'Location', 'Headquarters', 'Size', 'Founded',\n",
       "       'Type of ownership', 'Industry', 'Sector', 'Revenue', 'Competitors',\n",
       "       'min_salary', 'max_salary', 'avg_salary', 'State', 'jobhq', 'age',\n",
       "       'python_yn', 'r_yn', 'aws_yn', 'spark_yn', 'hadoop_yn', 'docker_yn',\n",
       "       'sql_yn', 'linux_yn', 'flask_yn', 'django_yn', 'tensorflow_yn',\n",
       "       'keras_yn', 'pytorch_yn', 'algo_yn', 'stats_yn', 'tableau_yn',\n",
       "       'job_type', 'job_type_num', 'seniority', 'seniority_num', 'len_desc',\n",
       "       'num_comp'],\n",
       "      dtype='object')"
      ]
     },
     "execution_count": 309,
     "metadata": {},
     "output_type": "execute_result"
    }
   ],
   "source": [
    "df.columns"
   ]
  },
  {
   "cell_type": "code",
   "execution_count": 311,
   "metadata": {},
   "outputs": [
    {
     "data": {
      "text/plain": [
       "(940, 42)"
      ]
     },
     "execution_count": 311,
     "metadata": {},
     "output_type": "execute_result"
    }
   ],
   "source": [
    "df.shape"
   ]
  },
  {
   "cell_type": "code",
   "execution_count": 312,
   "metadata": {},
   "outputs": [],
   "source": [
    "# so we have cleaned our data and added few more coloums and saving this into a new data frames"
   ]
  },
  {
   "cell_type": "code",
   "execution_count": 313,
   "metadata": {},
   "outputs": [],
   "source": [
    "df.to_csv('glassdoor_jobs_cleaned.csv',index=False)"
   ]
  },
  {
   "cell_type": "code",
   "execution_count": null,
   "metadata": {},
   "outputs": [],
   "source": []
  }
 ],
 "metadata": {
  "kernelspec": {
   "display_name": "Python 3",
   "language": "python",
   "name": "python3"
  },
  "language_info": {
   "codemirror_mode": {
    "name": "ipython",
    "version": 3
   },
   "file_extension": ".py",
   "mimetype": "text/x-python",
   "name": "python",
   "nbconvert_exporter": "python",
   "pygments_lexer": "ipython3",
   "version": "3.8.5"
  }
 },
 "nbformat": 4,
 "nbformat_minor": 5
}
