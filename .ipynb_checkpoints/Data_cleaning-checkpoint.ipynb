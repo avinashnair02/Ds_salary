{
 "cells": [
  {
   "cell_type": "markdown",
   "metadata": {},
   "source": [
    "Data Cleaning on the Glassdoor datset"
   ]
  },
  {
   "cell_type": "code",
   "execution_count": 76,
   "metadata": {},
   "outputs": [],
   "source": [
    "import pandas as pd\n",
    "pd.options.mode.chained_assignment = None  # default='warn'"
   ]
  },
  {
   "cell_type": "code",
   "execution_count": 77,
   "metadata": {},
   "outputs": [],
   "source": [
    "df=pd.read_csv('glassdoor_jobs.csv') # 1000 records\n",
    "df1=pd.read_csv('glassdoor_jobs1.csv')# 1000 record"
   ]
  },
  {
   "cell_type": "code",
   "execution_count": 78,
   "metadata": {},
   "outputs": [
    {
     "data": {
      "text/html": [
       "<div>\n",
       "<style scoped>\n",
       "    .dataframe tbody tr th:only-of-type {\n",
       "        vertical-align: middle;\n",
       "    }\n",
       "\n",
       "    .dataframe tbody tr th {\n",
       "        vertical-align: top;\n",
       "    }\n",
       "\n",
       "    .dataframe thead th {\n",
       "        text-align: right;\n",
       "    }\n",
       "</style>\n",
       "<table border=\"1\" class=\"dataframe\">\n",
       "  <thead>\n",
       "    <tr style=\"text-align: right;\">\n",
       "      <th></th>\n",
       "      <th>Job Title</th>\n",
       "      <th>Salary Estimate</th>\n",
       "      <th>Job Description</th>\n",
       "      <th>Rating</th>\n",
       "      <th>Company Name</th>\n",
       "      <th>Location</th>\n",
       "      <th>Headquarters</th>\n",
       "      <th>Size</th>\n",
       "      <th>Founded</th>\n",
       "      <th>Type of ownership</th>\n",
       "      <th>Industry</th>\n",
       "      <th>Sector</th>\n",
       "      <th>Revenue</th>\n",
       "      <th>Competitors</th>\n",
       "      <th>Unnamed: 0</th>\n",
       "    </tr>\n",
       "  </thead>\n",
       "  <tbody>\n",
       "    <tr>\n",
       "      <th>0</th>\n",
       "      <td>Data Scientist</td>\n",
       "      <td>$64K-$106K (Glassdoor est.)</td>\n",
       "      <td>Secure our Nation, Ignite your Future\\r\\n\\r\\nJ...</td>\n",
       "      <td>4.2</td>\n",
       "      <td>ManTech\\r\\n4.2</td>\n",
       "      <td>Chantilly, VA</td>\n",
       "      <td>Herndon, VA</td>\n",
       "      <td>5001 to 10000 employees</td>\n",
       "      <td>1968</td>\n",
       "      <td>Company - Public</td>\n",
       "      <td>Research &amp; Development</td>\n",
       "      <td>Business Services</td>\n",
       "      <td>$1 to $2 billion (USD)</td>\n",
       "      <td>-1</td>\n",
       "      <td>NaN</td>\n",
       "    </tr>\n",
       "    <tr>\n",
       "      <th>1</th>\n",
       "      <td>Associate Business Intelligence Data Scientist</td>\n",
       "      <td>$64K-$106K (Glassdoor est.)</td>\n",
       "      <td>Blending customer advisory, customer support, ...</td>\n",
       "      <td>3.2</td>\n",
       "      <td>Carousel Industries\\r\\n3.2</td>\n",
       "      <td>Exeter, RI</td>\n",
       "      <td>Exeter, RI</td>\n",
       "      <td>1001 to 5000 employees</td>\n",
       "      <td>1992</td>\n",
       "      <td>Company - Private</td>\n",
       "      <td>IT Services</td>\n",
       "      <td>Information Technology</td>\n",
       "      <td>$500 million to $1 billion (USD)</td>\n",
       "      <td>-1</td>\n",
       "      <td>NaN</td>\n",
       "    </tr>\n",
       "    <tr>\n",
       "      <th>2</th>\n",
       "      <td>Scientist, Population Genomics</td>\n",
       "      <td>$64K-$106K (Glassdoor est.)</td>\n",
       "      <td>WuXi NextCODE is seeking a motivated Scientist...</td>\n",
       "      <td>2.9</td>\n",
       "      <td>Carousel Industries\\r\\n3.2</td>\n",
       "      <td>Cambridge, MA</td>\n",
       "      <td>Cambridge, MA</td>\n",
       "      <td>501 to 1000 employees</td>\n",
       "      <td>2015</td>\n",
       "      <td>Company - Private</td>\n",
       "      <td>Biotech &amp; Pharmaceuticals</td>\n",
       "      <td>Biotech &amp; Pharmaceuticals</td>\n",
       "      <td>Unknown / Non-Applicable</td>\n",
       "      <td>-1</td>\n",
       "      <td>NaN</td>\n",
       "    </tr>\n",
       "    <tr>\n",
       "      <th>3</th>\n",
       "      <td>Data Analyst II</td>\n",
       "      <td>$64K-$106K (Glassdoor est.)</td>\n",
       "      <td>The Data Analyst II is responsible for data en...</td>\n",
       "      <td>4.2</td>\n",
       "      <td>Insight Enterprises, Inc.\\r\\n4.2</td>\n",
       "      <td>Plano, TX</td>\n",
       "      <td>Tempe, AZ</td>\n",
       "      <td>5001 to 10000 employees</td>\n",
       "      <td>1988</td>\n",
       "      <td>Company - Public</td>\n",
       "      <td>Enterprise Software &amp; Network Solutions</td>\n",
       "      <td>Information Technology</td>\n",
       "      <td>$5 to $10 billion (USD)</td>\n",
       "      <td>CDW, PCM, SHI International</td>\n",
       "      <td>NaN</td>\n",
       "    </tr>\n",
       "    <tr>\n",
       "      <th>4</th>\n",
       "      <td>Sensory Scientist</td>\n",
       "      <td>$64K-$106K (Glassdoor est.)</td>\n",
       "      <td>A leading food production company in St. Louis...</td>\n",
       "      <td>3.8</td>\n",
       "      <td>NIC Infotek\\r\\n3.8</td>\n",
       "      <td>Saint Louis, MO</td>\n",
       "      <td>Tampa, FL</td>\n",
       "      <td>51 to 200 employees</td>\n",
       "      <td>2004</td>\n",
       "      <td>Company - Public</td>\n",
       "      <td>Staffing &amp; Outsourcing</td>\n",
       "      <td>Business Services</td>\n",
       "      <td>Unknown / Non-Applicable</td>\n",
       "      <td>-1</td>\n",
       "      <td>NaN</td>\n",
       "    </tr>\n",
       "    <tr>\n",
       "      <th>...</th>\n",
       "      <td>...</td>\n",
       "      <td>...</td>\n",
       "      <td>...</td>\n",
       "      <td>...</td>\n",
       "      <td>...</td>\n",
       "      <td>...</td>\n",
       "      <td>...</td>\n",
       "      <td>...</td>\n",
       "      <td>...</td>\n",
       "      <td>...</td>\n",
       "      <td>...</td>\n",
       "      <td>...</td>\n",
       "      <td>...</td>\n",
       "      <td>...</td>\n",
       "      <td>...</td>\n",
       "    </tr>\n",
       "    <tr>\n",
       "      <th>1951</th>\n",
       "      <td>Senior Data Engineer</td>\n",
       "      <td>$72K-$133K (Glassdoor est.)</td>\n",
       "      <td>THE CHALLENGE\\nEventbrite has a world-class da...</td>\n",
       "      <td>4.4</td>\n",
       "      <td>Eventbrite\\n4.4</td>\n",
       "      <td>Nashville, TN</td>\n",
       "      <td>San Francisco, CA</td>\n",
       "      <td>1001 to 5000 employees</td>\n",
       "      <td>2006</td>\n",
       "      <td>Company - Public</td>\n",
       "      <td>Internet</td>\n",
       "      <td>Information Technology</td>\n",
       "      <td>$100 to $500 million (USD)</td>\n",
       "      <td>See Tickets, TicketWeb, Vendini</td>\n",
       "      <td>951.0</td>\n",
       "    </tr>\n",
       "    <tr>\n",
       "      <th>1952</th>\n",
       "      <td>Project Scientist - Auton Lab, Robotics Institute</td>\n",
       "      <td>$56K-$91K (Glassdoor est.)</td>\n",
       "      <td>The Auton Lab at Carnegie Mellon University is...</td>\n",
       "      <td>2.6</td>\n",
       "      <td>Software Engineering Institute\\n2.6</td>\n",
       "      <td>Pittsburgh, PA</td>\n",
       "      <td>Pittsburgh, PA</td>\n",
       "      <td>501 to 1000 employees</td>\n",
       "      <td>1984</td>\n",
       "      <td>College / University</td>\n",
       "      <td>Colleges &amp; Universities</td>\n",
       "      <td>Education</td>\n",
       "      <td>Unknown / Non-Applicable</td>\n",
       "      <td>-1</td>\n",
       "      <td>952.0</td>\n",
       "    </tr>\n",
       "    <tr>\n",
       "      <th>1953</th>\n",
       "      <td>Data Science Manager</td>\n",
       "      <td>$95K-$160K (Glassdoor est.)</td>\n",
       "      <td>Data Science ManagerResponsibilities:\\n\\nOvers...</td>\n",
       "      <td>3.2</td>\n",
       "      <td>Numeric, LLC\\n3.2</td>\n",
       "      <td>Allentown, PA</td>\n",
       "      <td>Chadds Ford, PA</td>\n",
       "      <td>1 to 50 employees</td>\n",
       "      <td>-1</td>\n",
       "      <td>Company - Private</td>\n",
       "      <td>Staffing &amp; Outsourcing</td>\n",
       "      <td>Business Services</td>\n",
       "      <td>$5 to $10 million (USD)</td>\n",
       "      <td>-1</td>\n",
       "      <td>953.0</td>\n",
       "    </tr>\n",
       "    <tr>\n",
       "      <th>1954</th>\n",
       "      <td>Data Engineer</td>\n",
       "      <td>-1</td>\n",
       "      <td>Loading...\\n\\nTitle: Data Engineer\\n\\nLocation...</td>\n",
       "      <td>4.8</td>\n",
       "      <td>IGNW\\n4.8</td>\n",
       "      <td>Austin, TX</td>\n",
       "      <td>Portland, OR</td>\n",
       "      <td>201 to 500 employees</td>\n",
       "      <td>2015</td>\n",
       "      <td>Company - Private</td>\n",
       "      <td>IT Services</td>\n",
       "      <td>Information Technology</td>\n",
       "      <td>$25 to $50 million (USD)</td>\n",
       "      <td>Slalom</td>\n",
       "      <td>954.0</td>\n",
       "    </tr>\n",
       "    <tr>\n",
       "      <th>1955</th>\n",
       "      <td>Research Scientist – Security and Privacy</td>\n",
       "      <td>$61K-$126K (Glassdoor est.)</td>\n",
       "      <td>Returning Candidate? Log back in to the Career...</td>\n",
       "      <td>3.6</td>\n",
       "      <td>Riverside Research Institute\\n3.6</td>\n",
       "      <td>Beavercreek, OH</td>\n",
       "      <td>Arlington, VA</td>\n",
       "      <td>501 to 1000 employees</td>\n",
       "      <td>1967</td>\n",
       "      <td>Nonprofit Organization</td>\n",
       "      <td>Federal Agencies</td>\n",
       "      <td>Government</td>\n",
       "      <td>$50 to $100 million (USD)</td>\n",
       "      <td>-1</td>\n",
       "      <td>955.0</td>\n",
       "    </tr>\n",
       "  </tbody>\n",
       "</table>\n",
       "<p>1956 rows × 15 columns</p>\n",
       "</div>"
      ],
      "text/plain": [
       "                                              Job Title  \\\n",
       "0                                        Data Scientist   \n",
       "1        Associate Business Intelligence Data Scientist   \n",
       "2                        Scientist, Population Genomics   \n",
       "3                                       Data Analyst II   \n",
       "4                                     Sensory Scientist   \n",
       "...                                                 ...   \n",
       "1951                               Senior Data Engineer   \n",
       "1952  Project Scientist - Auton Lab, Robotics Institute   \n",
       "1953                               Data Science Manager   \n",
       "1954                                      Data Engineer   \n",
       "1955          Research Scientist – Security and Privacy   \n",
       "\n",
       "                  Salary Estimate  \\\n",
       "0     $64K-$106K (Glassdoor est.)   \n",
       "1     $64K-$106K (Glassdoor est.)   \n",
       "2     $64K-$106K (Glassdoor est.)   \n",
       "3     $64K-$106K (Glassdoor est.)   \n",
       "4     $64K-$106K (Glassdoor est.)   \n",
       "...                           ...   \n",
       "1951  $72K-$133K (Glassdoor est.)   \n",
       "1952   $56K-$91K (Glassdoor est.)   \n",
       "1953  $95K-$160K (Glassdoor est.)   \n",
       "1954                           -1   \n",
       "1955  $61K-$126K (Glassdoor est.)   \n",
       "\n",
       "                                        Job Description  Rating  \\\n",
       "0     Secure our Nation, Ignite your Future\\r\\n\\r\\nJ...     4.2   \n",
       "1     Blending customer advisory, customer support, ...     3.2   \n",
       "2     WuXi NextCODE is seeking a motivated Scientist...     2.9   \n",
       "3     The Data Analyst II is responsible for data en...     4.2   \n",
       "4     A leading food production company in St. Louis...     3.8   \n",
       "...                                                 ...     ...   \n",
       "1951  THE CHALLENGE\\nEventbrite has a world-class da...     4.4   \n",
       "1952  The Auton Lab at Carnegie Mellon University is...     2.6   \n",
       "1953  Data Science ManagerResponsibilities:\\n\\nOvers...     3.2   \n",
       "1954  Loading...\\n\\nTitle: Data Engineer\\n\\nLocation...     4.8   \n",
       "1955  Returning Candidate? Log back in to the Career...     3.6   \n",
       "\n",
       "                             Company Name         Location       Headquarters  \\\n",
       "0                          ManTech\\r\\n4.2    Chantilly, VA        Herndon, VA   \n",
       "1              Carousel Industries\\r\\n3.2       Exeter, RI         Exeter, RI   \n",
       "2              Carousel Industries\\r\\n3.2    Cambridge, MA      Cambridge, MA   \n",
       "3        Insight Enterprises, Inc.\\r\\n4.2        Plano, TX          Tempe, AZ   \n",
       "4                      NIC Infotek\\r\\n3.8  Saint Louis, MO          Tampa, FL   \n",
       "...                                   ...              ...                ...   \n",
       "1951                      Eventbrite\\n4.4    Nashville, TN  San Francisco, CA   \n",
       "1952  Software Engineering Institute\\n2.6   Pittsburgh, PA     Pittsburgh, PA   \n",
       "1953                    Numeric, LLC\\n3.2    Allentown, PA    Chadds Ford, PA   \n",
       "1954                            IGNW\\n4.8       Austin, TX       Portland, OR   \n",
       "1955    Riverside Research Institute\\n3.6  Beavercreek, OH      Arlington, VA   \n",
       "\n",
       "                         Size  Founded       Type of ownership  \\\n",
       "0     5001 to 10000 employees     1968        Company - Public   \n",
       "1      1001 to 5000 employees     1992       Company - Private   \n",
       "2       501 to 1000 employees     2015       Company - Private   \n",
       "3     5001 to 10000 employees     1988        Company - Public   \n",
       "4         51 to 200 employees     2004        Company - Public   \n",
       "...                       ...      ...                     ...   \n",
       "1951   1001 to 5000 employees     2006        Company - Public   \n",
       "1952    501 to 1000 employees     1984    College / University   \n",
       "1953        1 to 50 employees       -1       Company - Private   \n",
       "1954     201 to 500 employees     2015       Company - Private   \n",
       "1955    501 to 1000 employees     1967  Nonprofit Organization   \n",
       "\n",
       "                                     Industry                     Sector  \\\n",
       "0                      Research & Development          Business Services   \n",
       "1                                 IT Services     Information Technology   \n",
       "2                   Biotech & Pharmaceuticals  Biotech & Pharmaceuticals   \n",
       "3     Enterprise Software & Network Solutions     Information Technology   \n",
       "4                      Staffing & Outsourcing          Business Services   \n",
       "...                                       ...                        ...   \n",
       "1951                                 Internet     Information Technology   \n",
       "1952                  Colleges & Universities                  Education   \n",
       "1953                   Staffing & Outsourcing          Business Services   \n",
       "1954                              IT Services     Information Technology   \n",
       "1955                         Federal Agencies                 Government   \n",
       "\n",
       "                               Revenue                      Competitors  \\\n",
       "0               $1 to $2 billion (USD)                               -1   \n",
       "1     $500 million to $1 billion (USD)                               -1   \n",
       "2             Unknown / Non-Applicable                               -1   \n",
       "3              $5 to $10 billion (USD)      CDW, PCM, SHI International   \n",
       "4             Unknown / Non-Applicable                               -1   \n",
       "...                                ...                              ...   \n",
       "1951        $100 to $500 million (USD)  See Tickets, TicketWeb, Vendini   \n",
       "1952          Unknown / Non-Applicable                               -1   \n",
       "1953           $5 to $10 million (USD)                               -1   \n",
       "1954          $25 to $50 million (USD)                           Slalom   \n",
       "1955         $50 to $100 million (USD)                               -1   \n",
       "\n",
       "      Unnamed: 0  \n",
       "0            NaN  \n",
       "1            NaN  \n",
       "2            NaN  \n",
       "3            NaN  \n",
       "4            NaN  \n",
       "...          ...  \n",
       "1951       951.0  \n",
       "1952       952.0  \n",
       "1953       953.0  \n",
       "1954       954.0  \n",
       "1955       955.0  \n",
       "\n",
       "[1956 rows x 15 columns]"
      ]
     },
     "execution_count": 78,
     "metadata": {},
     "output_type": "execute_result"
    }
   ],
   "source": [
    "#merging both the datafrmaes\n",
    "res = pd.concat([df, df1], ignore_index=True, sort=False)\n",
    "res\n"
   ]
  },
  {
   "cell_type": "code",
   "execution_count": 79,
   "metadata": {},
   "outputs": [
    {
     "data": {
      "text/plain": [
       "(1956, 15)"
      ]
     },
     "execution_count": 79,
     "metadata": {},
     "output_type": "execute_result"
    }
   ],
   "source": [
    "res.shape"
   ]
  },
  {
   "cell_type": "code",
   "execution_count": 80,
   "metadata": {},
   "outputs": [
    {
     "data": {
      "text/plain": [
       "Job Title               0\n",
       "Salary Estimate         0\n",
       "Job Description         0\n",
       "Rating                  0\n",
       "Company Name            0\n",
       "Location                0\n",
       "Headquarters            0\n",
       "Size                    0\n",
       "Founded                 0\n",
       "Type of ownership       0\n",
       "Industry                0\n",
       "Sector                  0\n",
       "Revenue                 0\n",
       "Competitors             0\n",
       "Unnamed: 0           1000\n",
       "dtype: int64"
      ]
     },
     "execution_count": 80,
     "metadata": {},
     "output_type": "execute_result"
    }
   ],
   "source": [
    "res.isnull().sum()"
   ]
  },
  {
   "cell_type": "code",
   "execution_count": 81,
   "metadata": {},
   "outputs": [
    {
     "data": {
      "text/plain": [
       "-1                              214\n",
       "$96K-$156K (Glassdoor est.)     170\n",
       "$56K-$97K (Glassdoor est.)       36\n",
       "$108K-$171K (Glassdoor est.)     36\n",
       "$60K-$101K (Glassdoor est.)      35\n",
       "                               ... \n",
       "$42K-$77K (Glassdoor est.)        1\n",
       "$87K-$140K (Glassdoor est.)       1\n",
       "$60K-$103K (Glassdoor est.)       1\n",
       "$102K-$164K (Glassdoor est.)      1\n",
       "$57K-$109K (Glassdoor est.)       1\n",
       "Name: Salary Estimate, Length: 437, dtype: int64"
      ]
     },
     "execution_count": 81,
     "metadata": {},
     "output_type": "execute_result"
    }
   ],
   "source": [
    "res['Salary Estimate'].value_counts()"
   ]
  },
  {
   "cell_type": "code",
   "execution_count": 82,
   "metadata": {},
   "outputs": [
    {
     "data": {
      "text/plain": [
       "New York, NY         132\n",
       "San Francisco, CA    114\n",
       "Chicago, IL           50\n",
       "Boston, MA            47\n",
       "Reston, VA            40\n",
       "                    ... \n",
       "Pella, IA              1\n",
       "Ann Arbor, MI          1\n",
       "San Carlos, CA         1\n",
       "Iselin, NJ             1\n",
       "Dulles, VA             1\n",
       "Name: Headquarters, Length: 384, dtype: int64"
      ]
     },
     "execution_count": 82,
     "metadata": {},
     "output_type": "execute_result"
    }
   ],
   "source": [
    "res['Headquarters'].value_counts()"
   ]
  },
  {
   "cell_type": "code",
   "execution_count": 83,
   "metadata": {},
   "outputs": [
    {
     "data": {
      "text/plain": [
       " 3.8    142\n",
       " 3.9    131\n",
       " 3.6    124\n",
       " 4.0    121\n",
       " 3.7    115\n",
       " 3.5    114\n",
       " 3.4    102\n",
       " 4.2     89\n",
       " 4.1     87\n",
       " 4.3     81\n",
       "-1.0     80\n",
       " 5.0     79\n",
       " 4.4     73\n",
       " 3.3     73\n",
       " 3.2     66\n",
       " 4.5     65\n",
       " 3.1     62\n",
       " 4.7     62\n",
       " 4.6     54\n",
       " 2.9     40\n",
       " 3.0     34\n",
       " 4.8     31\n",
       " 2.7     24\n",
       " 4.9     22\n",
       " 2.6     20\n",
       " 2.3     12\n",
       " 2.5     12\n",
       " 2.8     11\n",
       " 2.2     11\n",
       " 2.4      9\n",
       " 2.1      5\n",
       " 1.9      3\n",
       " 1.5      1\n",
       " 2.0      1\n",
       "Name: Rating, dtype: int64"
      ]
     },
     "execution_count": 83,
     "metadata": {},
     "output_type": "execute_result"
    }
   ],
   "source": [
    "res['Rating'].value_counts()"
   ]
  },
  {
   "cell_type": "markdown",
   "metadata": {},
   "source": [
    "# The things to be cleaned/added:"
   ]
  },
  {
   "cell_type": "markdown",
   "metadata": {},
   "source": [
    "# 1.Headquarters with -1 values removed\n",
    "2.Removing \"Glassdoor est\" from Salary\n",
    "3.Converting Salary Estimate to Int (removing K)\n",
    "4.Converting Salary Estimate to Avg. Salary\n",
    "5.Removing ratings with -1 values\n",
    "6.Removing Rating from Company Name field\n",
    "7.Adding a State field\n",
    "8.Checking if job is in the same state as Headquarters\n",
    "9.Adding an Age field for the company\n",
    "10.Adding columns for different job skills listed (Python, R/RStudio, AWS, Spark, Hadoop, Docker,SQL, Linux, Flask, Django, 11.Tensorflow, Keras, PyTorch, Statistics, Algorithms)\n",
    "12.Adding a column for what type of Data Science job\n",
    "13.Adding a column to indicate Seniority level\n",
    "14.Job Description Length\n",
    "15.Number of Competitors"
   ]
  },
  {
   "cell_type": "markdown",
   "metadata": {},
   "source": [
    "# >>>>>>>>>>>>>>>>>>>>>>>>>>>>>>>>>>>>>>>>>>CLEANING<<<<<<<<<<<<<<<<<<<<<<<<<<<<<<<<<<<<<<<<<<<<<<<<<<<<<<<<<<<<<<<<<<<<<<<<<<<<<"
   ]
  },
  {
   "cell_type": "markdown",
   "metadata": {},
   "source": [
    "Removing Rows with Null Headquarters:"
   ]
  },
  {
   "cell_type": "code",
   "execution_count": 84,
   "metadata": {},
   "outputs": [],
   "source": [
    "res=res[res['Headquarters']!='-1']"
   ]
  },
  {
   "cell_type": "code",
   "execution_count": 85,
   "metadata": {},
   "outputs": [
    {
     "data": {
      "text/plain": [
       "New York, NY           132\n",
       "San Francisco, CA      114\n",
       "Chicago, IL             50\n",
       "Boston, MA              47\n",
       "Reston, VA              40\n",
       "                      ... \n",
       "Pembroke Pines, FL       1\n",
       "Yardley, PA              1\n",
       "San Luis Obispo, CA      1\n",
       "Iselin, NJ               1\n",
       "Red Wing, MN             1\n",
       "Name: Headquarters, Length: 383, dtype: int64"
      ]
     },
     "execution_count": 85,
     "metadata": {},
     "output_type": "execute_result"
    }
   ],
   "source": [
    "res['Headquarters'].value_counts()"
   ]
  },
  {
   "cell_type": "code",
   "execution_count": 86,
   "metadata": {},
   "outputs": [
    {
     "data": {
      "text/plain": [
       "(1924, 15)"
      ]
     },
     "execution_count": 86,
     "metadata": {},
     "output_type": "execute_result"
    }
   ],
   "source": [
    "res.shape # 42 record are removed"
   ]
  },
  {
   "cell_type": "markdown",
   "metadata": {},
   "source": [
    "Cleaning the Salry Data"
   ]
  },
  {
   "cell_type": "code",
   "execution_count": 87,
   "metadata": {},
   "outputs": [],
   "source": [
    "salary=res['Salary Estimate'].apply(lambda x:x.split('(')[0])"
   ]
  },
  {
   "cell_type": "code",
   "execution_count": 88,
   "metadata": {},
   "outputs": [
    {
     "data": {
      "text/plain": [
       "0       $64K-$106K \n",
       "1       $64K-$106K \n",
       "2       $64K-$106K \n",
       "3       $64K-$106K \n",
       "4       $64K-$106K \n",
       "           ...     \n",
       "1951    $72K-$133K \n",
       "1952     $56K-$91K \n",
       "1953    $95K-$160K \n",
       "1954             -1\n",
       "1955    $61K-$126K \n",
       "Name: Salary Estimate, Length: 1924, dtype: object"
      ]
     },
     "execution_count": 88,
     "metadata": {},
     "output_type": "execute_result"
    }
   ],
   "source": [
    "salary"
   ]
  },
  {
   "cell_type": "code",
   "execution_count": 95,
   "metadata": {},
   "outputs": [
    {
     "data": {
      "text/plain": [
       "-1                                204\n",
       "96-156                            165\n",
       "56-97                              36\n",
       "60-101                             35\n",
       "64-106                             34\n",
       "                                 ... \n",
       "48-113                              1\n",
       "Employer Provided Salary:85-90      1\n",
       "54-102                              1\n",
       "92-149                              1\n",
       "72-121                              1\n",
       "Name: Salary Estimate, Length: 436, dtype: int64"
      ]
     },
     "execution_count": 95,
     "metadata": {},
     "output_type": "execute_result"
    }
   ],
   "source": [
    "#REmovin the K part from the salary\n",
    "remove_k=salary.apply(lambda x:x.replace('K','').replace('$',''))\n",
    "remove_k.value_counts()"
   ]
  },
  {
   "cell_type": "code",
   "execution_count": 94,
   "metadata": {},
   "outputs": [
    {
     "ename": "ValueError",
     "evalue": "invalid literal for int() with base 10: ''",
     "output_type": "error",
     "traceback": [
      "\u001b[1;31m---------------------------------------------------------------------------\u001b[0m",
      "\u001b[1;31mValueError\u001b[0m                                Traceback (most recent call last)",
      "\u001b[1;32m<ipython-input-94-102cd38782f4>\u001b[0m in \u001b[0;36m<module>\u001b[1;34m\u001b[0m\n\u001b[1;32m----> 1\u001b[1;33m \u001b[0mres\u001b[0m\u001b[1;33m[\u001b[0m\u001b[1;34m'min_salary'\u001b[0m\u001b[1;33m]\u001b[0m\u001b[1;33m=\u001b[0m\u001b[0mremove_k\u001b[0m\u001b[1;33m.\u001b[0m\u001b[0mapply\u001b[0m\u001b[1;33m(\u001b[0m\u001b[1;32mlambda\u001b[0m \u001b[0mx\u001b[0m\u001b[1;33m:\u001b[0m \u001b[0mint\u001b[0m\u001b[1;33m(\u001b[0m\u001b[0mx\u001b[0m\u001b[1;33m.\u001b[0m\u001b[0msplit\u001b[0m\u001b[1;33m(\u001b[0m\u001b[1;34m'-'\u001b[0m\u001b[1;33m)\u001b[0m\u001b[1;33m[\u001b[0m\u001b[1;36m0\u001b[0m\u001b[1;33m]\u001b[0m\u001b[1;33m)\u001b[0m\u001b[1;33m)\u001b[0m\u001b[1;33m\u001b[0m\u001b[1;33m\u001b[0m\u001b[0m\n\u001b[0m",
      "\u001b[1;32m~\\anaconda3\\lib\\site-packages\\pandas\\core\\series.py\u001b[0m in \u001b[0;36mapply\u001b[1;34m(self, func, convert_dtype, args, **kwds)\u001b[0m\n\u001b[0;32m   4198\u001b[0m             \u001b[1;32melse\u001b[0m\u001b[1;33m:\u001b[0m\u001b[1;33m\u001b[0m\u001b[1;33m\u001b[0m\u001b[0m\n\u001b[0;32m   4199\u001b[0m                 \u001b[0mvalues\u001b[0m \u001b[1;33m=\u001b[0m \u001b[0mself\u001b[0m\u001b[1;33m.\u001b[0m\u001b[0mastype\u001b[0m\u001b[1;33m(\u001b[0m\u001b[0mobject\u001b[0m\u001b[1;33m)\u001b[0m\u001b[1;33m.\u001b[0m\u001b[0m_values\u001b[0m\u001b[1;33m\u001b[0m\u001b[1;33m\u001b[0m\u001b[0m\n\u001b[1;32m-> 4200\u001b[1;33m                 \u001b[0mmapped\u001b[0m \u001b[1;33m=\u001b[0m \u001b[0mlib\u001b[0m\u001b[1;33m.\u001b[0m\u001b[0mmap_infer\u001b[0m\u001b[1;33m(\u001b[0m\u001b[0mvalues\u001b[0m\u001b[1;33m,\u001b[0m \u001b[0mf\u001b[0m\u001b[1;33m,\u001b[0m \u001b[0mconvert\u001b[0m\u001b[1;33m=\u001b[0m\u001b[0mconvert_dtype\u001b[0m\u001b[1;33m)\u001b[0m\u001b[1;33m\u001b[0m\u001b[1;33m\u001b[0m\u001b[0m\n\u001b[0m\u001b[0;32m   4201\u001b[0m \u001b[1;33m\u001b[0m\u001b[0m\n\u001b[0;32m   4202\u001b[0m         \u001b[1;32mif\u001b[0m \u001b[0mlen\u001b[0m\u001b[1;33m(\u001b[0m\u001b[0mmapped\u001b[0m\u001b[1;33m)\u001b[0m \u001b[1;32mand\u001b[0m \u001b[0misinstance\u001b[0m\u001b[1;33m(\u001b[0m\u001b[0mmapped\u001b[0m\u001b[1;33m[\u001b[0m\u001b[1;36m0\u001b[0m\u001b[1;33m]\u001b[0m\u001b[1;33m,\u001b[0m \u001b[0mSeries\u001b[0m\u001b[1;33m)\u001b[0m\u001b[1;33m:\u001b[0m\u001b[1;33m\u001b[0m\u001b[1;33m\u001b[0m\u001b[0m\n",
      "\u001b[1;32mpandas\\_libs\\lib.pyx\u001b[0m in \u001b[0;36mpandas._libs.lib.map_infer\u001b[1;34m()\u001b[0m\n",
      "\u001b[1;32m<ipython-input-94-102cd38782f4>\u001b[0m in \u001b[0;36m<lambda>\u001b[1;34m(x)\u001b[0m\n\u001b[1;32m----> 1\u001b[1;33m \u001b[0mres\u001b[0m\u001b[1;33m[\u001b[0m\u001b[1;34m'min_salary'\u001b[0m\u001b[1;33m]\u001b[0m\u001b[1;33m=\u001b[0m\u001b[0mremove_k\u001b[0m\u001b[1;33m.\u001b[0m\u001b[0mapply\u001b[0m\u001b[1;33m(\u001b[0m\u001b[1;32mlambda\u001b[0m \u001b[0mx\u001b[0m\u001b[1;33m:\u001b[0m \u001b[0mint\u001b[0m\u001b[1;33m(\u001b[0m\u001b[0mx\u001b[0m\u001b[1;33m.\u001b[0m\u001b[0msplit\u001b[0m\u001b[1;33m(\u001b[0m\u001b[1;34m'-'\u001b[0m\u001b[1;33m)\u001b[0m\u001b[1;33m[\u001b[0m\u001b[1;36m0\u001b[0m\u001b[1;33m]\u001b[0m\u001b[1;33m)\u001b[0m\u001b[1;33m)\u001b[0m\u001b[1;33m\u001b[0m\u001b[1;33m\u001b[0m\u001b[0m\n\u001b[0m",
      "\u001b[1;31mValueError\u001b[0m: invalid literal for int() with base 10: ''"
     ]
    }
   ],
   "source": [
    "res['min_salary']=remove_k.apply(lambda x: int(x.split('-')[0]))\n"
   ]
  },
  {
   "cell_type": "code",
   "execution_count": 92,
   "metadata": {},
   "outputs": [
    {
     "data": {
      "text/html": [
       "<div>\n",
       "<style scoped>\n",
       "    .dataframe tbody tr th:only-of-type {\n",
       "        vertical-align: middle;\n",
       "    }\n",
       "\n",
       "    .dataframe tbody tr th {\n",
       "        vertical-align: top;\n",
       "    }\n",
       "\n",
       "    .dataframe thead th {\n",
       "        text-align: right;\n",
       "    }\n",
       "</style>\n",
       "<table border=\"1\" class=\"dataframe\">\n",
       "  <thead>\n",
       "    <tr style=\"text-align: right;\">\n",
       "      <th></th>\n",
       "      <th>Job Title</th>\n",
       "      <th>Salary Estimate</th>\n",
       "      <th>Job Description</th>\n",
       "      <th>Rating</th>\n",
       "      <th>Company Name</th>\n",
       "      <th>Location</th>\n",
       "      <th>Headquarters</th>\n",
       "      <th>Size</th>\n",
       "      <th>Founded</th>\n",
       "      <th>Type of ownership</th>\n",
       "      <th>Industry</th>\n",
       "      <th>Sector</th>\n",
       "      <th>Revenue</th>\n",
       "      <th>Competitors</th>\n",
       "      <th>Unnamed: 0</th>\n",
       "    </tr>\n",
       "  </thead>\n",
       "  <tbody>\n",
       "    <tr>\n",
       "      <th>0</th>\n",
       "      <td>Data Scientist</td>\n",
       "      <td>$64K-$106K (Glassdoor est.)</td>\n",
       "      <td>Secure our Nation, Ignite your Future\\r\\n\\r\\nJ...</td>\n",
       "      <td>4.2</td>\n",
       "      <td>ManTech\\r\\n4.2</td>\n",
       "      <td>Chantilly, VA</td>\n",
       "      <td>Herndon, VA</td>\n",
       "      <td>5001 to 10000 employees</td>\n",
       "      <td>1968</td>\n",
       "      <td>Company - Public</td>\n",
       "      <td>Research &amp; Development</td>\n",
       "      <td>Business Services</td>\n",
       "      <td>$1 to $2 billion (USD)</td>\n",
       "      <td>-1</td>\n",
       "      <td>NaN</td>\n",
       "    </tr>\n",
       "    <tr>\n",
       "      <th>1</th>\n",
       "      <td>Associate Business Intelligence Data Scientist</td>\n",
       "      <td>$64K-$106K (Glassdoor est.)</td>\n",
       "      <td>Blending customer advisory, customer support, ...</td>\n",
       "      <td>3.2</td>\n",
       "      <td>Carousel Industries\\r\\n3.2</td>\n",
       "      <td>Exeter, RI</td>\n",
       "      <td>Exeter, RI</td>\n",
       "      <td>1001 to 5000 employees</td>\n",
       "      <td>1992</td>\n",
       "      <td>Company - Private</td>\n",
       "      <td>IT Services</td>\n",
       "      <td>Information Technology</td>\n",
       "      <td>$500 million to $1 billion (USD)</td>\n",
       "      <td>-1</td>\n",
       "      <td>NaN</td>\n",
       "    </tr>\n",
       "    <tr>\n",
       "      <th>2</th>\n",
       "      <td>Scientist, Population Genomics</td>\n",
       "      <td>$64K-$106K (Glassdoor est.)</td>\n",
       "      <td>WuXi NextCODE is seeking a motivated Scientist...</td>\n",
       "      <td>2.9</td>\n",
       "      <td>Carousel Industries\\r\\n3.2</td>\n",
       "      <td>Cambridge, MA</td>\n",
       "      <td>Cambridge, MA</td>\n",
       "      <td>501 to 1000 employees</td>\n",
       "      <td>2015</td>\n",
       "      <td>Company - Private</td>\n",
       "      <td>Biotech &amp; Pharmaceuticals</td>\n",
       "      <td>Biotech &amp; Pharmaceuticals</td>\n",
       "      <td>Unknown / Non-Applicable</td>\n",
       "      <td>-1</td>\n",
       "      <td>NaN</td>\n",
       "    </tr>\n",
       "    <tr>\n",
       "      <th>3</th>\n",
       "      <td>Data Analyst II</td>\n",
       "      <td>$64K-$106K (Glassdoor est.)</td>\n",
       "      <td>The Data Analyst II is responsible for data en...</td>\n",
       "      <td>4.2</td>\n",
       "      <td>Insight Enterprises, Inc.\\r\\n4.2</td>\n",
       "      <td>Plano, TX</td>\n",
       "      <td>Tempe, AZ</td>\n",
       "      <td>5001 to 10000 employees</td>\n",
       "      <td>1988</td>\n",
       "      <td>Company - Public</td>\n",
       "      <td>Enterprise Software &amp; Network Solutions</td>\n",
       "      <td>Information Technology</td>\n",
       "      <td>$5 to $10 billion (USD)</td>\n",
       "      <td>CDW, PCM, SHI International</td>\n",
       "      <td>NaN</td>\n",
       "    </tr>\n",
       "    <tr>\n",
       "      <th>4</th>\n",
       "      <td>Sensory Scientist</td>\n",
       "      <td>$64K-$106K (Glassdoor est.)</td>\n",
       "      <td>A leading food production company in St. Louis...</td>\n",
       "      <td>3.8</td>\n",
       "      <td>NIC Infotek\\r\\n3.8</td>\n",
       "      <td>Saint Louis, MO</td>\n",
       "      <td>Tampa, FL</td>\n",
       "      <td>51 to 200 employees</td>\n",
       "      <td>2004</td>\n",
       "      <td>Company - Public</td>\n",
       "      <td>Staffing &amp; Outsourcing</td>\n",
       "      <td>Business Services</td>\n",
       "      <td>Unknown / Non-Applicable</td>\n",
       "      <td>-1</td>\n",
       "      <td>NaN</td>\n",
       "    </tr>\n",
       "    <tr>\n",
       "      <th>...</th>\n",
       "      <td>...</td>\n",
       "      <td>...</td>\n",
       "      <td>...</td>\n",
       "      <td>...</td>\n",
       "      <td>...</td>\n",
       "      <td>...</td>\n",
       "      <td>...</td>\n",
       "      <td>...</td>\n",
       "      <td>...</td>\n",
       "      <td>...</td>\n",
       "      <td>...</td>\n",
       "      <td>...</td>\n",
       "      <td>...</td>\n",
       "      <td>...</td>\n",
       "      <td>...</td>\n",
       "    </tr>\n",
       "    <tr>\n",
       "      <th>1951</th>\n",
       "      <td>Senior Data Engineer</td>\n",
       "      <td>$72K-$133K (Glassdoor est.)</td>\n",
       "      <td>THE CHALLENGE\\nEventbrite has a world-class da...</td>\n",
       "      <td>4.4</td>\n",
       "      <td>Eventbrite\\n4.4</td>\n",
       "      <td>Nashville, TN</td>\n",
       "      <td>San Francisco, CA</td>\n",
       "      <td>1001 to 5000 employees</td>\n",
       "      <td>2006</td>\n",
       "      <td>Company - Public</td>\n",
       "      <td>Internet</td>\n",
       "      <td>Information Technology</td>\n",
       "      <td>$100 to $500 million (USD)</td>\n",
       "      <td>See Tickets, TicketWeb, Vendini</td>\n",
       "      <td>951.0</td>\n",
       "    </tr>\n",
       "    <tr>\n",
       "      <th>1952</th>\n",
       "      <td>Project Scientist - Auton Lab, Robotics Institute</td>\n",
       "      <td>$56K-$91K (Glassdoor est.)</td>\n",
       "      <td>The Auton Lab at Carnegie Mellon University is...</td>\n",
       "      <td>2.6</td>\n",
       "      <td>Software Engineering Institute\\n2.6</td>\n",
       "      <td>Pittsburgh, PA</td>\n",
       "      <td>Pittsburgh, PA</td>\n",
       "      <td>501 to 1000 employees</td>\n",
       "      <td>1984</td>\n",
       "      <td>College / University</td>\n",
       "      <td>Colleges &amp; Universities</td>\n",
       "      <td>Education</td>\n",
       "      <td>Unknown / Non-Applicable</td>\n",
       "      <td>-1</td>\n",
       "      <td>952.0</td>\n",
       "    </tr>\n",
       "    <tr>\n",
       "      <th>1953</th>\n",
       "      <td>Data Science Manager</td>\n",
       "      <td>$95K-$160K (Glassdoor est.)</td>\n",
       "      <td>Data Science ManagerResponsibilities:\\n\\nOvers...</td>\n",
       "      <td>3.2</td>\n",
       "      <td>Numeric, LLC\\n3.2</td>\n",
       "      <td>Allentown, PA</td>\n",
       "      <td>Chadds Ford, PA</td>\n",
       "      <td>1 to 50 employees</td>\n",
       "      <td>-1</td>\n",
       "      <td>Company - Private</td>\n",
       "      <td>Staffing &amp; Outsourcing</td>\n",
       "      <td>Business Services</td>\n",
       "      <td>$5 to $10 million (USD)</td>\n",
       "      <td>-1</td>\n",
       "      <td>953.0</td>\n",
       "    </tr>\n",
       "    <tr>\n",
       "      <th>1954</th>\n",
       "      <td>Data Engineer</td>\n",
       "      <td>-1</td>\n",
       "      <td>Loading...\\n\\nTitle: Data Engineer\\n\\nLocation...</td>\n",
       "      <td>4.8</td>\n",
       "      <td>IGNW\\n4.8</td>\n",
       "      <td>Austin, TX</td>\n",
       "      <td>Portland, OR</td>\n",
       "      <td>201 to 500 employees</td>\n",
       "      <td>2015</td>\n",
       "      <td>Company - Private</td>\n",
       "      <td>IT Services</td>\n",
       "      <td>Information Technology</td>\n",
       "      <td>$25 to $50 million (USD)</td>\n",
       "      <td>Slalom</td>\n",
       "      <td>954.0</td>\n",
       "    </tr>\n",
       "    <tr>\n",
       "      <th>1955</th>\n",
       "      <td>Research Scientist – Security and Privacy</td>\n",
       "      <td>$61K-$126K (Glassdoor est.)</td>\n",
       "      <td>Returning Candidate? Log back in to the Career...</td>\n",
       "      <td>3.6</td>\n",
       "      <td>Riverside Research Institute\\n3.6</td>\n",
       "      <td>Beavercreek, OH</td>\n",
       "      <td>Arlington, VA</td>\n",
       "      <td>501 to 1000 employees</td>\n",
       "      <td>1967</td>\n",
       "      <td>Nonprofit Organization</td>\n",
       "      <td>Federal Agencies</td>\n",
       "      <td>Government</td>\n",
       "      <td>$50 to $100 million (USD)</td>\n",
       "      <td>-1</td>\n",
       "      <td>955.0</td>\n",
       "    </tr>\n",
       "  </tbody>\n",
       "</table>\n",
       "<p>1924 rows × 15 columns</p>\n",
       "</div>"
      ],
      "text/plain": [
       "                                              Job Title  \\\n",
       "0                                        Data Scientist   \n",
       "1        Associate Business Intelligence Data Scientist   \n",
       "2                        Scientist, Population Genomics   \n",
       "3                                       Data Analyst II   \n",
       "4                                     Sensory Scientist   \n",
       "...                                                 ...   \n",
       "1951                               Senior Data Engineer   \n",
       "1952  Project Scientist - Auton Lab, Robotics Institute   \n",
       "1953                               Data Science Manager   \n",
       "1954                                      Data Engineer   \n",
       "1955          Research Scientist – Security and Privacy   \n",
       "\n",
       "                  Salary Estimate  \\\n",
       "0     $64K-$106K (Glassdoor est.)   \n",
       "1     $64K-$106K (Glassdoor est.)   \n",
       "2     $64K-$106K (Glassdoor est.)   \n",
       "3     $64K-$106K (Glassdoor est.)   \n",
       "4     $64K-$106K (Glassdoor est.)   \n",
       "...                           ...   \n",
       "1951  $72K-$133K (Glassdoor est.)   \n",
       "1952   $56K-$91K (Glassdoor est.)   \n",
       "1953  $95K-$160K (Glassdoor est.)   \n",
       "1954                           -1   \n",
       "1955  $61K-$126K (Glassdoor est.)   \n",
       "\n",
       "                                        Job Description  Rating  \\\n",
       "0     Secure our Nation, Ignite your Future\\r\\n\\r\\nJ...     4.2   \n",
       "1     Blending customer advisory, customer support, ...     3.2   \n",
       "2     WuXi NextCODE is seeking a motivated Scientist...     2.9   \n",
       "3     The Data Analyst II is responsible for data en...     4.2   \n",
       "4     A leading food production company in St. Louis...     3.8   \n",
       "...                                                 ...     ...   \n",
       "1951  THE CHALLENGE\\nEventbrite has a world-class da...     4.4   \n",
       "1952  The Auton Lab at Carnegie Mellon University is...     2.6   \n",
       "1953  Data Science ManagerResponsibilities:\\n\\nOvers...     3.2   \n",
       "1954  Loading...\\n\\nTitle: Data Engineer\\n\\nLocation...     4.8   \n",
       "1955  Returning Candidate? Log back in to the Career...     3.6   \n",
       "\n",
       "                             Company Name         Location       Headquarters  \\\n",
       "0                          ManTech\\r\\n4.2    Chantilly, VA        Herndon, VA   \n",
       "1              Carousel Industries\\r\\n3.2       Exeter, RI         Exeter, RI   \n",
       "2              Carousel Industries\\r\\n3.2    Cambridge, MA      Cambridge, MA   \n",
       "3        Insight Enterprises, Inc.\\r\\n4.2        Plano, TX          Tempe, AZ   \n",
       "4                      NIC Infotek\\r\\n3.8  Saint Louis, MO          Tampa, FL   \n",
       "...                                   ...              ...                ...   \n",
       "1951                      Eventbrite\\n4.4    Nashville, TN  San Francisco, CA   \n",
       "1952  Software Engineering Institute\\n2.6   Pittsburgh, PA     Pittsburgh, PA   \n",
       "1953                    Numeric, LLC\\n3.2    Allentown, PA    Chadds Ford, PA   \n",
       "1954                            IGNW\\n4.8       Austin, TX       Portland, OR   \n",
       "1955    Riverside Research Institute\\n3.6  Beavercreek, OH      Arlington, VA   \n",
       "\n",
       "                         Size  Founded       Type of ownership  \\\n",
       "0     5001 to 10000 employees     1968        Company - Public   \n",
       "1      1001 to 5000 employees     1992       Company - Private   \n",
       "2       501 to 1000 employees     2015       Company - Private   \n",
       "3     5001 to 10000 employees     1988        Company - Public   \n",
       "4         51 to 200 employees     2004        Company - Public   \n",
       "...                       ...      ...                     ...   \n",
       "1951   1001 to 5000 employees     2006        Company - Public   \n",
       "1952    501 to 1000 employees     1984    College / University   \n",
       "1953        1 to 50 employees       -1       Company - Private   \n",
       "1954     201 to 500 employees     2015       Company - Private   \n",
       "1955    501 to 1000 employees     1967  Nonprofit Organization   \n",
       "\n",
       "                                     Industry                     Sector  \\\n",
       "0                      Research & Development          Business Services   \n",
       "1                                 IT Services     Information Technology   \n",
       "2                   Biotech & Pharmaceuticals  Biotech & Pharmaceuticals   \n",
       "3     Enterprise Software & Network Solutions     Information Technology   \n",
       "4                      Staffing & Outsourcing          Business Services   \n",
       "...                                       ...                        ...   \n",
       "1951                                 Internet     Information Technology   \n",
       "1952                  Colleges & Universities                  Education   \n",
       "1953                   Staffing & Outsourcing          Business Services   \n",
       "1954                              IT Services     Information Technology   \n",
       "1955                         Federal Agencies                 Government   \n",
       "\n",
       "                               Revenue                      Competitors  \\\n",
       "0               $1 to $2 billion (USD)                               -1   \n",
       "1     $500 million to $1 billion (USD)                               -1   \n",
       "2             Unknown / Non-Applicable                               -1   \n",
       "3              $5 to $10 billion (USD)      CDW, PCM, SHI International   \n",
       "4             Unknown / Non-Applicable                               -1   \n",
       "...                                ...                              ...   \n",
       "1951        $100 to $500 million (USD)  See Tickets, TicketWeb, Vendini   \n",
       "1952          Unknown / Non-Applicable                               -1   \n",
       "1953           $5 to $10 million (USD)                               -1   \n",
       "1954          $25 to $50 million (USD)                           Slalom   \n",
       "1955         $50 to $100 million (USD)                               -1   \n",
       "\n",
       "      Unnamed: 0  \n",
       "0            NaN  \n",
       "1            NaN  \n",
       "2            NaN  \n",
       "3            NaN  \n",
       "4            NaN  \n",
       "...          ...  \n",
       "1951       951.0  \n",
       "1952       952.0  \n",
       "1953       953.0  \n",
       "1954       954.0  \n",
       "1955       955.0  \n",
       "\n",
       "[1924 rows x 15 columns]"
      ]
     },
     "execution_count": 92,
     "metadata": {},
     "output_type": "execute_result"
    }
   ],
   "source": [
    "res\n"
   ]
  },
  {
   "cell_type": "code",
   "execution_count": 74,
   "metadata": {},
   "outputs": [
    {
     "ename": "ValueError",
     "evalue": "invalid literal for int() with base 10: '24 Per Hour'",
     "output_type": "error",
     "traceback": [
      "\u001b[1;31m---------------------------------------------------------------------------\u001b[0m",
      "\u001b[1;31mValueError\u001b[0m                                Traceback (most recent call last)",
      "\u001b[1;32m<ipython-input-74-16a4087b0e2a>\u001b[0m in \u001b[0;36m<module>\u001b[1;34m\u001b[0m\n\u001b[1;32m----> 1\u001b[1;33m \u001b[0mres\u001b[0m\u001b[1;33m[\u001b[0m\u001b[1;34m'max_salary'\u001b[0m\u001b[1;33m]\u001b[0m\u001b[1;33m=\u001b[0m\u001b[0mremove_k\u001b[0m\u001b[1;33m.\u001b[0m\u001b[0mapply\u001b[0m\u001b[1;33m(\u001b[0m\u001b[1;32mlambda\u001b[0m \u001b[0mx\u001b[0m\u001b[1;33m:\u001b[0m\u001b[0mint\u001b[0m\u001b[1;33m(\u001b[0m\u001b[0mx\u001b[0m\u001b[1;33m.\u001b[0m\u001b[0msplit\u001b[0m\u001b[1;33m(\u001b[0m\u001b[1;34m'-'\u001b[0m\u001b[1;33m)\u001b[0m\u001b[1;33m[\u001b[0m\u001b[1;36m1\u001b[0m\u001b[1;33m]\u001b[0m\u001b[1;33m)\u001b[0m\u001b[1;33m)\u001b[0m\u001b[1;33m\u001b[0m\u001b[1;33m\u001b[0m\u001b[0m\n\u001b[0m\u001b[0;32m      2\u001b[0m \u001b[0mres\u001b[0m\u001b[1;33m[\u001b[0m\u001b[1;34m'max_salary'\u001b[0m\u001b[1;33m]\u001b[0m\u001b[1;33m\u001b[0m\u001b[1;33m\u001b[0m\u001b[0m\n",
      "\u001b[1;32m~\\anaconda3\\lib\\site-packages\\pandas\\core\\series.py\u001b[0m in \u001b[0;36mapply\u001b[1;34m(self, func, convert_dtype, args, **kwds)\u001b[0m\n\u001b[0;32m   4198\u001b[0m             \u001b[1;32melse\u001b[0m\u001b[1;33m:\u001b[0m\u001b[1;33m\u001b[0m\u001b[1;33m\u001b[0m\u001b[0m\n\u001b[0;32m   4199\u001b[0m                 \u001b[0mvalues\u001b[0m \u001b[1;33m=\u001b[0m \u001b[0mself\u001b[0m\u001b[1;33m.\u001b[0m\u001b[0mastype\u001b[0m\u001b[1;33m(\u001b[0m\u001b[0mobject\u001b[0m\u001b[1;33m)\u001b[0m\u001b[1;33m.\u001b[0m\u001b[0m_values\u001b[0m\u001b[1;33m\u001b[0m\u001b[1;33m\u001b[0m\u001b[0m\n\u001b[1;32m-> 4200\u001b[1;33m                 \u001b[0mmapped\u001b[0m \u001b[1;33m=\u001b[0m \u001b[0mlib\u001b[0m\u001b[1;33m.\u001b[0m\u001b[0mmap_infer\u001b[0m\u001b[1;33m(\u001b[0m\u001b[0mvalues\u001b[0m\u001b[1;33m,\u001b[0m \u001b[0mf\u001b[0m\u001b[1;33m,\u001b[0m \u001b[0mconvert\u001b[0m\u001b[1;33m=\u001b[0m\u001b[0mconvert_dtype\u001b[0m\u001b[1;33m)\u001b[0m\u001b[1;33m\u001b[0m\u001b[1;33m\u001b[0m\u001b[0m\n\u001b[0m\u001b[0;32m   4201\u001b[0m \u001b[1;33m\u001b[0m\u001b[0m\n\u001b[0;32m   4202\u001b[0m         \u001b[1;32mif\u001b[0m \u001b[0mlen\u001b[0m\u001b[1;33m(\u001b[0m\u001b[0mmapped\u001b[0m\u001b[1;33m)\u001b[0m \u001b[1;32mand\u001b[0m \u001b[0misinstance\u001b[0m\u001b[1;33m(\u001b[0m\u001b[0mmapped\u001b[0m\u001b[1;33m[\u001b[0m\u001b[1;36m0\u001b[0m\u001b[1;33m]\u001b[0m\u001b[1;33m,\u001b[0m \u001b[0mSeries\u001b[0m\u001b[1;33m)\u001b[0m\u001b[1;33m:\u001b[0m\u001b[1;33m\u001b[0m\u001b[1;33m\u001b[0m\u001b[0m\n",
      "\u001b[1;32mpandas\\_libs\\lib.pyx\u001b[0m in \u001b[0;36mpandas._libs.lib.map_infer\u001b[1;34m()\u001b[0m\n",
      "\u001b[1;32m<ipython-input-74-16a4087b0e2a>\u001b[0m in \u001b[0;36m<lambda>\u001b[1;34m(x)\u001b[0m\n\u001b[1;32m----> 1\u001b[1;33m \u001b[0mres\u001b[0m\u001b[1;33m[\u001b[0m\u001b[1;34m'max_salary'\u001b[0m\u001b[1;33m]\u001b[0m\u001b[1;33m=\u001b[0m\u001b[0mremove_k\u001b[0m\u001b[1;33m.\u001b[0m\u001b[0mapply\u001b[0m\u001b[1;33m(\u001b[0m\u001b[1;32mlambda\u001b[0m \u001b[0mx\u001b[0m\u001b[1;33m:\u001b[0m\u001b[0mint\u001b[0m\u001b[1;33m(\u001b[0m\u001b[0mx\u001b[0m\u001b[1;33m.\u001b[0m\u001b[0msplit\u001b[0m\u001b[1;33m(\u001b[0m\u001b[1;34m'-'\u001b[0m\u001b[1;33m)\u001b[0m\u001b[1;33m[\u001b[0m\u001b[1;36m1\u001b[0m\u001b[1;33m]\u001b[0m\u001b[1;33m)\u001b[0m\u001b[1;33m)\u001b[0m\u001b[1;33m\u001b[0m\u001b[1;33m\u001b[0m\u001b[0m\n\u001b[0m\u001b[0;32m      2\u001b[0m \u001b[0mres\u001b[0m\u001b[1;33m[\u001b[0m\u001b[1;34m'max_salary'\u001b[0m\u001b[1;33m]\u001b[0m\u001b[1;33m\u001b[0m\u001b[1;33m\u001b[0m\u001b[0m\n",
      "\u001b[1;31mValueError\u001b[0m: invalid literal for int() with base 10: '24 Per Hour'"
     ]
    }
   ],
   "source": [
    "res['max_salary']=remove_k.apply(lambda x:int(x.split('-')[1]))\n",
    "res['max_salary']"
   ]
  },
  {
   "cell_type": "code",
   "execution_count": 73,
   "metadata": {},
   "outputs": [
    {
     "ename": "AttributeError",
     "evalue": "'DataFrame' object has no attribute 'min_salary'",
     "output_type": "error",
     "traceback": [
      "\u001b[1;31m---------------------------------------------------------------------------\u001b[0m",
      "\u001b[1;31mAttributeError\u001b[0m                            Traceback (most recent call last)",
      "\u001b[1;32m<ipython-input-73-ccad3c85551d>\u001b[0m in \u001b[0;36m<module>\u001b[1;34m\u001b[0m\n\u001b[0;32m      1\u001b[0m \u001b[1;31m#Average Salary\u001b[0m\u001b[1;33m\u001b[0m\u001b[1;33m\u001b[0m\u001b[1;33m\u001b[0m\u001b[0m\n\u001b[1;32m----> 2\u001b[1;33m \u001b[0mres\u001b[0m\u001b[1;33m[\u001b[0m\u001b[1;34m'avg_salary'\u001b[0m\u001b[1;33m]\u001b[0m\u001b[1;33m=\u001b[0m\u001b[1;33m(\u001b[0m\u001b[0mdf\u001b[0m\u001b[1;33m.\u001b[0m\u001b[0mmin_salary\u001b[0m\u001b[1;33m+\u001b[0m\u001b[0mdf\u001b[0m\u001b[1;33m.\u001b[0m\u001b[0mmax_salary\u001b[0m\u001b[1;33m)\u001b[0m\u001b[1;33m/\u001b[0m\u001b[1;36m2\u001b[0m\u001b[1;33m\u001b[0m\u001b[1;33m\u001b[0m\u001b[0m\n\u001b[0m\u001b[0;32m      3\u001b[0m \u001b[0mres\u001b[0m\u001b[1;33m[\u001b[0m\u001b[1;34m'avg_salary'\u001b[0m\u001b[1;33m]\u001b[0m\u001b[1;33m\u001b[0m\u001b[1;33m\u001b[0m\u001b[0m\n",
      "\u001b[1;32m~\\anaconda3\\lib\\site-packages\\pandas\\core\\generic.py\u001b[0m in \u001b[0;36m__getattr__\u001b[1;34m(self, name)\u001b[0m\n\u001b[0;32m   5137\u001b[0m             \u001b[1;32mif\u001b[0m \u001b[0mself\u001b[0m\u001b[1;33m.\u001b[0m\u001b[0m_info_axis\u001b[0m\u001b[1;33m.\u001b[0m\u001b[0m_can_hold_identifiers_and_holds_name\u001b[0m\u001b[1;33m(\u001b[0m\u001b[0mname\u001b[0m\u001b[1;33m)\u001b[0m\u001b[1;33m:\u001b[0m\u001b[1;33m\u001b[0m\u001b[1;33m\u001b[0m\u001b[0m\n\u001b[0;32m   5138\u001b[0m                 \u001b[1;32mreturn\u001b[0m \u001b[0mself\u001b[0m\u001b[1;33m[\u001b[0m\u001b[0mname\u001b[0m\u001b[1;33m]\u001b[0m\u001b[1;33m\u001b[0m\u001b[1;33m\u001b[0m\u001b[0m\n\u001b[1;32m-> 5139\u001b[1;33m             \u001b[1;32mreturn\u001b[0m \u001b[0mobject\u001b[0m\u001b[1;33m.\u001b[0m\u001b[0m__getattribute__\u001b[0m\u001b[1;33m(\u001b[0m\u001b[0mself\u001b[0m\u001b[1;33m,\u001b[0m \u001b[0mname\u001b[0m\u001b[1;33m)\u001b[0m\u001b[1;33m\u001b[0m\u001b[1;33m\u001b[0m\u001b[0m\n\u001b[0m\u001b[0;32m   5140\u001b[0m \u001b[1;33m\u001b[0m\u001b[0m\n\u001b[0;32m   5141\u001b[0m     \u001b[1;32mdef\u001b[0m \u001b[0m__setattr__\u001b[0m\u001b[1;33m(\u001b[0m\u001b[0mself\u001b[0m\u001b[1;33m,\u001b[0m \u001b[0mname\u001b[0m\u001b[1;33m:\u001b[0m \u001b[0mstr\u001b[0m\u001b[1;33m,\u001b[0m \u001b[0mvalue\u001b[0m\u001b[1;33m)\u001b[0m \u001b[1;33m->\u001b[0m \u001b[1;32mNone\u001b[0m\u001b[1;33m:\u001b[0m\u001b[1;33m\u001b[0m\u001b[1;33m\u001b[0m\u001b[0m\n",
      "\u001b[1;31mAttributeError\u001b[0m: 'DataFrame' object has no attribute 'min_salary'"
     ]
    }
   ],
   "source": [
    "#Average Salary\n",
    "res['avg_salary']=(df.min_salary+df.max_salary)/2\n",
    "res['avg_salary']"
   ]
  },
  {
   "cell_type": "markdown",
   "metadata": {},
   "source": [
    "Removing ratings with Null ratings\n"
   ]
  },
  {
   "cell_type": "code",
   "execution_count": 44,
   "metadata": {},
   "outputs": [
    {
     "data": {
      "text/plain": [
       "1904"
      ]
     },
     "execution_count": 44,
     "metadata": {},
     "output_type": "execute_result"
    }
   ],
   "source": [
    "res=res[res['Rating']!=-1.0]\n",
    "res['Rating'].value_counts().sum()"
   ]
  },
  {
   "cell_type": "code",
   "execution_count": 46,
   "metadata": {},
   "outputs": [
    {
     "data": {
      "text/plain": [
       "(1904, 17)"
      ]
     },
     "execution_count": 46,
     "metadata": {},
     "output_type": "execute_result"
    }
   ],
   "source": [
    "res.shape# Another 54 rows removed and 3 colums added"
   ]
  },
  {
   "cell_type": "markdown",
   "metadata": {},
   "source": [
    "Removing Rating from Company Name field:"
   ]
  },
  {
   "cell_type": "code",
   "execution_count": 53,
   "metadata": {},
   "outputs": [
    {
     "data": {
      "text/plain": [
       "0                         ManTech\\r\n",
       "1             Carousel Industries\\r\n",
       "2             Carousel Industries\\r\n",
       "3       Insight Enterprises, Inc.\\r\n",
       "4                     NIC Infotek\\r\n",
       "                   ...             \n",
       "1995                         Eaze\\r\n",
       "1996            Goodwater Capital\\r\n",
       "1997             Dun & Bradstreet\\r\n",
       "1998                     Freestar\\r\n",
       "1999              Imperfect Foods\\r\n",
       "Name: Company Name, Length: 1904, dtype: object"
      ]
     },
     "execution_count": 53,
     "metadata": {},
     "output_type": "execute_result"
    }
   ],
   "source": [
    "res['Company Name']=res['Company Name'].apply(lambda x:x.split('\\n')[0])\n",
    "res['Company Name']"
   ]
  },
  {
   "cell_type": "code",
   "execution_count": null,
   "metadata": {},
   "outputs": [],
   "source": []
  }
 ],
 "metadata": {
  "kernelspec": {
   "display_name": "Python 3",
   "language": "python",
   "name": "python3"
  },
  "language_info": {
   "codemirror_mode": {
    "name": "ipython",
    "version": 3
   },
   "file_extension": ".py",
   "mimetype": "text/x-python",
   "name": "python",
   "nbconvert_exporter": "python",
   "pygments_lexer": "ipython3",
   "version": "3.8.5"
  }
 },
 "nbformat": 4,
 "nbformat_minor": 5
}
