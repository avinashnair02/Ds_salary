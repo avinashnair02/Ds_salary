{
 "cells": [
  {
   "cell_type": "markdown",
   "metadata": {},
   "source": [
    "Data Cleaning on the Glassdoor datset"
   ]
  },
  {
   "cell_type": "code",
   "execution_count": 1,
   "metadata": {},
   "outputs": [],
   "source": [
    "import pandas as pd\n",
    "pd.options.mode.chained_assignment = None  # default='warn'"
   ]
  },
  {
   "cell_type": "code",
   "execution_count": 2,
   "metadata": {},
   "outputs": [
    {
     "data": {
      "text/html": [
       "<div>\n",
       "<style scoped>\n",
       "    .dataframe tbody tr th:only-of-type {\n",
       "        vertical-align: middle;\n",
       "    }\n",
       "\n",
       "    .dataframe tbody tr th {\n",
       "        vertical-align: top;\n",
       "    }\n",
       "\n",
       "    .dataframe thead th {\n",
       "        text-align: right;\n",
       "    }\n",
       "</style>\n",
       "<table border=\"1\" class=\"dataframe\">\n",
       "  <thead>\n",
       "    <tr style=\"text-align: right;\">\n",
       "      <th></th>\n",
       "      <th>Job Title</th>\n",
       "      <th>Salary Estimate</th>\n",
       "      <th>Job Description</th>\n",
       "      <th>Rating</th>\n",
       "      <th>Company Name</th>\n",
       "      <th>Location</th>\n",
       "      <th>Headquarters</th>\n",
       "      <th>Size</th>\n",
       "      <th>Founded</th>\n",
       "      <th>Type of ownership</th>\n",
       "      <th>Industry</th>\n",
       "      <th>Sector</th>\n",
       "      <th>Revenue</th>\n",
       "      <th>Competitors</th>\n",
       "    </tr>\n",
       "  </thead>\n",
       "  <tbody>\n",
       "    <tr>\n",
       "      <th>0</th>\n",
       "      <td>Data Scientist</td>\n",
       "      <td>$64K-$106K (Glassdoor est.)</td>\n",
       "      <td>Secure our Nation, Ignite your Future\\r\\n\\r\\nJ...</td>\n",
       "      <td>4.2</td>\n",
       "      <td>ManTech\\r\\n4.2</td>\n",
       "      <td>Chantilly, VA</td>\n",
       "      <td>Herndon, VA</td>\n",
       "      <td>5001 to 10000 employees</td>\n",
       "      <td>1968</td>\n",
       "      <td>Company - Public</td>\n",
       "      <td>Research &amp; Development</td>\n",
       "      <td>Business Services</td>\n",
       "      <td>$1 to $2 billion (USD)</td>\n",
       "      <td>-1</td>\n",
       "    </tr>\n",
       "    <tr>\n",
       "      <th>1</th>\n",
       "      <td>Associate Business Intelligence Data Scientist</td>\n",
       "      <td>$64K-$106K (Glassdoor est.)</td>\n",
       "      <td>Blending customer advisory, customer support, ...</td>\n",
       "      <td>3.2</td>\n",
       "      <td>Carousel Industries\\r\\n3.2</td>\n",
       "      <td>Exeter, RI</td>\n",
       "      <td>Exeter, RI</td>\n",
       "      <td>1001 to 5000 employees</td>\n",
       "      <td>1992</td>\n",
       "      <td>Company - Private</td>\n",
       "      <td>IT Services</td>\n",
       "      <td>Information Technology</td>\n",
       "      <td>$500 million to $1 billion (USD)</td>\n",
       "      <td>-1</td>\n",
       "    </tr>\n",
       "    <tr>\n",
       "      <th>2</th>\n",
       "      <td>Scientist, Population Genomics</td>\n",
       "      <td>$64K-$106K (Glassdoor est.)</td>\n",
       "      <td>WuXi NextCODE is seeking a motivated Scientist...</td>\n",
       "      <td>2.9</td>\n",
       "      <td>Carousel Industries\\r\\n3.2</td>\n",
       "      <td>Cambridge, MA</td>\n",
       "      <td>Cambridge, MA</td>\n",
       "      <td>501 to 1000 employees</td>\n",
       "      <td>2015</td>\n",
       "      <td>Company - Private</td>\n",
       "      <td>Biotech &amp; Pharmaceuticals</td>\n",
       "      <td>Biotech &amp; Pharmaceuticals</td>\n",
       "      <td>Unknown / Non-Applicable</td>\n",
       "      <td>-1</td>\n",
       "    </tr>\n",
       "    <tr>\n",
       "      <th>3</th>\n",
       "      <td>Data Analyst II</td>\n",
       "      <td>$64K-$106K (Glassdoor est.)</td>\n",
       "      <td>The Data Analyst II is responsible for data en...</td>\n",
       "      <td>4.2</td>\n",
       "      <td>Insight Enterprises, Inc.\\r\\n4.2</td>\n",
       "      <td>Plano, TX</td>\n",
       "      <td>Tempe, AZ</td>\n",
       "      <td>5001 to 10000 employees</td>\n",
       "      <td>1988</td>\n",
       "      <td>Company - Public</td>\n",
       "      <td>Enterprise Software &amp; Network Solutions</td>\n",
       "      <td>Information Technology</td>\n",
       "      <td>$5 to $10 billion (USD)</td>\n",
       "      <td>CDW, PCM, SHI International</td>\n",
       "    </tr>\n",
       "    <tr>\n",
       "      <th>4</th>\n",
       "      <td>Sensory Scientist</td>\n",
       "      <td>$64K-$106K (Glassdoor est.)</td>\n",
       "      <td>A leading food production company in St. Louis...</td>\n",
       "      <td>3.8</td>\n",
       "      <td>NIC Infotek\\r\\n3.8</td>\n",
       "      <td>Saint Louis, MO</td>\n",
       "      <td>Tampa, FL</td>\n",
       "      <td>51 to 200 employees</td>\n",
       "      <td>2004</td>\n",
       "      <td>Company - Public</td>\n",
       "      <td>Staffing &amp; Outsourcing</td>\n",
       "      <td>Business Services</td>\n",
       "      <td>Unknown / Non-Applicable</td>\n",
       "      <td>-1</td>\n",
       "    </tr>\n",
       "    <tr>\n",
       "      <th>...</th>\n",
       "      <td>...</td>\n",
       "      <td>...</td>\n",
       "      <td>...</td>\n",
       "      <td>...</td>\n",
       "      <td>...</td>\n",
       "      <td>...</td>\n",
       "      <td>...</td>\n",
       "      <td>...</td>\n",
       "      <td>...</td>\n",
       "      <td>...</td>\n",
       "      <td>...</td>\n",
       "      <td>...</td>\n",
       "      <td>...</td>\n",
       "      <td>...</td>\n",
       "    </tr>\n",
       "    <tr>\n",
       "      <th>995</th>\n",
       "      <td>Data Scientist</td>\n",
       "      <td>$96K-$156K (Glassdoor est.)</td>\n",
       "      <td>As a Data Scientist at Eaze, you'll report to ...</td>\n",
       "      <td>3.6</td>\n",
       "      <td>Eaze\\r\\n3.6</td>\n",
       "      <td>San Francisco, CA</td>\n",
       "      <td>San Francisco, CA</td>\n",
       "      <td>51 to 200 employees</td>\n",
       "      <td>2014</td>\n",
       "      <td>Company - Private</td>\n",
       "      <td>Internet</td>\n",
       "      <td>Information Technology</td>\n",
       "      <td>$25 to $50 million (USD)</td>\n",
       "      <td>Harborside Health Center, Leafly, Privateer Ho...</td>\n",
       "    </tr>\n",
       "    <tr>\n",
       "      <th>996</th>\n",
       "      <td>Data Scientist</td>\n",
       "      <td>$96K-$156K (Glassdoor est.)</td>\n",
       "      <td>We are looking for data scientists who love ex...</td>\n",
       "      <td>2.9</td>\n",
       "      <td>Goodwater Capital\\r\\n2.9</td>\n",
       "      <td>Burlingame, CA</td>\n",
       "      <td>San Mateo, CA</td>\n",
       "      <td>1 to 50 employees</td>\n",
       "      <td>2014</td>\n",
       "      <td>Private Practice / Firm</td>\n",
       "      <td>Venture Capital &amp; Private Equity</td>\n",
       "      <td>Finance</td>\n",
       "      <td>Unknown / Non-Applicable</td>\n",
       "      <td>-1</td>\n",
       "    </tr>\n",
       "    <tr>\n",
       "      <th>997</th>\n",
       "      <td>Data Scientist</td>\n",
       "      <td>$96K-$156K (Glassdoor est.)</td>\n",
       "      <td>Why We Work at Dun &amp; Bradstreet\\r\\n\\r\\n\\r\\nWe ...</td>\n",
       "      <td>3.1</td>\n",
       "      <td>Dun &amp; Bradstreet\\r\\n3.1</td>\n",
       "      <td>Austin, TX</td>\n",
       "      <td>Short Hills, NJ</td>\n",
       "      <td>1001 to 5000 employees</td>\n",
       "      <td>1841</td>\n",
       "      <td>Company - Private</td>\n",
       "      <td>IT Services</td>\n",
       "      <td>Information Technology</td>\n",
       "      <td>$1 to $2 billion (USD)</td>\n",
       "      <td>Experian, Equifax</td>\n",
       "    </tr>\n",
       "    <tr>\n",
       "      <th>998</th>\n",
       "      <td>Data Scientist</td>\n",
       "      <td>$96K-$156K (Glassdoor est.)</td>\n",
       "      <td>About Freestar:\\r\\n\\r\\nFreestar engineers cutt...</td>\n",
       "      <td>4.9</td>\n",
       "      <td>Freestar\\r\\n4.9</td>\n",
       "      <td>Phoenix, AZ</td>\n",
       "      <td>Phoenix, AZ</td>\n",
       "      <td>1 to 50 employees</td>\n",
       "      <td>2016</td>\n",
       "      <td>Company - Private</td>\n",
       "      <td>Advertising &amp; Marketing</td>\n",
       "      <td>Business Services</td>\n",
       "      <td>$25 to $50 million (USD)</td>\n",
       "      <td>-1</td>\n",
       "    </tr>\n",
       "    <tr>\n",
       "      <th>999</th>\n",
       "      <td>Data Scientist</td>\n",
       "      <td>$96K-$156K (Glassdoor est.)</td>\n",
       "      <td>About Imperfect\\r\\n\\r\\nImperfect Foods was fou...</td>\n",
       "      <td>3.8</td>\n",
       "      <td>Imperfect Foods\\r\\n3.8</td>\n",
       "      <td>Remote</td>\n",
       "      <td>San Francisco, CA</td>\n",
       "      <td>1001 to 5000 employees</td>\n",
       "      <td>2015</td>\n",
       "      <td>Company - Private</td>\n",
       "      <td>Food &amp; Beverage Stores</td>\n",
       "      <td>Retail</td>\n",
       "      <td>Unknown / Non-Applicable</td>\n",
       "      <td>Hungry Harvest, Good Eggs</td>\n",
       "    </tr>\n",
       "  </tbody>\n",
       "</table>\n",
       "<p>1000 rows × 14 columns</p>\n",
       "</div>"
      ],
      "text/plain": [
       "                                          Job Title  \\\n",
       "0                                    Data Scientist   \n",
       "1    Associate Business Intelligence Data Scientist   \n",
       "2                    Scientist, Population Genomics   \n",
       "3                                   Data Analyst II   \n",
       "4                                 Sensory Scientist   \n",
       "..                                              ...   \n",
       "995                                  Data Scientist   \n",
       "996                                  Data Scientist   \n",
       "997                                  Data Scientist   \n",
       "998                                  Data Scientist   \n",
       "999                                  Data Scientist   \n",
       "\n",
       "                 Salary Estimate  \\\n",
       "0    $64K-$106K (Glassdoor est.)   \n",
       "1    $64K-$106K (Glassdoor est.)   \n",
       "2    $64K-$106K (Glassdoor est.)   \n",
       "3    $64K-$106K (Glassdoor est.)   \n",
       "4    $64K-$106K (Glassdoor est.)   \n",
       "..                           ...   \n",
       "995  $96K-$156K (Glassdoor est.)   \n",
       "996  $96K-$156K (Glassdoor est.)   \n",
       "997  $96K-$156K (Glassdoor est.)   \n",
       "998  $96K-$156K (Glassdoor est.)   \n",
       "999  $96K-$156K (Glassdoor est.)   \n",
       "\n",
       "                                       Job Description  Rating  \\\n",
       "0    Secure our Nation, Ignite your Future\\r\\n\\r\\nJ...     4.2   \n",
       "1    Blending customer advisory, customer support, ...     3.2   \n",
       "2    WuXi NextCODE is seeking a motivated Scientist...     2.9   \n",
       "3    The Data Analyst II is responsible for data en...     4.2   \n",
       "4    A leading food production company in St. Louis...     3.8   \n",
       "..                                                 ...     ...   \n",
       "995  As a Data Scientist at Eaze, you'll report to ...     3.6   \n",
       "996  We are looking for data scientists who love ex...     2.9   \n",
       "997  Why We Work at Dun & Bradstreet\\r\\n\\r\\n\\r\\nWe ...     3.1   \n",
       "998  About Freestar:\\r\\n\\r\\nFreestar engineers cutt...     4.9   \n",
       "999  About Imperfect\\r\\n\\r\\nImperfect Foods was fou...     3.8   \n",
       "\n",
       "                         Company Name           Location       Headquarters  \\\n",
       "0                      ManTech\\r\\n4.2      Chantilly, VA        Herndon, VA   \n",
       "1          Carousel Industries\\r\\n3.2         Exeter, RI         Exeter, RI   \n",
       "2          Carousel Industries\\r\\n3.2      Cambridge, MA      Cambridge, MA   \n",
       "3    Insight Enterprises, Inc.\\r\\n4.2          Plano, TX          Tempe, AZ   \n",
       "4                  NIC Infotek\\r\\n3.8    Saint Louis, MO          Tampa, FL   \n",
       "..                                ...                ...                ...   \n",
       "995                       Eaze\\r\\n3.6  San Francisco, CA  San Francisco, CA   \n",
       "996          Goodwater Capital\\r\\n2.9     Burlingame, CA      San Mateo, CA   \n",
       "997           Dun & Bradstreet\\r\\n3.1         Austin, TX    Short Hills, NJ   \n",
       "998                   Freestar\\r\\n4.9        Phoenix, AZ        Phoenix, AZ   \n",
       "999            Imperfect Foods\\r\\n3.8             Remote  San Francisco, CA   \n",
       "\n",
       "                        Size  Founded        Type of ownership  \\\n",
       "0    5001 to 10000 employees     1968         Company - Public   \n",
       "1     1001 to 5000 employees     1992        Company - Private   \n",
       "2      501 to 1000 employees     2015        Company - Private   \n",
       "3    5001 to 10000 employees     1988         Company - Public   \n",
       "4        51 to 200 employees     2004         Company - Public   \n",
       "..                       ...      ...                      ...   \n",
       "995      51 to 200 employees     2014        Company - Private   \n",
       "996        1 to 50 employees     2014  Private Practice / Firm   \n",
       "997   1001 to 5000 employees     1841        Company - Private   \n",
       "998        1 to 50 employees     2016        Company - Private   \n",
       "999   1001 to 5000 employees     2015        Company - Private   \n",
       "\n",
       "                                    Industry                     Sector  \\\n",
       "0                     Research & Development          Business Services   \n",
       "1                                IT Services     Information Technology   \n",
       "2                  Biotech & Pharmaceuticals  Biotech & Pharmaceuticals   \n",
       "3    Enterprise Software & Network Solutions     Information Technology   \n",
       "4                     Staffing & Outsourcing          Business Services   \n",
       "..                                       ...                        ...   \n",
       "995                                 Internet     Information Technology   \n",
       "996         Venture Capital & Private Equity                    Finance   \n",
       "997                              IT Services     Information Technology   \n",
       "998                  Advertising & Marketing          Business Services   \n",
       "999                   Food & Beverage Stores                     Retail   \n",
       "\n",
       "                              Revenue  \\\n",
       "0              $1 to $2 billion (USD)   \n",
       "1    $500 million to $1 billion (USD)   \n",
       "2            Unknown / Non-Applicable   \n",
       "3             $5 to $10 billion (USD)   \n",
       "4            Unknown / Non-Applicable   \n",
       "..                                ...   \n",
       "995          $25 to $50 million (USD)   \n",
       "996          Unknown / Non-Applicable   \n",
       "997            $1 to $2 billion (USD)   \n",
       "998          $25 to $50 million (USD)   \n",
       "999          Unknown / Non-Applicable   \n",
       "\n",
       "                                           Competitors  \n",
       "0                                                   -1  \n",
       "1                                                   -1  \n",
       "2                                                   -1  \n",
       "3                          CDW, PCM, SHI International  \n",
       "4                                                   -1  \n",
       "..                                                 ...  \n",
       "995  Harborside Health Center, Leafly, Privateer Ho...  \n",
       "996                                                 -1  \n",
       "997                                  Experian, Equifax  \n",
       "998                                                 -1  \n",
       "999                          Hungry Harvest, Good Eggs  \n",
       "\n",
       "[1000 rows x 14 columns]"
      ]
     },
     "execution_count": 2,
     "metadata": {},
     "output_type": "execute_result"
    }
   ],
   "source": [
    "df=pd.read_csv('glassdoor_jobs.csv')\n",
    "df"
   ]
  },
  {
   "cell_type": "code",
   "execution_count": 3,
   "metadata": {},
   "outputs": [
    {
     "data": {
      "text/plain": [
       "(1000, 14)"
      ]
     },
     "execution_count": 3,
     "metadata": {},
     "output_type": "execute_result"
    }
   ],
   "source": [
    "df.shape"
   ]
  },
  {
   "cell_type": "code",
   "execution_count": 4,
   "metadata": {},
   "outputs": [
    {
     "data": {
      "text/plain": [
       "Index(['Job Title', 'Salary Estimate', 'Job Description', 'Rating',\n",
       "       'Company Name', 'Location', 'Headquarters', 'Size', 'Founded',\n",
       "       'Type of ownership', 'Industry', 'Sector', 'Revenue', 'Competitors'],\n",
       "      dtype='object')"
      ]
     },
     "execution_count": 4,
     "metadata": {},
     "output_type": "execute_result"
    }
   ],
   "source": [
    "df.columns"
   ]
  },
  {
   "cell_type": "code",
   "execution_count": 5,
   "metadata": {},
   "outputs": [
    {
     "data": {
      "text/plain": [
       "<AxesSubplot:>"
      ]
     },
     "execution_count": 5,
     "metadata": {},
     "output_type": "execute_result"
    },
    {
     "data": {
      "image/png": "[encoded data removed]",
      "text/plain": [
       "<Figure size 432x288 with 1 Axes>"
      ]
     },
     "metadata": {
      "needs_background": "light"
     },
     "output_type": "display_data"
    }
   ],
   "source": [
    "df.Rating.hist()"
   ]
  },
  {
   "cell_type": "code",
   "execution_count": 6,
   "metadata": {},
   "outputs": [
    {
     "data": {
      "text/plain": [
       "$96K-$156K (Glassdoor est.)     170\n",
       "$112K-$179K (Glassdoor est.)     32\n",
       "$108K-$171K (Glassdoor est.)     32\n",
       "$94K-$154K (Glassdoor est.)      32\n",
       "$96K-$101K (Glassdoor est.)      32\n",
       "$60K-$100K (Glassdoor est.)      32\n",
       "$105K-$166K (Glassdoor est.)     32\n",
       "$57K-$98K (Glassdoor est.)       32\n",
       "$57K-$97K (Glassdoor est.)       32\n",
       "$141K-$225K (Glassdoor est.)     32\n",
       "$111K-$181K (Glassdoor est.)     32\n",
       "$119K-$186K (Glassdoor est.)     32\n",
       "$90K-$115K(Employer est.)        32\n",
       "$97K-$156K (Glassdoor est.)      32\n",
       "$99K-$110K (Glassdoor est.)      32\n",
       "$115K-$140K (Glassdoor est.)     32\n",
       "$109K-$178K (Glassdoor est.)     32\n",
       "$73K-$125K (Glassdoor est.)      32\n",
       "$58K-$69K (Glassdoor est.)       32\n",
       "$72K-$122K (Glassdoor est.)      32\n",
       "$60K-$101K (Glassdoor est.)      32\n",
       "$74K-$123K (Glassdoor est.)      32\n",
       "$55K-$91K (Glassdoor est.)       32\n",
       "$69K-$118K (Glassdoor est.)      32\n",
       "$97K-$154K (Glassdoor est.)      32\n",
       "$56K-$97K (Glassdoor est.)       32\n",
       "$64K-$106K (Glassdoor est.)      30\n",
       "Name: Salary Estimate, dtype: int64"
      ]
     },
     "execution_count": 6,
     "metadata": {},
     "output_type": "execute_result"
    }
   ],
   "source": [
    "df[\"Salary Estimate\"].value_counts()"
   ]
  },
  {
   "cell_type": "code",
   "execution_count": 7,
   "metadata": {},
   "outputs": [
    {
     "data": {
      "text/plain": [
       "San Francisco, CA      64\n",
       "New York, NY           57\n",
       "Boston, MA             30\n",
       "Reston, VA             25\n",
       "-1                     21\n",
       "                       ..\n",
       "Coral Springs, FL       1\n",
       "Cedar Falls, IA         1\n",
       "Alpharetta, GA          1\n",
       "King of Prussia, PA     1\n",
       "Dublin, CA              1\n",
       "Name: Headquarters, Length: 282, dtype: int64"
      ]
     },
     "execution_count": 7,
     "metadata": {},
     "output_type": "execute_result"
    }
   ],
   "source": [
    "df[\"Headquarters\"].value_counts()"
   ]
  },
  {
   "cell_type": "code",
   "execution_count": 8,
   "metadata": {},
   "outputs": [
    {
     "data": {
      "text/plain": [
       " 3.6    68\n",
       " 3.8    67\n",
       " 4.0    65\n",
       " 3.9    62\n",
       " 3.5    61\n",
       " 3.4    55\n",
       " 5.0    51\n",
       " 4.1    50\n",
       " 4.2    48\n",
       "-1.0    46\n",
       " 4.5    46\n",
       " 3.7    46\n",
       " 4.3    42\n",
       " 4.6    36\n",
       " 3.1    32\n",
       " 3.2    30\n",
       " 3.3    29\n",
       " 4.4    27\n",
       " 4.7    24\n",
       " 4.9    18\n",
       " 2.9    18\n",
       " 4.8    17\n",
       " 3.0    17\n",
       " 2.5     9\n",
       " 2.3     8\n",
       " 2.2     8\n",
       " 2.7     7\n",
       " 2.6     6\n",
       " 2.8     4\n",
       " 2.4     1\n",
       " 1.5     1\n",
       " 2.0     1\n",
       "Name: Rating, dtype: int64"
      ]
     },
     "execution_count": 8,
     "metadata": {},
     "output_type": "execute_result"
    }
   ],
   "source": [
    "df[\"Rating\"].value_counts()"
   ]
  },
  {
   "cell_type": "markdown",
   "metadata": {},
   "source": [
    "THings To Be Cleaned/Added:\n",
    "\n",
    "1. Headquarters with -1 values removed \n",
    "2. Removing \"Glassdoor est\" from Salary\n",
    "3. Converting Salary Estimate to Int (removing K)\n",
    "4. Converting Salary Estimate to Avg. Salary\n",
    "5. Removing ratings with -1 values\n",
    "6. Removing Rating from Company Name field\n",
    "7. Adding a State field\n",
    "8. Checking if job is in the same state as Headquarters\n",
    "9. Adding an Age field for the company\n",
    "10. Adding columns for different job skills listed (Python, R/RStudio, AWS, Spark, Hadoop, Docker,SQL, Linux, Flask, Django, Tensorflow, Keras, PyTorch, Statistics, Algorithms)\n",
    "11. Adding a column for what type of Data Science job\n",
    "12. Adding a column to indicate Seniority level\n",
    "13. Job Description Length\n",
    "14. Number of Competitors\n",
    "\n"
   ]
  },
  {
   "cell_type": "code",
   "execution_count": 9,
   "metadata": {},
   "outputs": [],
   "source": [
    "#>>>>>>>>>>>>>>>>>>>>>>>>>>>>>>>>>>>>>>>>>>>>>CLEANING<<<<<<<<<<<<<<<<<<<<<<<<<<<<<<<<<<<<<<<<<<<<<<<<<<<<<<<<<<<<<<<<<<<<<<<<<"
   ]
  },
  {
   "cell_type": "code",
   "execution_count": 10,
   "metadata": {},
   "outputs": [
    {
     "data": {
      "text/plain": [
       "San Francisco, CA       64\n",
       "New York, NY            57\n",
       "Boston, MA              30\n",
       "Reston, VA              25\n",
       "Cambridge, MA           17\n",
       "                        ..\n",
       "Cedar Falls, IA          1\n",
       "Monroe, WI               1\n",
       "Hook, United Kingdom     1\n",
       "Sterling, VA             1\n",
       "Chantilly, VA            1\n",
       "Name: Headquarters, Length: 281, dtype: int64"
      ]
     },
     "execution_count": 10,
     "metadata": {},
     "output_type": "execute_result"
    }
   ],
   "source": [
    "# Removing the NUll headquaters\n",
    "df=df[df['Headquarters']!='-1']\n",
    "df['Headquarters'].value_counts()"
   ]
  },
  {
   "cell_type": "code",
   "execution_count": 11,
   "metadata": {},
   "outputs": [
    {
     "data": {
      "text/plain": [
       "(979, 14)"
      ]
     },
     "execution_count": 11,
     "metadata": {},
     "output_type": "execute_result"
    }
   ],
   "source": [
    "df.shape# removed 21 rows"
   ]
  },
  {
   "cell_type": "code",
   "execution_count": 12,
   "metadata": {},
   "outputs": [
    {
     "data": {
      "text/html": [
       "<div>\n",
       "<style scoped>\n",
       "    .dataframe tbody tr th:only-of-type {\n",
       "        vertical-align: middle;\n",
       "    }\n",
       "\n",
       "    .dataframe tbody tr th {\n",
       "        vertical-align: top;\n",
       "    }\n",
       "\n",
       "    .dataframe thead th {\n",
       "        text-align: right;\n",
       "    }\n",
       "</style>\n",
       "<table border=\"1\" class=\"dataframe\">\n",
       "  <thead>\n",
       "    <tr style=\"text-align: right;\">\n",
       "      <th></th>\n",
       "      <th>Job Title</th>\n",
       "      <th>Salary Estimate</th>\n",
       "      <th>Job Description</th>\n",
       "      <th>Rating</th>\n",
       "      <th>Company Name</th>\n",
       "      <th>Location</th>\n",
       "      <th>Headquarters</th>\n",
       "      <th>Size</th>\n",
       "      <th>Founded</th>\n",
       "      <th>Type of ownership</th>\n",
       "      <th>Industry</th>\n",
       "      <th>Sector</th>\n",
       "      <th>Revenue</th>\n",
       "      <th>Competitors</th>\n",
       "    </tr>\n",
       "  </thead>\n",
       "  <tbody>\n",
       "    <tr>\n",
       "      <th>0</th>\n",
       "      <td>Data Scientist</td>\n",
       "      <td>$64K-$106K (Glassdoor est.)</td>\n",
       "      <td>Secure our Nation, Ignite your Future\\r\\n\\r\\nJ...</td>\n",
       "      <td>4.2</td>\n",
       "      <td>ManTech\\r\\n4.2</td>\n",
       "      <td>Chantilly, VA</td>\n",
       "      <td>Herndon, VA</td>\n",
       "      <td>5001 to 10000 employees</td>\n",
       "      <td>1968</td>\n",
       "      <td>Company - Public</td>\n",
       "      <td>Research &amp; Development</td>\n",
       "      <td>Business Services</td>\n",
       "      <td>$1 to $2 billion (USD)</td>\n",
       "      <td>-1</td>\n",
       "    </tr>\n",
       "    <tr>\n",
       "      <th>1</th>\n",
       "      <td>Associate Business Intelligence Data Scientist</td>\n",
       "      <td>$64K-$106K (Glassdoor est.)</td>\n",
       "      <td>Blending customer advisory, customer support, ...</td>\n",
       "      <td>3.2</td>\n",
       "      <td>Carousel Industries\\r\\n3.2</td>\n",
       "      <td>Exeter, RI</td>\n",
       "      <td>Exeter, RI</td>\n",
       "      <td>1001 to 5000 employees</td>\n",
       "      <td>1992</td>\n",
       "      <td>Company - Private</td>\n",
       "      <td>IT Services</td>\n",
       "      <td>Information Technology</td>\n",
       "      <td>$500 million to $1 billion (USD)</td>\n",
       "      <td>-1</td>\n",
       "    </tr>\n",
       "    <tr>\n",
       "      <th>2</th>\n",
       "      <td>Scientist, Population Genomics</td>\n",
       "      <td>$64K-$106K (Glassdoor est.)</td>\n",
       "      <td>WuXi NextCODE is seeking a motivated Scientist...</td>\n",
       "      <td>2.9</td>\n",
       "      <td>Carousel Industries\\r\\n3.2</td>\n",
       "      <td>Cambridge, MA</td>\n",
       "      <td>Cambridge, MA</td>\n",
       "      <td>501 to 1000 employees</td>\n",
       "      <td>2015</td>\n",
       "      <td>Company - Private</td>\n",
       "      <td>Biotech &amp; Pharmaceuticals</td>\n",
       "      <td>Biotech &amp; Pharmaceuticals</td>\n",
       "      <td>Unknown / Non-Applicable</td>\n",
       "      <td>-1</td>\n",
       "    </tr>\n",
       "    <tr>\n",
       "      <th>3</th>\n",
       "      <td>Data Analyst II</td>\n",
       "      <td>$64K-$106K (Glassdoor est.)</td>\n",
       "      <td>The Data Analyst II is responsible for data en...</td>\n",
       "      <td>4.2</td>\n",
       "      <td>Insight Enterprises, Inc.\\r\\n4.2</td>\n",
       "      <td>Plano, TX</td>\n",
       "      <td>Tempe, AZ</td>\n",
       "      <td>5001 to 10000 employees</td>\n",
       "      <td>1988</td>\n",
       "      <td>Company - Public</td>\n",
       "      <td>Enterprise Software &amp; Network Solutions</td>\n",
       "      <td>Information Technology</td>\n",
       "      <td>$5 to $10 billion (USD)</td>\n",
       "      <td>CDW, PCM, SHI International</td>\n",
       "    </tr>\n",
       "    <tr>\n",
       "      <th>4</th>\n",
       "      <td>Sensory Scientist</td>\n",
       "      <td>$64K-$106K (Glassdoor est.)</td>\n",
       "      <td>A leading food production company in St. Louis...</td>\n",
       "      <td>3.8</td>\n",
       "      <td>NIC Infotek\\r\\n3.8</td>\n",
       "      <td>Saint Louis, MO</td>\n",
       "      <td>Tampa, FL</td>\n",
       "      <td>51 to 200 employees</td>\n",
       "      <td>2004</td>\n",
       "      <td>Company - Public</td>\n",
       "      <td>Staffing &amp; Outsourcing</td>\n",
       "      <td>Business Services</td>\n",
       "      <td>Unknown / Non-Applicable</td>\n",
       "      <td>-1</td>\n",
       "    </tr>\n",
       "    <tr>\n",
       "      <th>...</th>\n",
       "      <td>...</td>\n",
       "      <td>...</td>\n",
       "      <td>...</td>\n",
       "      <td>...</td>\n",
       "      <td>...</td>\n",
       "      <td>...</td>\n",
       "      <td>...</td>\n",
       "      <td>...</td>\n",
       "      <td>...</td>\n",
       "      <td>...</td>\n",
       "      <td>...</td>\n",
       "      <td>...</td>\n",
       "      <td>...</td>\n",
       "      <td>...</td>\n",
       "    </tr>\n",
       "    <tr>\n",
       "      <th>995</th>\n",
       "      <td>Data Scientist</td>\n",
       "      <td>$96K-$156K (Glassdoor est.)</td>\n",
       "      <td>As a Data Scientist at Eaze, you'll report to ...</td>\n",
       "      <td>3.6</td>\n",
       "      <td>Eaze\\r\\n3.6</td>\n",
       "      <td>San Francisco, CA</td>\n",
       "      <td>San Francisco, CA</td>\n",
       "      <td>51 to 200 employees</td>\n",
       "      <td>2014</td>\n",
       "      <td>Company - Private</td>\n",
       "      <td>Internet</td>\n",
       "      <td>Information Technology</td>\n",
       "      <td>$25 to $50 million (USD)</td>\n",
       "      <td>Harborside Health Center, Leafly, Privateer Ho...</td>\n",
       "    </tr>\n",
       "    <tr>\n",
       "      <th>996</th>\n",
       "      <td>Data Scientist</td>\n",
       "      <td>$96K-$156K (Glassdoor est.)</td>\n",
       "      <td>We are looking for data scientists who love ex...</td>\n",
       "      <td>2.9</td>\n",
       "      <td>Goodwater Capital\\r\\n2.9</td>\n",
       "      <td>Burlingame, CA</td>\n",
       "      <td>San Mateo, CA</td>\n",
       "      <td>1 to 50 employees</td>\n",
       "      <td>2014</td>\n",
       "      <td>Private Practice / Firm</td>\n",
       "      <td>Venture Capital &amp; Private Equity</td>\n",
       "      <td>Finance</td>\n",
       "      <td>Unknown / Non-Applicable</td>\n",
       "      <td>-1</td>\n",
       "    </tr>\n",
       "    <tr>\n",
       "      <th>997</th>\n",
       "      <td>Data Scientist</td>\n",
       "      <td>$96K-$156K (Glassdoor est.)</td>\n",
       "      <td>Why We Work at Dun &amp; Bradstreet\\r\\n\\r\\n\\r\\nWe ...</td>\n",
       "      <td>3.1</td>\n",
       "      <td>Dun &amp; Bradstreet\\r\\n3.1</td>\n",
       "      <td>Austin, TX</td>\n",
       "      <td>Short Hills, NJ</td>\n",
       "      <td>1001 to 5000 employees</td>\n",
       "      <td>1841</td>\n",
       "      <td>Company - Private</td>\n",
       "      <td>IT Services</td>\n",
       "      <td>Information Technology</td>\n",
       "      <td>$1 to $2 billion (USD)</td>\n",
       "      <td>Experian, Equifax</td>\n",
       "    </tr>\n",
       "    <tr>\n",
       "      <th>998</th>\n",
       "      <td>Data Scientist</td>\n",
       "      <td>$96K-$156K (Glassdoor est.)</td>\n",
       "      <td>About Freestar:\\r\\n\\r\\nFreestar engineers cutt...</td>\n",
       "      <td>4.9</td>\n",
       "      <td>Freestar\\r\\n4.9</td>\n",
       "      <td>Phoenix, AZ</td>\n",
       "      <td>Phoenix, AZ</td>\n",
       "      <td>1 to 50 employees</td>\n",
       "      <td>2016</td>\n",
       "      <td>Company - Private</td>\n",
       "      <td>Advertising &amp; Marketing</td>\n",
       "      <td>Business Services</td>\n",
       "      <td>$25 to $50 million (USD)</td>\n",
       "      <td>-1</td>\n",
       "    </tr>\n",
       "    <tr>\n",
       "      <th>999</th>\n",
       "      <td>Data Scientist</td>\n",
       "      <td>$96K-$156K (Glassdoor est.)</td>\n",
       "      <td>About Imperfect\\r\\n\\r\\nImperfect Foods was fou...</td>\n",
       "      <td>3.8</td>\n",
       "      <td>Imperfect Foods\\r\\n3.8</td>\n",
       "      <td>Remote</td>\n",
       "      <td>San Francisco, CA</td>\n",
       "      <td>1001 to 5000 employees</td>\n",
       "      <td>2015</td>\n",
       "      <td>Company - Private</td>\n",
       "      <td>Food &amp; Beverage Stores</td>\n",
       "      <td>Retail</td>\n",
       "      <td>Unknown / Non-Applicable</td>\n",
       "      <td>Hungry Harvest, Good Eggs</td>\n",
       "    </tr>\n",
       "  </tbody>\n",
       "</table>\n",
       "<p>979 rows × 14 columns</p>\n",
       "</div>"
      ],
      "text/plain": [
       "                                          Job Title  \\\n",
       "0                                    Data Scientist   \n",
       "1    Associate Business Intelligence Data Scientist   \n",
       "2                    Scientist, Population Genomics   \n",
       "3                                   Data Analyst II   \n",
       "4                                 Sensory Scientist   \n",
       "..                                              ...   \n",
       "995                                  Data Scientist   \n",
       "996                                  Data Scientist   \n",
       "997                                  Data Scientist   \n",
       "998                                  Data Scientist   \n",
       "999                                  Data Scientist   \n",
       "\n",
       "                 Salary Estimate  \\\n",
       "0    $64K-$106K (Glassdoor est.)   \n",
       "1    $64K-$106K (Glassdoor est.)   \n",
       "2    $64K-$106K (Glassdoor est.)   \n",
       "3    $64K-$106K (Glassdoor est.)   \n",
       "4    $64K-$106K (Glassdoor est.)   \n",
       "..                           ...   \n",
       "995  $96K-$156K (Glassdoor est.)   \n",
       "996  $96K-$156K (Glassdoor est.)   \n",
       "997  $96K-$156K (Glassdoor est.)   \n",
       "998  $96K-$156K (Glassdoor est.)   \n",
       "999  $96K-$156K (Glassdoor est.)   \n",
       "\n",
       "                                       Job Description  Rating  \\\n",
       "0    Secure our Nation, Ignite your Future\\r\\n\\r\\nJ...     4.2   \n",
       "1    Blending customer advisory, customer support, ...     3.2   \n",
       "2    WuXi NextCODE is seeking a motivated Scientist...     2.9   \n",
       "3    The Data Analyst II is responsible for data en...     4.2   \n",
       "4    A leading food production company in St. Louis...     3.8   \n",
       "..                                                 ...     ...   \n",
       "995  As a Data Scientist at Eaze, you'll report to ...     3.6   \n",
       "996  We are looking for data scientists who love ex...     2.9   \n",
       "997  Why We Work at Dun & Bradstreet\\r\\n\\r\\n\\r\\nWe ...     3.1   \n",
       "998  About Freestar:\\r\\n\\r\\nFreestar engineers cutt...     4.9   \n",
       "999  About Imperfect\\r\\n\\r\\nImperfect Foods was fou...     3.8   \n",
       "\n",
       "                         Company Name           Location       Headquarters  \\\n",
       "0                      ManTech\\r\\n4.2      Chantilly, VA        Herndon, VA   \n",
       "1          Carousel Industries\\r\\n3.2         Exeter, RI         Exeter, RI   \n",
       "2          Carousel Industries\\r\\n3.2      Cambridge, MA      Cambridge, MA   \n",
       "3    Insight Enterprises, Inc.\\r\\n4.2          Plano, TX          Tempe, AZ   \n",
       "4                  NIC Infotek\\r\\n3.8    Saint Louis, MO          Tampa, FL   \n",
       "..                                ...                ...                ...   \n",
       "995                       Eaze\\r\\n3.6  San Francisco, CA  San Francisco, CA   \n",
       "996          Goodwater Capital\\r\\n2.9     Burlingame, CA      San Mateo, CA   \n",
       "997           Dun & Bradstreet\\r\\n3.1         Austin, TX    Short Hills, NJ   \n",
       "998                   Freestar\\r\\n4.9        Phoenix, AZ        Phoenix, AZ   \n",
       "999            Imperfect Foods\\r\\n3.8             Remote  San Francisco, CA   \n",
       "\n",
       "                        Size  Founded        Type of ownership  \\\n",
       "0    5001 to 10000 employees     1968         Company - Public   \n",
       "1     1001 to 5000 employees     1992        Company - Private   \n",
       "2      501 to 1000 employees     2015        Company - Private   \n",
       "3    5001 to 10000 employees     1988         Company - Public   \n",
       "4        51 to 200 employees     2004         Company - Public   \n",
       "..                       ...      ...                      ...   \n",
       "995      51 to 200 employees     2014        Company - Private   \n",
       "996        1 to 50 employees     2014  Private Practice / Firm   \n",
       "997   1001 to 5000 employees     1841        Company - Private   \n",
       "998        1 to 50 employees     2016        Company - Private   \n",
       "999   1001 to 5000 employees     2015        Company - Private   \n",
       "\n",
       "                                    Industry                     Sector  \\\n",
       "0                     Research & Development          Business Services   \n",
       "1                                IT Services     Information Technology   \n",
       "2                  Biotech & Pharmaceuticals  Biotech & Pharmaceuticals   \n",
       "3    Enterprise Software & Network Solutions     Information Technology   \n",
       "4                     Staffing & Outsourcing          Business Services   \n",
       "..                                       ...                        ...   \n",
       "995                                 Internet     Information Technology   \n",
       "996         Venture Capital & Private Equity                    Finance   \n",
       "997                              IT Services     Information Technology   \n",
       "998                  Advertising & Marketing          Business Services   \n",
       "999                   Food & Beverage Stores                     Retail   \n",
       "\n",
       "                              Revenue  \\\n",
       "0              $1 to $2 billion (USD)   \n",
       "1    $500 million to $1 billion (USD)   \n",
       "2            Unknown / Non-Applicable   \n",
       "3             $5 to $10 billion (USD)   \n",
       "4            Unknown / Non-Applicable   \n",
       "..                                ...   \n",
       "995          $25 to $50 million (USD)   \n",
       "996          Unknown / Non-Applicable   \n",
       "997            $1 to $2 billion (USD)   \n",
       "998          $25 to $50 million (USD)   \n",
       "999          Unknown / Non-Applicable   \n",
       "\n",
       "                                           Competitors  \n",
       "0                                                   -1  \n",
       "1                                                   -1  \n",
       "2                                                   -1  \n",
       "3                          CDW, PCM, SHI International  \n",
       "4                                                   -1  \n",
       "..                                                 ...  \n",
       "995  Harborside Health Center, Leafly, Privateer Ho...  \n",
       "996                                                 -1  \n",
       "997                                  Experian, Equifax  \n",
       "998                                                 -1  \n",
       "999                          Hungry Harvest, Good Eggs  \n",
       "\n",
       "[979 rows x 14 columns]"
      ]
     },
     "execution_count": 12,
     "metadata": {},
     "output_type": "execute_result"
    }
   ],
   "source": [
    "df"
   ]
  },
  {
   "cell_type": "markdown",
   "metadata": {},
   "source": [
    "Cleaning salary data"
   ]
  },
  {
   "cell_type": "code",
   "execution_count": 13,
   "metadata": {},
   "outputs": [
    {
     "data": {
      "text/plain": [
       "0      $64K-$106K \n",
       "1      $64K-$106K \n",
       "2      $64K-$106K \n",
       "3      $64K-$106K \n",
       "4      $64K-$106K \n",
       "          ...     \n",
       "995    $96K-$156K \n",
       "996    $96K-$156K \n",
       "997    $96K-$156K \n",
       "998    $96K-$156K \n",
       "999    $96K-$156K \n",
       "Name: Salary Estimate, Length: 979, dtype: object"
      ]
     },
     "execution_count": 13,
     "metadata": {},
     "output_type": "execute_result"
    }
   ],
   "source": [
    "salary=df['Salary Estimate'].apply(lambda x:x.split('(')[0])\n",
    "salary"
   ]
  },
  {
   "cell_type": "code",
   "execution_count": 14,
   "metadata": {},
   "outputs": [
    {
     "data": {
      "text/plain": [
       "0      64-106 \n",
       "1      64-106 \n",
       "2      64-106 \n",
       "3      64-106 \n",
       "4      64-106 \n",
       "        ...   \n",
       "995    96-156 \n",
       "996    96-156 \n",
       "997    96-156 \n",
       "998    96-156 \n",
       "999    96-156 \n",
       "Name: Salary Estimate, Length: 979, dtype: object"
      ]
     },
     "execution_count": 14,
     "metadata": {},
     "output_type": "execute_result"
    }
   ],
   "source": [
    "# removing the K value from the salary\n",
    "remove_k=salary.apply(lambda x:x.replace('K','').replace('$',''))\n",
    "remove_k\n",
    "                                           "
   ]
  },
  {
   "cell_type": "code",
   "execution_count": 15,
   "metadata": {},
   "outputs": [
    {
     "data": {
      "text/plain": [
       "0      106\n",
       "1      106\n",
       "2      106\n",
       "3      106\n",
       "4      106\n",
       "      ... \n",
       "995    156\n",
       "996    156\n",
       "997    156\n",
       "998    156\n",
       "999    156\n",
       "Name: max_salary, Length: 979, dtype: int64"
      ]
     },
     "execution_count": 15,
     "metadata": {},
     "output_type": "execute_result"
    }
   ],
   "source": [
    "df['min_salary']=remove_k.apply(lambda x:int(x.split('-')[0]))\n",
    "df['max_salary']=remove_k.apply(lambda x:int(x.split('-')[1]))\n",
    "df['max_salary']"
   ]
  },
  {
   "cell_type": "code",
   "execution_count": 16,
   "metadata": {},
   "outputs": [
    {
     "data": {
      "text/plain": [
       "0       85.0\n",
       "1       85.0\n",
       "2       85.0\n",
       "3       85.0\n",
       "4       85.0\n",
       "       ...  \n",
       "995    126.0\n",
       "996    126.0\n",
       "997    126.0\n",
       "998    126.0\n",
       "999    126.0\n",
       "Name: avg_salary, Length: 979, dtype: float64"
      ]
     },
     "execution_count": 16,
     "metadata": {},
     "output_type": "execute_result"
    }
   ],
   "source": [
    "# calculating the average salary\n",
    "df['avg_salary']=(df.min_salary+df.max_salary)/2\n",
    "df['avg_salary']"
   ]
  },
  {
   "cell_type": "markdown",
   "metadata": {},
   "source": [
    "Removing the rows with Null ratings "
   ]
  },
  {
   "cell_type": "code",
   "execution_count": 17,
   "metadata": {},
   "outputs": [],
   "source": [
    "df=df[df['Rating']!=-1.0]\n"
   ]
  },
  {
   "cell_type": "code",
   "execution_count": null,
   "metadata": {},
   "outputs": [],
   "source": []
  },
  {
   "cell_type": "code",
   "execution_count": 18,
   "metadata": {},
   "outputs": [
    {
     "data": {
      "text/plain": [
       "(952, 17)"
      ]
     },
     "execution_count": 18,
     "metadata": {},
     "output_type": "execute_result"
    }
   ],
   "source": [
    "df.shape  # so again 27 rows removed and 3 coloumns added"
   ]
  },
  {
   "cell_type": "markdown",
   "metadata": {},
   "source": [
    "Removing  rating fromt  the company fields"
   ]
  },
  {
   "cell_type": "code",
   "execution_count": 19,
   "metadata": {},
   "outputs": [
    {
     "data": {
      "text/plain": [
       "0                        ManTech\n",
       "1            Carousel Industries\n",
       "2            Carousel Industries\n",
       "3      Insight Enterprises, Inc.\n",
       "4                    NIC Infotek\n",
       "                 ...            \n",
       "995                         Eaze\n",
       "996            Goodwater Capital\n",
       "997             Dun & Bradstreet\n",
       "998                     Freestar\n",
       "999              Imperfect Foods\n",
       "Name: Company Name, Length: 952, dtype: object"
      ]
     },
     "execution_count": 19,
     "metadata": {},
     "output_type": "execute_result"
    }
   ],
   "source": [
    "df[\"Company Name\"]=df['Company Name'].apply(lambda x:x.split('\\n')[0])\n",
    "df[\"Company Name\"]=df['Company Name'].apply(lambda x:x.split('\\r')[0])\n",
    "df[\"Company Name\"]"
   ]
  },
  {
   "cell_type": "markdown",
   "metadata": {},
   "source": [
    "Adding and Cleaning State field:"
   ]
  },
  {
   "cell_type": "code",
   "execution_count": 20,
   "metadata": {},
   "outputs": [],
   "source": [
    "df=df[df['Location']!=\"United States\"] #removing 12 rows with general US location"
   ]
  },
  {
   "cell_type": "code",
   "execution_count": 21,
   "metadata": {},
   "outputs": [],
   "source": [
    "df['Location']=df['Location'].apply(lambda x: x if x != 'Oregon' else 'Portland, OR')"
   ]
  },
  {
   "cell_type": "code",
   "execution_count": 22,
   "metadata": {},
   "outputs": [],
   "source": [
    "df['Location']=df['Location'].apply(lambda x: x if x != 'New Jersey' else 'Princeton, NJ')"
   ]
  },
  {
   "cell_type": "code",
   "execution_count": 23,
   "metadata": {},
   "outputs": [],
   "source": [
    "df['Location']=df['Location'].apply(lambda x: x if x != 'Remote' else 'Remote, Remote')"
   ]
  },
  {
   "cell_type": "code",
   "execution_count": 24,
   "metadata": {},
   "outputs": [],
   "source": [
    "df['State']=df[\"Location\"].apply(lambda x:x.split(',')[-1])  # extracting the state"
   ]
  },
  {
   "cell_type": "code",
   "execution_count": 25,
   "metadata": {},
   "outputs": [],
   "source": [
    "df=df[df['State']!=\"United States\"]"
   ]
  },
  {
   "cell_type": "code",
   "execution_count": 26,
   "metadata": {},
   "outputs": [
    {
     "data": {
      "text/plain": [
       "(940, 18)"
      ]
     },
     "execution_count": 26,
     "metadata": {},
     "output_type": "execute_result"
    }
   ],
   "source": [
    "df.shape"
   ]
  },
  {
   "cell_type": "code",
   "execution_count": 27,
   "metadata": {},
   "outputs": [
    {
     "data": {
      "text/html": [
       "<div>\n",
       "<style scoped>\n",
       "    .dataframe tbody tr th:only-of-type {\n",
       "        vertical-align: middle;\n",
       "    }\n",
       "\n",
       "    .dataframe tbody tr th {\n",
       "        vertical-align: top;\n",
       "    }\n",
       "\n",
       "    .dataframe thead th {\n",
       "        text-align: right;\n",
       "    }\n",
       "</style>\n",
       "<table border=\"1\" class=\"dataframe\">\n",
       "  <thead>\n",
       "    <tr style=\"text-align: right;\">\n",
       "      <th></th>\n",
       "      <th>Job Title</th>\n",
       "      <th>Salary Estimate</th>\n",
       "      <th>Job Description</th>\n",
       "      <th>Rating</th>\n",
       "      <th>Company Name</th>\n",
       "      <th>Location</th>\n",
       "      <th>Headquarters</th>\n",
       "      <th>Size</th>\n",
       "      <th>Founded</th>\n",
       "      <th>Type of ownership</th>\n",
       "      <th>Industry</th>\n",
       "      <th>Sector</th>\n",
       "      <th>Revenue</th>\n",
       "      <th>Competitors</th>\n",
       "      <th>min_salary</th>\n",
       "      <th>max_salary</th>\n",
       "      <th>avg_salary</th>\n",
       "      <th>State</th>\n",
       "    </tr>\n",
       "  </thead>\n",
       "  <tbody>\n",
       "    <tr>\n",
       "      <th>0</th>\n",
       "      <td>Data Scientist</td>\n",
       "      <td>$64K-$106K (Glassdoor est.)</td>\n",
       "      <td>Secure our Nation, Ignite your Future\\r\\n\\r\\nJ...</td>\n",
       "      <td>4.2</td>\n",
       "      <td>ManTech</td>\n",
       "      <td>Chantilly, VA</td>\n",
       "      <td>Herndon, VA</td>\n",
       "      <td>5001 to 10000 employees</td>\n",
       "      <td>1968</td>\n",
       "      <td>Company - Public</td>\n",
       "      <td>Research &amp; Development</td>\n",
       "      <td>Business Services</td>\n",
       "      <td>$1 to $2 billion (USD)</td>\n",
       "      <td>-1</td>\n",
       "      <td>64</td>\n",
       "      <td>106</td>\n",
       "      <td>85.0</td>\n",
       "      <td>VA</td>\n",
       "    </tr>\n",
       "    <tr>\n",
       "      <th>1</th>\n",
       "      <td>Associate Business Intelligence Data Scientist</td>\n",
       "      <td>$64K-$106K (Glassdoor est.)</td>\n",
       "      <td>Blending customer advisory, customer support, ...</td>\n",
       "      <td>3.2</td>\n",
       "      <td>Carousel Industries</td>\n",
       "      <td>Exeter, RI</td>\n",
       "      <td>Exeter, RI</td>\n",
       "      <td>1001 to 5000 employees</td>\n",
       "      <td>1992</td>\n",
       "      <td>Company - Private</td>\n",
       "      <td>IT Services</td>\n",
       "      <td>Information Technology</td>\n",
       "      <td>$500 million to $1 billion (USD)</td>\n",
       "      <td>-1</td>\n",
       "      <td>64</td>\n",
       "      <td>106</td>\n",
       "      <td>85.0</td>\n",
       "      <td>RI</td>\n",
       "    </tr>\n",
       "    <tr>\n",
       "      <th>2</th>\n",
       "      <td>Scientist, Population Genomics</td>\n",
       "      <td>$64K-$106K (Glassdoor est.)</td>\n",
       "      <td>WuXi NextCODE is seeking a motivated Scientist...</td>\n",
       "      <td>2.9</td>\n",
       "      <td>Carousel Industries</td>\n",
       "      <td>Cambridge, MA</td>\n",
       "      <td>Cambridge, MA</td>\n",
       "      <td>501 to 1000 employees</td>\n",
       "      <td>2015</td>\n",
       "      <td>Company - Private</td>\n",
       "      <td>Biotech &amp; Pharmaceuticals</td>\n",
       "      <td>Biotech &amp; Pharmaceuticals</td>\n",
       "      <td>Unknown / Non-Applicable</td>\n",
       "      <td>-1</td>\n",
       "      <td>64</td>\n",
       "      <td>106</td>\n",
       "      <td>85.0</td>\n",
       "      <td>MA</td>\n",
       "    </tr>\n",
       "    <tr>\n",
       "      <th>3</th>\n",
       "      <td>Data Analyst II</td>\n",
       "      <td>$64K-$106K (Glassdoor est.)</td>\n",
       "      <td>The Data Analyst II is responsible for data en...</td>\n",
       "      <td>4.2</td>\n",
       "      <td>Insight Enterprises, Inc.</td>\n",
       "      <td>Plano, TX</td>\n",
       "      <td>Tempe, AZ</td>\n",
       "      <td>5001 to 10000 employees</td>\n",
       "      <td>1988</td>\n",
       "      <td>Company - Public</td>\n",
       "      <td>Enterprise Software &amp; Network Solutions</td>\n",
       "      <td>Information Technology</td>\n",
       "      <td>$5 to $10 billion (USD)</td>\n",
       "      <td>CDW, PCM, SHI International</td>\n",
       "      <td>64</td>\n",
       "      <td>106</td>\n",
       "      <td>85.0</td>\n",
       "      <td>TX</td>\n",
       "    </tr>\n",
       "  </tbody>\n",
       "</table>\n",
       "</div>"
      ],
      "text/plain": [
       "                                        Job Title  \\\n",
       "0                                  Data Scientist   \n",
       "1  Associate Business Intelligence Data Scientist   \n",
       "2                  Scientist, Population Genomics   \n",
       "3                                 Data Analyst II   \n",
       "\n",
       "               Salary Estimate  \\\n",
       "0  $64K-$106K (Glassdoor est.)   \n",
       "1  $64K-$106K (Glassdoor est.)   \n",
       "2  $64K-$106K (Glassdoor est.)   \n",
       "3  $64K-$106K (Glassdoor est.)   \n",
       "\n",
       "                                     Job Description  Rating  \\\n",
       "0  Secure our Nation, Ignite your Future\\r\\n\\r\\nJ...     4.2   \n",
       "1  Blending customer advisory, customer support, ...     3.2   \n",
       "2  WuXi NextCODE is seeking a motivated Scientist...     2.9   \n",
       "3  The Data Analyst II is responsible for data en...     4.2   \n",
       "\n",
       "                Company Name       Location   Headquarters  \\\n",
       "0                    ManTech  Chantilly, VA    Herndon, VA   \n",
       "1        Carousel Industries     Exeter, RI     Exeter, RI   \n",
       "2        Carousel Industries  Cambridge, MA  Cambridge, MA   \n",
       "3  Insight Enterprises, Inc.      Plano, TX      Tempe, AZ   \n",
       "\n",
       "                      Size  Founded  Type of ownership  \\\n",
       "0  5001 to 10000 employees     1968   Company - Public   \n",
       "1   1001 to 5000 employees     1992  Company - Private   \n",
       "2    501 to 1000 employees     2015  Company - Private   \n",
       "3  5001 to 10000 employees     1988   Company - Public   \n",
       "\n",
       "                                  Industry                     Sector  \\\n",
       "0                   Research & Development          Business Services   \n",
       "1                              IT Services     Information Technology   \n",
       "2                Biotech & Pharmaceuticals  Biotech & Pharmaceuticals   \n",
       "3  Enterprise Software & Network Solutions     Information Technology   \n",
       "\n",
       "                            Revenue                  Competitors  min_salary  \\\n",
       "0            $1 to $2 billion (USD)                           -1          64   \n",
       "1  $500 million to $1 billion (USD)                           -1          64   \n",
       "2          Unknown / Non-Applicable                           -1          64   \n",
       "3           $5 to $10 billion (USD)  CDW, PCM, SHI International          64   \n",
       "\n",
       "   max_salary  avg_salary State  \n",
       "0         106        85.0    VA  \n",
       "1         106        85.0    RI  \n",
       "2         106        85.0    MA  \n",
       "3         106        85.0    TX  "
      ]
     },
     "execution_count": 27,
     "metadata": {},
     "output_type": "execute_result"
    }
   ],
   "source": [
    "df.head(4)"
   ]
  },
  {
   "cell_type": "code",
   "execution_count": 28,
   "metadata": {},
   "outputs": [
    {
     "data": {
      "text/plain": [
       " CA        220\n",
       " MA         91\n",
       " VA         90\n",
       " NY         75\n",
       " TX         64\n",
       " IL         42\n",
       " WA         28\n",
       " DC         27\n",
       " MD         23\n",
       " PA         22\n",
       " FL         19\n",
       " WI         18\n",
       " UT         17\n",
       " NJ         17\n",
       " AZ         17\n",
       " MO         16\n",
       " CO         16\n",
       " OH         14\n",
       " Remote     13\n",
       " NC         13\n",
       " TN         12\n",
       " OR         10\n",
       " MI         10\n",
       " CT          9\n",
       " HI          9\n",
       " GA          6\n",
       " IN          5\n",
       " MN          4\n",
       " RI          4\n",
       " AL          3\n",
       " OK          3\n",
       " NE          3\n",
       "VA           3\n",
       " WV          2\n",
       " MS          2\n",
       " KS          2\n",
       " NM          2\n",
       " SC          2\n",
       " NH          2\n",
       " LA          1\n",
       "CA           1\n",
       " KY          1\n",
       " ID          1\n",
       " IA          1\n",
       "Name: State, dtype: int64"
      ]
     },
     "execution_count": 28,
     "metadata": {},
     "output_type": "execute_result"
    }
   ],
   "source": [
    "# removing the space abberervations\n",
    "\n",
    "df['State']=df.State.apply(lambda x:x.replace('',''))\n",
    "df['State']=df['State'].apply(lambda x:x if x!='California' else 'CA')\n",
    "df['State']=df['State'].apply(lambda x:x  if x!='Virginia' else 'VA')\n",
    "df['State']=df['State'].apply(lambda x:x  if x!='LA' else 'CA')\n",
    "df['State'].value_counts()"
   ]
  },
  {
   "cell_type": "code",
   "execution_count": 29,
   "metadata": {},
   "outputs": [
    {
     "data": {
      "text/plain": [
       "array([' VA', ' RI', ' MA', ' TX', ' MO', ' CA', ' OH', ' IN', ' FL',\n",
       "       ' IL', ' WI', ' NY', ' MD', ' UT', ' MN', ' NC', ' WA', ' CO',\n",
       "       ' OK', ' MI', ' SC', ' PA', ' DC', ' NJ', ' KS', ' WV', ' NM',\n",
       "       ' Remote', ' AZ', ' LA', ' IA', ' MS', ' OR', 'VA', ' GA', ' TN',\n",
       "       ' CT', ' HI', ' NH', ' NE', ' ID', ' AL', ' KY', 'CA'],\n",
       "      dtype=object)"
      ]
     },
     "execution_count": 29,
     "metadata": {},
     "output_type": "execute_result"
    }
   ],
   "source": [
    "df['State'].unique()"
   ]
  },
  {
   "cell_type": "code",
   "execution_count": 30,
   "metadata": {},
   "outputs": [
    {
     "data": {
      "text/html": [
       "<div>\n",
       "<style scoped>\n",
       "    .dataframe tbody tr th:only-of-type {\n",
       "        vertical-align: middle;\n",
       "    }\n",
       "\n",
       "    .dataframe tbody tr th {\n",
       "        vertical-align: top;\n",
       "    }\n",
       "\n",
       "    .dataframe thead th {\n",
       "        text-align: right;\n",
       "    }\n",
       "</style>\n",
       "<table border=\"1\" class=\"dataframe\">\n",
       "  <thead>\n",
       "    <tr style=\"text-align: right;\">\n",
       "      <th></th>\n",
       "      <th>Job Title</th>\n",
       "      <th>Salary Estimate</th>\n",
       "      <th>Job Description</th>\n",
       "      <th>Rating</th>\n",
       "      <th>Company Name</th>\n",
       "      <th>Location</th>\n",
       "      <th>Headquarters</th>\n",
       "      <th>Size</th>\n",
       "      <th>Founded</th>\n",
       "      <th>Type of ownership</th>\n",
       "      <th>Industry</th>\n",
       "      <th>Sector</th>\n",
       "      <th>Revenue</th>\n",
       "      <th>Competitors</th>\n",
       "      <th>min_salary</th>\n",
       "      <th>max_salary</th>\n",
       "      <th>avg_salary</th>\n",
       "      <th>State</th>\n",
       "    </tr>\n",
       "  </thead>\n",
       "  <tbody>\n",
       "    <tr>\n",
       "      <th>0</th>\n",
       "      <td>Data Scientist</td>\n",
       "      <td>$64K-$106K (Glassdoor est.)</td>\n",
       "      <td>Secure our Nation, Ignite your Future\\r\\n\\r\\nJ...</td>\n",
       "      <td>4.2</td>\n",
       "      <td>ManTech</td>\n",
       "      <td>Chantilly, VA</td>\n",
       "      <td>Herndon, VA</td>\n",
       "      <td>5001 to 10000 employees</td>\n",
       "      <td>1968</td>\n",
       "      <td>Company - Public</td>\n",
       "      <td>Research &amp; Development</td>\n",
       "      <td>Business Services</td>\n",
       "      <td>$1 to $2 billion (USD)</td>\n",
       "      <td>-1</td>\n",
       "      <td>64</td>\n",
       "      <td>106</td>\n",
       "      <td>85.0</td>\n",
       "      <td>VA</td>\n",
       "    </tr>\n",
       "    <tr>\n",
       "      <th>1</th>\n",
       "      <td>Associate Business Intelligence Data Scientist</td>\n",
       "      <td>$64K-$106K (Glassdoor est.)</td>\n",
       "      <td>Blending customer advisory, customer support, ...</td>\n",
       "      <td>3.2</td>\n",
       "      <td>Carousel Industries</td>\n",
       "      <td>Exeter, RI</td>\n",
       "      <td>Exeter, RI</td>\n",
       "      <td>1001 to 5000 employees</td>\n",
       "      <td>1992</td>\n",
       "      <td>Company - Private</td>\n",
       "      <td>IT Services</td>\n",
       "      <td>Information Technology</td>\n",
       "      <td>$500 million to $1 billion (USD)</td>\n",
       "      <td>-1</td>\n",
       "      <td>64</td>\n",
       "      <td>106</td>\n",
       "      <td>85.0</td>\n",
       "      <td>RI</td>\n",
       "    </tr>\n",
       "    <tr>\n",
       "      <th>2</th>\n",
       "      <td>Scientist, Population Genomics</td>\n",
       "      <td>$64K-$106K (Glassdoor est.)</td>\n",
       "      <td>WuXi NextCODE is seeking a motivated Scientist...</td>\n",
       "      <td>2.9</td>\n",
       "      <td>Carousel Industries</td>\n",
       "      <td>Cambridge, MA</td>\n",
       "      <td>Cambridge, MA</td>\n",
       "      <td>501 to 1000 employees</td>\n",
       "      <td>2015</td>\n",
       "      <td>Company - Private</td>\n",
       "      <td>Biotech &amp; Pharmaceuticals</td>\n",
       "      <td>Biotech &amp; Pharmaceuticals</td>\n",
       "      <td>Unknown / Non-Applicable</td>\n",
       "      <td>-1</td>\n",
       "      <td>64</td>\n",
       "      <td>106</td>\n",
       "      <td>85.0</td>\n",
       "      <td>MA</td>\n",
       "    </tr>\n",
       "    <tr>\n",
       "      <th>3</th>\n",
       "      <td>Data Analyst II</td>\n",
       "      <td>$64K-$106K (Glassdoor est.)</td>\n",
       "      <td>The Data Analyst II is responsible for data en...</td>\n",
       "      <td>4.2</td>\n",
       "      <td>Insight Enterprises, Inc.</td>\n",
       "      <td>Plano, TX</td>\n",
       "      <td>Tempe, AZ</td>\n",
       "      <td>5001 to 10000 employees</td>\n",
       "      <td>1988</td>\n",
       "      <td>Company - Public</td>\n",
       "      <td>Enterprise Software &amp; Network Solutions</td>\n",
       "      <td>Information Technology</td>\n",
       "      <td>$5 to $10 billion (USD)</td>\n",
       "      <td>CDW, PCM, SHI International</td>\n",
       "      <td>64</td>\n",
       "      <td>106</td>\n",
       "      <td>85.0</td>\n",
       "      <td>TX</td>\n",
       "    </tr>\n",
       "    <tr>\n",
       "      <th>4</th>\n",
       "      <td>Sensory Scientist</td>\n",
       "      <td>$64K-$106K (Glassdoor est.)</td>\n",
       "      <td>A leading food production company in St. Louis...</td>\n",
       "      <td>3.8</td>\n",
       "      <td>NIC Infotek</td>\n",
       "      <td>Saint Louis, MO</td>\n",
       "      <td>Tampa, FL</td>\n",
       "      <td>51 to 200 employees</td>\n",
       "      <td>2004</td>\n",
       "      <td>Company - Public</td>\n",
       "      <td>Staffing &amp; Outsourcing</td>\n",
       "      <td>Business Services</td>\n",
       "      <td>Unknown / Non-Applicable</td>\n",
       "      <td>-1</td>\n",
       "      <td>64</td>\n",
       "      <td>106</td>\n",
       "      <td>85.0</td>\n",
       "      <td>MO</td>\n",
       "    </tr>\n",
       "    <tr>\n",
       "      <th>...</th>\n",
       "      <td>...</td>\n",
       "      <td>...</td>\n",
       "      <td>...</td>\n",
       "      <td>...</td>\n",
       "      <td>...</td>\n",
       "      <td>...</td>\n",
       "      <td>...</td>\n",
       "      <td>...</td>\n",
       "      <td>...</td>\n",
       "      <td>...</td>\n",
       "      <td>...</td>\n",
       "      <td>...</td>\n",
       "      <td>...</td>\n",
       "      <td>...</td>\n",
       "      <td>...</td>\n",
       "      <td>...</td>\n",
       "      <td>...</td>\n",
       "      <td>...</td>\n",
       "    </tr>\n",
       "    <tr>\n",
       "      <th>995</th>\n",
       "      <td>Data Scientist</td>\n",
       "      <td>$96K-$156K (Glassdoor est.)</td>\n",
       "      <td>As a Data Scientist at Eaze, you'll report to ...</td>\n",
       "      <td>3.6</td>\n",
       "      <td>Eaze</td>\n",
       "      <td>San Francisco, CA</td>\n",
       "      <td>San Francisco, CA</td>\n",
       "      <td>51 to 200 employees</td>\n",
       "      <td>2014</td>\n",
       "      <td>Company - Private</td>\n",
       "      <td>Internet</td>\n",
       "      <td>Information Technology</td>\n",
       "      <td>$25 to $50 million (USD)</td>\n",
       "      <td>Harborside Health Center, Leafly, Privateer Ho...</td>\n",
       "      <td>96</td>\n",
       "      <td>156</td>\n",
       "      <td>126.0</td>\n",
       "      <td>CA</td>\n",
       "    </tr>\n",
       "    <tr>\n",
       "      <th>996</th>\n",
       "      <td>Data Scientist</td>\n",
       "      <td>$96K-$156K (Glassdoor est.)</td>\n",
       "      <td>We are looking for data scientists who love ex...</td>\n",
       "      <td>2.9</td>\n",
       "      <td>Goodwater Capital</td>\n",
       "      <td>Burlingame, CA</td>\n",
       "      <td>San Mateo, CA</td>\n",
       "      <td>1 to 50 employees</td>\n",
       "      <td>2014</td>\n",
       "      <td>Private Practice / Firm</td>\n",
       "      <td>Venture Capital &amp; Private Equity</td>\n",
       "      <td>Finance</td>\n",
       "      <td>Unknown / Non-Applicable</td>\n",
       "      <td>-1</td>\n",
       "      <td>96</td>\n",
       "      <td>156</td>\n",
       "      <td>126.0</td>\n",
       "      <td>CA</td>\n",
       "    </tr>\n",
       "    <tr>\n",
       "      <th>997</th>\n",
       "      <td>Data Scientist</td>\n",
       "      <td>$96K-$156K (Glassdoor est.)</td>\n",
       "      <td>Why We Work at Dun &amp; Bradstreet\\r\\n\\r\\n\\r\\nWe ...</td>\n",
       "      <td>3.1</td>\n",
       "      <td>Dun &amp; Bradstreet</td>\n",
       "      <td>Austin, TX</td>\n",
       "      <td>Short Hills, NJ</td>\n",
       "      <td>1001 to 5000 employees</td>\n",
       "      <td>1841</td>\n",
       "      <td>Company - Private</td>\n",
       "      <td>IT Services</td>\n",
       "      <td>Information Technology</td>\n",
       "      <td>$1 to $2 billion (USD)</td>\n",
       "      <td>Experian, Equifax</td>\n",
       "      <td>96</td>\n",
       "      <td>156</td>\n",
       "      <td>126.0</td>\n",
       "      <td>TX</td>\n",
       "    </tr>\n",
       "    <tr>\n",
       "      <th>998</th>\n",
       "      <td>Data Scientist</td>\n",
       "      <td>$96K-$156K (Glassdoor est.)</td>\n",
       "      <td>About Freestar:\\r\\n\\r\\nFreestar engineers cutt...</td>\n",
       "      <td>4.9</td>\n",
       "      <td>Freestar</td>\n",
       "      <td>Phoenix, AZ</td>\n",
       "      <td>Phoenix, AZ</td>\n",
       "      <td>1 to 50 employees</td>\n",
       "      <td>2016</td>\n",
       "      <td>Company - Private</td>\n",
       "      <td>Advertising &amp; Marketing</td>\n",
       "      <td>Business Services</td>\n",
       "      <td>$25 to $50 million (USD)</td>\n",
       "      <td>-1</td>\n",
       "      <td>96</td>\n",
       "      <td>156</td>\n",
       "      <td>126.0</td>\n",
       "      <td>AZ</td>\n",
       "    </tr>\n",
       "    <tr>\n",
       "      <th>999</th>\n",
       "      <td>Data Scientist</td>\n",
       "      <td>$96K-$156K (Glassdoor est.)</td>\n",
       "      <td>About Imperfect\\r\\n\\r\\nImperfect Foods was fou...</td>\n",
       "      <td>3.8</td>\n",
       "      <td>Imperfect Foods</td>\n",
       "      <td>Remote, Remote</td>\n",
       "      <td>San Francisco, CA</td>\n",
       "      <td>1001 to 5000 employees</td>\n",
       "      <td>2015</td>\n",
       "      <td>Company - Private</td>\n",
       "      <td>Food &amp; Beverage Stores</td>\n",
       "      <td>Retail</td>\n",
       "      <td>Unknown / Non-Applicable</td>\n",
       "      <td>Hungry Harvest, Good Eggs</td>\n",
       "      <td>96</td>\n",
       "      <td>156</td>\n",
       "      <td>126.0</td>\n",
       "      <td>Remote</td>\n",
       "    </tr>\n",
       "  </tbody>\n",
       "</table>\n",
       "<p>940 rows × 18 columns</p>\n",
       "</div>"
      ],
      "text/plain": [
       "                                          Job Title  \\\n",
       "0                                    Data Scientist   \n",
       "1    Associate Business Intelligence Data Scientist   \n",
       "2                    Scientist, Population Genomics   \n",
       "3                                   Data Analyst II   \n",
       "4                                 Sensory Scientist   \n",
       "..                                              ...   \n",
       "995                                  Data Scientist   \n",
       "996                                  Data Scientist   \n",
       "997                                  Data Scientist   \n",
       "998                                  Data Scientist   \n",
       "999                                  Data Scientist   \n",
       "\n",
       "                 Salary Estimate  \\\n",
       "0    $64K-$106K (Glassdoor est.)   \n",
       "1    $64K-$106K (Glassdoor est.)   \n",
       "2    $64K-$106K (Glassdoor est.)   \n",
       "3    $64K-$106K (Glassdoor est.)   \n",
       "4    $64K-$106K (Glassdoor est.)   \n",
       "..                           ...   \n",
       "995  $96K-$156K (Glassdoor est.)   \n",
       "996  $96K-$156K (Glassdoor est.)   \n",
       "997  $96K-$156K (Glassdoor est.)   \n",
       "998  $96K-$156K (Glassdoor est.)   \n",
       "999  $96K-$156K (Glassdoor est.)   \n",
       "\n",
       "                                       Job Description  Rating  \\\n",
       "0    Secure our Nation, Ignite your Future\\r\\n\\r\\nJ...     4.2   \n",
       "1    Blending customer advisory, customer support, ...     3.2   \n",
       "2    WuXi NextCODE is seeking a motivated Scientist...     2.9   \n",
       "3    The Data Analyst II is responsible for data en...     4.2   \n",
       "4    A leading food production company in St. Louis...     3.8   \n",
       "..                                                 ...     ...   \n",
       "995  As a Data Scientist at Eaze, you'll report to ...     3.6   \n",
       "996  We are looking for data scientists who love ex...     2.9   \n",
       "997  Why We Work at Dun & Bradstreet\\r\\n\\r\\n\\r\\nWe ...     3.1   \n",
       "998  About Freestar:\\r\\n\\r\\nFreestar engineers cutt...     4.9   \n",
       "999  About Imperfect\\r\\n\\r\\nImperfect Foods was fou...     3.8   \n",
       "\n",
       "                  Company Name           Location       Headquarters  \\\n",
       "0                      ManTech      Chantilly, VA        Herndon, VA   \n",
       "1          Carousel Industries         Exeter, RI         Exeter, RI   \n",
       "2          Carousel Industries      Cambridge, MA      Cambridge, MA   \n",
       "3    Insight Enterprises, Inc.          Plano, TX          Tempe, AZ   \n",
       "4                  NIC Infotek    Saint Louis, MO          Tampa, FL   \n",
       "..                         ...                ...                ...   \n",
       "995                       Eaze  San Francisco, CA  San Francisco, CA   \n",
       "996          Goodwater Capital     Burlingame, CA      San Mateo, CA   \n",
       "997           Dun & Bradstreet         Austin, TX    Short Hills, NJ   \n",
       "998                   Freestar        Phoenix, AZ        Phoenix, AZ   \n",
       "999            Imperfect Foods     Remote, Remote  San Francisco, CA   \n",
       "\n",
       "                        Size  Founded        Type of ownership  \\\n",
       "0    5001 to 10000 employees     1968         Company - Public   \n",
       "1     1001 to 5000 employees     1992        Company - Private   \n",
       "2      501 to 1000 employees     2015        Company - Private   \n",
       "3    5001 to 10000 employees     1988         Company - Public   \n",
       "4        51 to 200 employees     2004         Company - Public   \n",
       "..                       ...      ...                      ...   \n",
       "995      51 to 200 employees     2014        Company - Private   \n",
       "996        1 to 50 employees     2014  Private Practice / Firm   \n",
       "997   1001 to 5000 employees     1841        Company - Private   \n",
       "998        1 to 50 employees     2016        Company - Private   \n",
       "999   1001 to 5000 employees     2015        Company - Private   \n",
       "\n",
       "                                    Industry                     Sector  \\\n",
       "0                     Research & Development          Business Services   \n",
       "1                                IT Services     Information Technology   \n",
       "2                  Biotech & Pharmaceuticals  Biotech & Pharmaceuticals   \n",
       "3    Enterprise Software & Network Solutions     Information Technology   \n",
       "4                     Staffing & Outsourcing          Business Services   \n",
       "..                                       ...                        ...   \n",
       "995                                 Internet     Information Technology   \n",
       "996         Venture Capital & Private Equity                    Finance   \n",
       "997                              IT Services     Information Technology   \n",
       "998                  Advertising & Marketing          Business Services   \n",
       "999                   Food & Beverage Stores                     Retail   \n",
       "\n",
       "                              Revenue  \\\n",
       "0              $1 to $2 billion (USD)   \n",
       "1    $500 million to $1 billion (USD)   \n",
       "2            Unknown / Non-Applicable   \n",
       "3             $5 to $10 billion (USD)   \n",
       "4            Unknown / Non-Applicable   \n",
       "..                                ...   \n",
       "995          $25 to $50 million (USD)   \n",
       "996          Unknown / Non-Applicable   \n",
       "997            $1 to $2 billion (USD)   \n",
       "998          $25 to $50 million (USD)   \n",
       "999          Unknown / Non-Applicable   \n",
       "\n",
       "                                           Competitors  min_salary  \\\n",
       "0                                                   -1          64   \n",
       "1                                                   -1          64   \n",
       "2                                                   -1          64   \n",
       "3                          CDW, PCM, SHI International          64   \n",
       "4                                                   -1          64   \n",
       "..                                                 ...         ...   \n",
       "995  Harborside Health Center, Leafly, Privateer Ho...          96   \n",
       "996                                                 -1          96   \n",
       "997                                  Experian, Equifax          96   \n",
       "998                                                 -1          96   \n",
       "999                          Hungry Harvest, Good Eggs          96   \n",
       "\n",
       "     max_salary  avg_salary    State  \n",
       "0           106        85.0       VA  \n",
       "1           106        85.0       RI  \n",
       "2           106        85.0       MA  \n",
       "3           106        85.0       TX  \n",
       "4           106        85.0       MO  \n",
       "..          ...         ...      ...  \n",
       "995         156       126.0       CA  \n",
       "996         156       126.0       CA  \n",
       "997         156       126.0       TX  \n",
       "998         156       126.0       AZ  \n",
       "999         156       126.0   Remote  \n",
       "\n",
       "[940 rows x 18 columns]"
      ]
     },
     "execution_count": 30,
     "metadata": {},
     "output_type": "execute_result"
    }
   ],
   "source": [
    "df"
   ]
  },
  {
   "cell_type": "markdown",
   "metadata": {},
   "source": [
    "Jobs in headquaters"
   ]
  },
  {
   "cell_type": "code",
   "execution_count": 31,
   "metadata": {},
   "outputs": [
    {
     "data": {
      "text/plain": [
       "0    513\n",
       "1    427\n",
       "Name: jobhq, dtype: int64"
      ]
     },
     "execution_count": 31,
     "metadata": {},
     "output_type": "execute_result"
    }
   ],
   "source": [
    "df['jobhq']=df.apply(lambda x:1 if x['Location']==x['Headquarters'] else 0,axis=1)\n",
    "df.jobhq.value_counts()\n",
    "# so here we can see that 427 jobs are there in headquaters and 513 are not in headquaters"
   ]
  },
  {
   "cell_type": "markdown",
   "metadata": {},
   "source": [
    "Now taking the Age of the company  "
   ]
  },
  {
   "cell_type": "code",
   "execution_count": 32,
   "metadata": {},
   "outputs": [
    {
     "data": {
      "text/html": [
       "<div>\n",
       "<style scoped>\n",
       "    .dataframe tbody tr th:only-of-type {\n",
       "        vertical-align: middle;\n",
       "    }\n",
       "\n",
       "    .dataframe tbody tr th {\n",
       "        vertical-align: top;\n",
       "    }\n",
       "\n",
       "    .dataframe thead th {\n",
       "        text-align: right;\n",
       "    }\n",
       "</style>\n",
       "<table border=\"1\" class=\"dataframe\">\n",
       "  <thead>\n",
       "    <tr style=\"text-align: right;\">\n",
       "      <th></th>\n",
       "      <th>Job Title</th>\n",
       "      <th>Salary Estimate</th>\n",
       "      <th>Job Description</th>\n",
       "      <th>Rating</th>\n",
       "      <th>Company Name</th>\n",
       "      <th>Location</th>\n",
       "      <th>Headquarters</th>\n",
       "      <th>Size</th>\n",
       "      <th>Founded</th>\n",
       "      <th>Type of ownership</th>\n",
       "      <th>Industry</th>\n",
       "      <th>Sector</th>\n",
       "      <th>Revenue</th>\n",
       "      <th>Competitors</th>\n",
       "      <th>min_salary</th>\n",
       "      <th>max_salary</th>\n",
       "      <th>avg_salary</th>\n",
       "      <th>State</th>\n",
       "      <th>jobhq</th>\n",
       "    </tr>\n",
       "  </thead>\n",
       "  <tbody>\n",
       "    <tr>\n",
       "      <th>0</th>\n",
       "      <td>Data Scientist</td>\n",
       "      <td>$64K-$106K (Glassdoor est.)</td>\n",
       "      <td>Secure our Nation, Ignite your Future\\r\\n\\r\\nJ...</td>\n",
       "      <td>4.2</td>\n",
       "      <td>ManTech</td>\n",
       "      <td>Chantilly, VA</td>\n",
       "      <td>Herndon, VA</td>\n",
       "      <td>5001 to 10000 employees</td>\n",
       "      <td>1968</td>\n",
       "      <td>Company - Public</td>\n",
       "      <td>Research &amp; Development</td>\n",
       "      <td>Business Services</td>\n",
       "      <td>$1 to $2 billion (USD)</td>\n",
       "      <td>-1</td>\n",
       "      <td>64</td>\n",
       "      <td>106</td>\n",
       "      <td>85.0</td>\n",
       "      <td>VA</td>\n",
       "      <td>0</td>\n",
       "    </tr>\n",
       "    <tr>\n",
       "      <th>1</th>\n",
       "      <td>Associate Business Intelligence Data Scientist</td>\n",
       "      <td>$64K-$106K (Glassdoor est.)</td>\n",
       "      <td>Blending customer advisory, customer support, ...</td>\n",
       "      <td>3.2</td>\n",
       "      <td>Carousel Industries</td>\n",
       "      <td>Exeter, RI</td>\n",
       "      <td>Exeter, RI</td>\n",
       "      <td>1001 to 5000 employees</td>\n",
       "      <td>1992</td>\n",
       "      <td>Company - Private</td>\n",
       "      <td>IT Services</td>\n",
       "      <td>Information Technology</td>\n",
       "      <td>$500 million to $1 billion (USD)</td>\n",
       "      <td>-1</td>\n",
       "      <td>64</td>\n",
       "      <td>106</td>\n",
       "      <td>85.0</td>\n",
       "      <td>RI</td>\n",
       "      <td>1</td>\n",
       "    </tr>\n",
       "  </tbody>\n",
       "</table>\n",
       "</div>"
      ],
      "text/plain": [
       "                                        Job Title  \\\n",
       "0                                  Data Scientist   \n",
       "1  Associate Business Intelligence Data Scientist   \n",
       "\n",
       "               Salary Estimate  \\\n",
       "0  $64K-$106K (Glassdoor est.)   \n",
       "1  $64K-$106K (Glassdoor est.)   \n",
       "\n",
       "                                     Job Description  Rating  \\\n",
       "0  Secure our Nation, Ignite your Future\\r\\n\\r\\nJ...     4.2   \n",
       "1  Blending customer advisory, customer support, ...     3.2   \n",
       "\n",
       "          Company Name       Location Headquarters                     Size  \\\n",
       "0              ManTech  Chantilly, VA  Herndon, VA  5001 to 10000 employees   \n",
       "1  Carousel Industries     Exeter, RI   Exeter, RI   1001 to 5000 employees   \n",
       "\n",
       "   Founded  Type of ownership                Industry                  Sector  \\\n",
       "0     1968   Company - Public  Research & Development       Business Services   \n",
       "1     1992  Company - Private             IT Services  Information Technology   \n",
       "\n",
       "                            Revenue Competitors  min_salary  max_salary  \\\n",
       "0            $1 to $2 billion (USD)          -1          64         106   \n",
       "1  $500 million to $1 billion (USD)          -1          64         106   \n",
       "\n",
       "   avg_salary State  jobhq  \n",
       "0        85.0    VA      0  \n",
       "1        85.0    RI      1  "
      ]
     },
     "execution_count": 32,
     "metadata": {},
     "output_type": "execute_result"
    }
   ],
   "source": [
    "df.head(2)"
   ]
  },
  {
   "cell_type": "code",
   "execution_count": 33,
   "metadata": {},
   "outputs": [
    {
     "data": {
      "text/plain": [
       "-1      92\n",
       " 25     36\n",
       " 9      35\n",
       " 5      33\n",
       " 6      33\n",
       "        ..\n",
       " 123     1\n",
       " 128     1\n",
       " 129     1\n",
       " 136     1\n",
       " 331     1\n",
       "Name: age, Length: 118, dtype: int64"
      ]
     },
     "execution_count": 33,
     "metadata": {},
     "output_type": "execute_result"
    }
   ],
   "source": [
    "df['age']=df.Founded.apply(lambda x:x if x<1 else 2021-x)\n",
    "df.age.value_counts()\n",
    "# so we have 92 companies with no Founding age but we cannot remove those"
   ]
  },
  {
   "cell_type": "markdown",
   "metadata": {},
   "source": [
    "Adding colums for skills required"
   ]
  },
  {
   "cell_type": "code",
   "execution_count": 34,
   "metadata": {},
   "outputs": [],
   "source": [
    "#pYthon\n",
    "df['python_yn']=df['Job Description'].apply(lambda x:1 if 'python' in x.lower() else 0) "
   ]
  },
  {
   "cell_type": "code",
   "execution_count": 35,
   "metadata": {},
   "outputs": [],
   "source": [
    "#R\n",
    "df['r_yn']=df['Job Description'].apply(lambda x:1 if 'r studion' in x.lower() or 'r-studio' in x.lower() or \",R\" in x or \"R,\" in x or \"R\" in x else 0)"
   ]
  },
  {
   "cell_type": "code",
   "execution_count": 36,
   "metadata": {},
   "outputs": [],
   "source": [
    "#aws\n",
    "df['aws_yn']=df[\"Job Description\"].apply(lambda x:1 if 'aws' in x.lower() else 0)"
   ]
  },
  {
   "cell_type": "code",
   "execution_count": 37,
   "metadata": {},
   "outputs": [],
   "source": [
    "#spark\n",
    "df['spark_yn']=df[\"Job Description\"].apply(lambda x:1 if 'spark' in x.lower() else 0)"
   ]
  },
  {
   "cell_type": "code",
   "execution_count": 38,
   "metadata": {},
   "outputs": [],
   "source": [
    "#hadoop\n",
    "df['hadoop_yn']=df[\"Job Description\"].apply(lambda x:1 if 'hadoop' in x.lower() else 0)"
   ]
  },
  {
   "cell_type": "code",
   "execution_count": 39,
   "metadata": {},
   "outputs": [],
   "source": [
    "#docker\n",
    "df['docker_yn']=df[\"Job Description\"].apply(lambda x:1 if 'docker' in x.lower() else 0)"
   ]
  },
  {
   "cell_type": "code",
   "execution_count": 40,
   "metadata": {},
   "outputs": [],
   "source": [
    "#sql\n",
    "df['sql_yn']=df[\"Job Description\"].apply(lambda x:1 if 'sql' in x.lower() else 0)"
   ]
  },
  {
   "cell_type": "code",
   "execution_count": 41,
   "metadata": {},
   "outputs": [],
   "source": [
    "#linux\n",
    "df['linux_yn']=df[\"Job Description\"].apply(lambda x:1 if 'linux' in x.lower() else 0)"
   ]
  },
  {
   "cell_type": "code",
   "execution_count": 42,
   "metadata": {},
   "outputs": [],
   "source": [
    "#flask\n",
    "df['flask_yn']=df[\"Job Description\"].apply(lambda x:1 if 'flask' in x.lower() else 0)"
   ]
  },
  {
   "cell_type": "code",
   "execution_count": 43,
   "metadata": {},
   "outputs": [],
   "source": [
    "#django\n",
    "df['django_yn']=df[\"Job Description\"].apply(lambda x:1 if 'django' in x.lower() else 0)"
   ]
  },
  {
   "cell_type": "code",
   "execution_count": 44,
   "metadata": {},
   "outputs": [],
   "source": [
    "#tensorflow\n",
    "df['tensorflow_yn']=df[\"Job Description\"].apply(lambda x:1 if 'tensorflow' in x.lower() else 0)"
   ]
  },
  {
   "cell_type": "code",
   "execution_count": 45,
   "metadata": {},
   "outputs": [],
   "source": [
    "#keras\n",
    "df['keras_yn']=df[\"Job Description\"].apply(lambda x:1 if 'keras' in x.lower() else 0)"
   ]
  },
  {
   "cell_type": "code",
   "execution_count": 46,
   "metadata": {},
   "outputs": [],
   "source": [
    "#pytorch\n",
    "df['pytorch_yn']=df[\"Job Description\"].apply(lambda x:1 if 'pytorch' in x.lower() else 0)"
   ]
  },
  {
   "cell_type": "code",
   "execution_count": 47,
   "metadata": {},
   "outputs": [],
   "source": [
    "#algorithms\n",
    "df['algo_yn']=df[\"Job Description\"].apply(lambda x:1 if 'algorithms' in x.lower() or 'algorithmic' in x.lower() else 0)"
   ]
  },
  {
   "cell_type": "code",
   "execution_count": 48,
   "metadata": {},
   "outputs": [],
   "source": [
    "#statistics\n",
    "df['stats_yn']=df[\"Job Description\"].apply(lambda x:1 if 'statistics' in x.lower() or 'statistical' in x.lower() else 0)"
   ]
  },
  {
   "cell_type": "code",
   "execution_count": 49,
   "metadata": {},
   "outputs": [],
   "source": [
    "#tableau\n",
    "df['tableau_yn']=df[\"Job Description\"].apply(lambda x:1 if 'tableau' in x.lower() else 0)\n"
   ]
  },
  {
   "cell_type": "code",
   "execution_count": 50,
   "metadata": {},
   "outputs": [
    {
     "data": {
      "text/plain": [
       "Index(['Job Title', 'Salary Estimate', 'Job Description', 'Rating',\n",
       "       'Company Name', 'Location', 'Headquarters', 'Size', 'Founded',\n",
       "       'Type of ownership', 'Industry', 'Sector', 'Revenue', 'Competitors',\n",
       "       'min_salary', 'max_salary', 'avg_salary', 'State', 'jobhq', 'age',\n",
       "       'python_yn', 'r_yn', 'aws_yn', 'spark_yn', 'hadoop_yn', 'docker_yn',\n",
       "       'sql_yn', 'linux_yn', 'flask_yn', 'django_yn', 'tensorflow_yn',\n",
       "       'keras_yn', 'pytorch_yn', 'algo_yn', 'stats_yn', 'tableau_yn'],\n",
       "      dtype='object')"
      ]
     },
     "execution_count": 50,
     "metadata": {},
     "output_type": "execute_result"
    }
   ],
   "source": [
    "df.columns"
   ]
  },
  {
   "cell_type": "code",
   "execution_count": 51,
   "metadata": {},
   "outputs": [
    {
     "data": {
      "text/plain": [
       "<AxesSubplot:>"
      ]
     },
     "execution_count": 51,
     "metadata": {},
     "output_type": "execute_result"
    },
    {
     "data": {
      "image/png": "[encoded data removed]",
      "text/plain": [
       "<Figure size 432x288 with 1 Axes>"
      ]
     },
     "metadata": {
      "needs_background": "light"
     },
     "output_type": "display_data"
    }
   ],
   "source": [
    "df.age.hist()"
   ]
  },
  {
   "cell_type": "markdown",
   "metadata": {},
   "source": [
    "Types of Data Science JObs"
   ]
  },
  {
   "cell_type": "code",
   "execution_count": 52,
   "metadata": {},
   "outputs": [],
   "source": [
    "def title_simplifier(title):\n",
    "    if 'data scientist' in title.lower():\n",
    "        return 'data scientist'\n",
    "    elif 'data engineer' in title.lower():\n",
    "        return 'data engineer'\n",
    "    elif 'analyst' in title.lower():\n",
    "        return 'analyst'\n",
    "    elif 'machine learning' in title.lower():\n",
    "        return 'mle'\n",
    "    elif 'research' in title.lower():\n",
    "        return 'research'\n",
    "    elif 'software' in title.lower():\n",
    "        return 'sw'\n",
    "    elif 'manager' in title.lower():\n",
    "        return 'manager'\n",
    "    elif 'director' in title.lower():\n",
    "        return 'director'\n",
    "    else:\n",
    "        return 'na'"
   ]
  },
  {
   "cell_type": "code",
   "execution_count": 53,
   "metadata": {},
   "outputs": [],
   "source": [
    "def title_number_simplifier(title):\n",
    "    if 'data scientist' in title.lower():\n",
    "        return 3\n",
    "    elif 'data engineer' in title.lower():\n",
    "        return 2\n",
    "    elif 'analyst' in title.lower():\n",
    "        return 1\n",
    "    elif 'machine learning' in title.lower():\n",
    "        return 6\n",
    "    elif 'research' in title.lower():\n",
    "        return 8\n",
    "    elif 'software' in title.lower():\n",
    "        return 9\n",
    "    elif 'manager' in title.lower():\n",
    "        return 5\n",
    "    elif 'director' in title.lower():\n",
    "        return 4\n",
    "    else:\n",
    "        return 7"
   ]
  },
  {
   "cell_type": "code",
   "execution_count": 54,
   "metadata": {},
   "outputs": [
    {
     "data": {
      "text/plain": [
       "data scientist    687\n",
       "na                 73\n",
       "data engineer      67\n",
       "analyst            59\n",
       "mle                23\n",
       "research           13\n",
       "manager             8\n",
       "director            8\n",
       "sw                  2\n",
       "Name: job_type, dtype: int64"
      ]
     },
     "execution_count": 54,
     "metadata": {},
     "output_type": "execute_result"
    }
   ],
   "source": [
    "df['job_type']=df['Job Title'].apply(title_simplifier)\n",
    "df['job_type_num']=df['Job Title'].apply(title_number_simplifier)\n",
    "df['job_type'].value_counts()\n",
    "# so here 73 employees are having no desigination"
   ]
  },
  {
   "cell_type": "markdown",
   "metadata": {},
   "source": [
    "Seniority Level of the Job:"
   ]
  },
  {
   "cell_type": "code",
   "execution_count": 55,
   "metadata": {},
   "outputs": [],
   "source": [
    "def seniority(title):\n",
    "    if 'sr' in title.lower() or 'senior' in title.lower() or 'sr' in title.lower() or 'lead' in title.lower() or 'principal' in title.lower():\n",
    "        return 'senior'\n",
    "    elif 'jr' in title.lower() or 'jr.' in title.lower():\n",
    "        return 'jr'\n",
    "    else:\n",
    "        return 'na'"
   ]
  },
  {
   "cell_type": "code",
   "execution_count": 56,
   "metadata": {},
   "outputs": [],
   "source": [
    "def seniority_number(title):\n",
    "    if 'sr' in title.lower() or 'senior' in title.lower() or 'sr' in title.lower() or 'lead' in title.lower() or 'principal' in title.lower():\n",
    "        return '1'\n",
    "    elif 'jr' in title.lower() or 'jr.' in title.lower():\n",
    "        return '0'\n",
    "    else:\n",
    "        return '2'"
   ]
  },
  {
   "cell_type": "code",
   "execution_count": 57,
   "metadata": {},
   "outputs": [],
   "source": [
    "df['seniority']=df['Job Title'].apply(seniority)"
   ]
  },
  {
   "cell_type": "code",
   "execution_count": 58,
   "metadata": {},
   "outputs": [
    {
     "data": {
      "text/plain": [
       "na        778\n",
       "senior    162\n",
       "Name: seniority, dtype: int64"
      ]
     },
     "execution_count": 58,
     "metadata": {},
     "output_type": "execute_result"
    }
   ],
   "source": [
    "df['seniority'].value_counts()"
   ]
  },
  {
   "cell_type": "code",
   "execution_count": 59,
   "metadata": {},
   "outputs": [],
   "source": [
    "df['seniority_num']=df['Job Title'].apply(seniority_number)"
   ]
  },
  {
   "cell_type": "code",
   "execution_count": 60,
   "metadata": {},
   "outputs": [
    {
     "data": {
      "text/plain": [
       "Index(['Job Title', 'Salary Estimate', 'Job Description', 'Rating',\n",
       "       'Company Name', 'Location', 'Headquarters', 'Size', 'Founded',\n",
       "       'Type of ownership', 'Industry', 'Sector', 'Revenue', 'Competitors',\n",
       "       'min_salary', 'max_salary', 'avg_salary', 'State', 'jobhq', 'age',\n",
       "       'python_yn', 'r_yn', 'aws_yn', 'spark_yn', 'hadoop_yn', 'docker_yn',\n",
       "       'sql_yn', 'linux_yn', 'flask_yn', 'django_yn', 'tensorflow_yn',\n",
       "       'keras_yn', 'pytorch_yn', 'algo_yn', 'stats_yn', 'tableau_yn',\n",
       "       'job_type', 'job_type_num', 'seniority', 'seniority_num'],\n",
       "      dtype='object')"
      ]
     },
     "execution_count": 60,
     "metadata": {},
     "output_type": "execute_result"
    }
   ],
   "source": [
    "df.columns"
   ]
  },
  {
   "cell_type": "code",
   "execution_count": 61,
   "metadata": {},
   "outputs": [],
   "source": [
    "df['len_desc']=df['Job Description'].apply(lambda x:len(x))"
   ]
  },
  {
   "cell_type": "code",
   "execution_count": 62,
   "metadata": {},
   "outputs": [
    {
     "data": {
      "text/plain": [
       "0      3994\n",
       "1      5396\n",
       "2      3203\n",
       "3      4282\n",
       "4      1852\n",
       "       ... \n",
       "995    2126\n",
       "996    2926\n",
       "997    3556\n",
       "998    3709\n",
       "999    6249\n",
       "Name: len_desc, Length: 940, dtype: int64"
      ]
     },
     "execution_count": 62,
     "metadata": {},
     "output_type": "execute_result"
    }
   ],
   "source": [
    "df['len_desc']"
   ]
  },
  {
   "cell_type": "code",
   "execution_count": 63,
   "metadata": {},
   "outputs": [
    {
     "data": {
      "text/plain": [
       "<AxesSubplot:>"
      ]
     },
     "execution_count": 63,
     "metadata": {},
     "output_type": "execute_result"
    },
    {
     "data": {
      "image/png": "[encoded data removed]",
      "text/plain": [
       "<Figure size 432x288 with 1 Axes>"
      ]
     },
     "metadata": {
      "needs_background": "light"
     },
     "output_type": "display_data"
    }
   ],
   "source": [
    "df.len_desc.hist()"
   ]
  },
  {
   "cell_type": "code",
   "execution_count": 64,
   "metadata": {},
   "outputs": [
    {
     "data": {
      "text/plain": [
       "<AxesSubplot:>"
      ]
     },
     "execution_count": 64,
     "metadata": {},
     "output_type": "execute_result"
    },
    {
     "data": {
      "image/png": "[encoded data removed]",
      "text/plain": [
       "<Figure size 432x288 with 1 Axes>"
      ]
     },
     "metadata": {
      "needs_background": "light"
     },
     "output_type": "display_data"
    }
   ],
   "source": [
    "df.boxplot(column = ['age','avg_salary','Rating'])"
   ]
  },
  {
   "cell_type": "code",
   "execution_count": 65,
   "metadata": {},
   "outputs": [
    {
     "data": {
      "text/html": [
       "<div>\n",
       "<style scoped>\n",
       "    .dataframe tbody tr th:only-of-type {\n",
       "        vertical-align: middle;\n",
       "    }\n",
       "\n",
       "    .dataframe tbody tr th {\n",
       "        vertical-align: top;\n",
       "    }\n",
       "\n",
       "    .dataframe thead th {\n",
       "        text-align: right;\n",
       "    }\n",
       "</style>\n",
       "<table border=\"1\" class=\"dataframe\">\n",
       "  <thead>\n",
       "    <tr style=\"text-align: right;\">\n",
       "      <th></th>\n",
       "      <th>age</th>\n",
       "      <th>avg_salary</th>\n",
       "      <th>Rating</th>\n",
       "      <th>len_desc</th>\n",
       "    </tr>\n",
       "  </thead>\n",
       "  <tbody>\n",
       "    <tr>\n",
       "      <th>age</th>\n",
       "      <td>1.000000</td>\n",
       "      <td>0.019571</td>\n",
       "      <td>-0.152588</td>\n",
       "      <td>0.181579</td>\n",
       "    </tr>\n",
       "    <tr>\n",
       "      <th>avg_salary</th>\n",
       "      <td>0.019571</td>\n",
       "      <td>1.000000</td>\n",
       "      <td>0.050819</td>\n",
       "      <td>-0.074652</td>\n",
       "    </tr>\n",
       "    <tr>\n",
       "      <th>Rating</th>\n",
       "      <td>-0.152588</td>\n",
       "      <td>0.050819</td>\n",
       "      <td>1.000000</td>\n",
       "      <td>-0.102763</td>\n",
       "    </tr>\n",
       "    <tr>\n",
       "      <th>len_desc</th>\n",
       "      <td>0.181579</td>\n",
       "      <td>-0.074652</td>\n",
       "      <td>-0.102763</td>\n",
       "      <td>1.000000</td>\n",
       "    </tr>\n",
       "  </tbody>\n",
       "</table>\n",
       "</div>"
      ],
      "text/plain": [
       "                 age  avg_salary    Rating  len_desc\n",
       "age         1.000000    0.019571 -0.152588  0.181579\n",
       "avg_salary  0.019571    1.000000  0.050819 -0.074652\n",
       "Rating     -0.152588    0.050819  1.000000 -0.102763\n",
       "len_desc    0.181579   -0.074652 -0.102763  1.000000"
      ]
     },
     "execution_count": 65,
     "metadata": {},
     "output_type": "execute_result"
    }
   ],
   "source": [
    "#Finding out the correlation between the variables\n",
    "df[['age','avg_salary','Rating','len_desc']].corr()"
   ]
  },
  {
   "cell_type": "markdown",
   "metadata": {},
   "source": [
    "\n",
    "\n",
    "Number of Competitors:"
   ]
  },
  {
   "cell_type": "code",
   "execution_count": 66,
   "metadata": {},
   "outputs": [
    {
     "data": {
      "text/plain": [
       "0    628\n",
       "3    211\n",
       "2     83\n",
       "1     18\n",
       "Name: num_comp, dtype: int64"
      ]
     },
     "execution_count": 66,
     "metadata": {},
     "output_type": "execute_result"
    }
   ],
   "source": [
    "df['num_comp']=df['Competitors'].apply(lambda x:len(x.split(',')) if x!='-1' else 0)\n",
    "df['num_comp'].value_counts()"
   ]
  },
  {
   "cell_type": "code",
   "execution_count": 67,
   "metadata": {},
   "outputs": [
    {
     "data": {
      "text/plain": [
       "Index(['Job Title', 'Salary Estimate', 'Job Description', 'Rating',\n",
       "       'Company Name', 'Location', 'Headquarters', 'Size', 'Founded',\n",
       "       'Type of ownership', 'Industry', 'Sector', 'Revenue', 'Competitors',\n",
       "       'min_salary', 'max_salary', 'avg_salary', 'State', 'jobhq', 'age',\n",
       "       'python_yn', 'r_yn', 'aws_yn', 'spark_yn', 'hadoop_yn', 'docker_yn',\n",
       "       'sql_yn', 'linux_yn', 'flask_yn', 'django_yn', 'tensorflow_yn',\n",
       "       'keras_yn', 'pytorch_yn', 'algo_yn', 'stats_yn', 'tableau_yn',\n",
       "       'job_type', 'job_type_num', 'seniority', 'seniority_num', 'len_desc',\n",
       "       'num_comp'],\n",
       "      dtype='object')"
      ]
     },
     "execution_count": 67,
     "metadata": {},
     "output_type": "execute_result"
    }
   ],
   "source": [
    "df.columns"
   ]
  },
  {
   "cell_type": "code",
   "execution_count": 68,
   "metadata": {},
   "outputs": [
    {
     "data": {
      "text/plain": [
       "<AxesSubplot:>"
      ]
     },
     "execution_count": 68,
     "metadata": {},
     "output_type": "execute_result"
    },
    {
     "data": {
      "image/png": "[encoded data removed]",
      "text/plain": [
       "<Figure size 432x288 with 2 Axes>"
      ]
     },
     "metadata": {
      "needs_background": "light"
     },
     "output_type": "display_data"
    }
   ],
   "source": [
    "import seaborn as sns\n",
    "cmap = sns.diverging_palette(220, 10, as_cmap=True)\n",
    "sns.heatmap(df[['age','avg_salary','Rating','len_desc','num_comp']].corr(),vmax=.3, center=0, cmap=cmap,\n",
    "            square=True, linewidths=.5, cbar_kws={\"shrink\": .5})"
   ]
  },
  {
   "cell_type": "code",
   "execution_count": 69,
   "metadata": {},
   "outputs": [],
   "source": [
    "import matplotlib.pyplot as plt\n",
    "import warnings\n",
    "warnings.filterwarnings('ignore')\n",
    "df_cat = df[['Job Title', 'Salary Estimate', 'Job Description', 'Rating',\n",
    "       'Company Name', 'Location', 'Headquarters', 'Size', 'Founded',\n",
    "       'Type of ownership', 'Industry', 'Sector', 'Revenue', 'Competitors',\n",
    "       'min_salary', 'max_salary', 'avg_salary', 'State', 'jobhq', 'age',\n",
    "       'python_yn', 'r_yn', 'aws_yn', 'spark_yn', 'hadoop_yn', 'docker_yn',\n",
    "       'sql_yn', 'linux_yn', 'flask_yn', 'django_yn', 'tensorflow_yn',\n",
    "       'keras_yn', 'pytorch_yn', 'algo_yn', 'stats_yn', 'tableau_yn',\n",
    "       'job_type', 'job_type_num', 'seniority', 'seniority_num']]"
   ]
  },
  {
   "cell_type": "code",
   "execution_count": 70,
   "metadata": {},
   "outputs": [
    {
     "name": "stdout",
     "output_type": "stream",
     "text": [
      "graph for Location: total = 20\n"
     ]
    },
    {
     "data": {
      "image/png": "[encoded data removed]",
      "text/plain": [
       "<Figure size 432x288 with 1 Axes>"
      ]
     },
     "metadata": {
      "needs_background": "light"
     },
     "output_type": "display_data"
    },
    {
     "name": "stdout",
     "output_type": "stream",
     "text": [
      "graph for Headquarters: total = 20\n"
     ]
    },
    {
     "data": {
      "image/png": "[encoded data removed]",
      "text/plain": [
       "<Figure size 432x288 with 1 Axes>"
      ]
     },
     "metadata": {
      "needs_background": "light"
     },
     "output_type": "display_data"
    }
   ],
   "source": [
    "for i in df_cat[['Location','Headquarters']].columns:\n",
    "    cat_num = df_cat[i].value_counts()[:20]\n",
    "    print(\"graph for %s: total = %d\" % (i, len(cat_num)))\n",
    "    chart = sns.barplot(x=cat_num.index, y=cat_num)\n",
    "    chart.set_xticklabels(chart.get_xticklabels(), rotation=90)\n",
    "    plt.show()"
   ]
  },
  {
   "cell_type": "code",
   "execution_count": 71,
   "metadata": {},
   "outputs": [
    {
     "data": {
      "text/plain": [
       "(940, 42)"
      ]
     },
     "execution_count": 71,
     "metadata": {},
     "output_type": "execute_result"
    }
   ],
   "source": [
    "df.shape"
   ]
  },
  {
   "cell_type": "markdown",
   "metadata": {},
   "source": [
    " so we have cleaned our data and added few more coloums and saving this into a new data frames"
   ]
  },
  {
   "cell_type": "code",
   "execution_count": 72,
   "metadata": {},
   "outputs": [],
   "source": [
    "from wordcloud import WordCloud, ImageColorGenerator, STOPWORDS\n",
    "from nltk.corpus import stopwords\n",
    "from nltk.tokenize import word_tokenize"
   ]
  },
  {
   "cell_type": "code",
   "execution_count": 75,
   "metadata": {},
   "outputs": [
    {
     "data": {
      "image/png": "[encoded data removed]",
      "text/plain": [
       "<Figure size 720x720 with 1 Axes>"
      ]
     },
     "metadata": {
      "needs_background": "light"
     },
     "output_type": "display_data"
    }
   ],
   "source": [
    "words = \" \".join(df['Job Description'])\n",
    "\n",
    "def punctuation_stop(text):\n",
    "    \"\"\"remove punctuation and stop words\"\"\"\n",
    "    filtered = []\n",
    "    stop_words = set(stopwords.words('english'))\n",
    "    word_tokens = word_tokenize(text)\n",
    "    for w in word_tokens:\n",
    "        if w not in stop_words and w.isalpha():\n",
    "            filtered.append(w.lower())\n",
    "    return filtered\n",
    "\n",
    "\n",
    "words_filtered = punctuation_stop(words)\n",
    "\n",
    "text = \" \".join([ele for ele in words_filtered])\n",
    "\n",
    "wc= WordCloud(background_color=\"white\", random_state=1,stopwords=STOPWORDS, max_words = 2000, width =500, height = 1000)\n",
    "wc.generate(text)\n",
    "\n",
    "plt.figure(figsize=[10,10])\n",
    "plt.imshow(wc,interpolation=\"bilinear\")\n",
    "plt.axis('off')\n",
    "plt.show()"
   ]
  },
  {
   "cell_type": "code",
   "execution_count": 74,
   "metadata": {},
   "outputs": [],
   "source": [
    "#df.to_csv('glassdoor_jobs_cleaned.csv',index=False)"
   ]
  },
  {
   "cell_type": "code",
   "execution_count": null,
   "metadata": {},
   "outputs": [],
   "source": []
  }
 ],
 "metadata": {
  "kernelspec": {
   "display_name": "Python 3",
   "language": "python",
   "name": "python3"
  },
  "language_info": {
   "codemirror_mode": {
    "name": "ipython",
    "version": 3
   },
   "file_extension": ".py",
   "mimetype": "text/x-python",
   "name": "python",
   "nbconvert_exporter": "python",
   "pygments_lexer": "ipython3",
   "version": "3.8.5"
  }
 },
 "nbformat": 4,
 "nbformat_minor": 5
}
